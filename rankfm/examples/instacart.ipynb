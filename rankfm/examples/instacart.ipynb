{
 "cells": [
  {
   "cell_type": "markdown",
   "metadata": {},
   "source": [
    "### Import Required Packages and Set Options"
   ]
  },
  {
   "cell_type": "markdown",
   "metadata": {},
   "source": [
    "#### Import Base Libraries"
   ]
  },
  {
   "cell_type": "code",
   "execution_count": 1,
   "metadata": {},
   "outputs": [],
   "source": [
    "import os\n",
    "import sys\n",
    "import git\n",
    "import random\n",
    "\n",
    "import numpy as np\n",
    "import numba as nb\n",
    "import pandas as pd\n",
    "from scipy.sparse import csr_matrix\n",
    "\n",
    "import matplotlib.pyplot as plt\n",
    "import seaborn as sns"
   ]
  },
  {
   "cell_type": "code",
   "execution_count": 2,
   "metadata": {},
   "outputs": [],
   "source": [
    "pd.set_option('display.max_rows', 500)\n",
    "pd.set_option('display.float_format', '{:.3f}'.format)\n",
    "\n",
    "sns.set_style('whitegrid')\n",
    "plt.rcParams['axes.titlesize'] = 14\n",
    "plt.rcParams['axes.labelsize'] = 12\n",
    "plt.rcParams['xtick.labelsize'] = 12\n",
    "plt.rcParams['ytick.labelsize'] = 12\n",
    "# plt.rcParams"
   ]
  },
  {
   "cell_type": "markdown",
   "metadata": {},
   "source": [
    "#### Put the Main Package Library on the PYTHONPATH"
   ]
  },
  {
   "cell_type": "code",
   "execution_count": 3,
   "metadata": {},
   "outputs": [
    {
     "data": {
      "text/plain": [
       "['/Users/ericlundquist/Repos/rankfm',\n",
       " '/Users/ericlundquist/Repos/rankfm/rankfm']"
      ]
     },
     "execution_count": 3,
     "metadata": {},
     "output_type": "execute_result"
    }
   ],
   "source": [
    "git_repo = git.Repo('.', search_parent_directories=True)\n",
    "git_root = git_repo.git.rev_parse('--show-toplevel')\n",
    "cython_path = os.path.join(git_root, 'rankfm')\n",
    "\n",
    "sys.path[0] = git_root\n",
    "sys.path[1] = cython_path\n",
    "sys.path[:2]"
   ]
  },
  {
   "cell_type": "markdown",
   "metadata": {},
   "source": [
    "#### Re-Compile Cython Extension Module"
   ]
  },
  {
   "cell_type": "code",
   "execution_count": 4,
   "metadata": {},
   "outputs": [
    {
     "name": "stdout",
     "output_type": "stream",
     "text": [
      "building extensions with pre-generated C source...\n",
      "running build_ext\n",
      "copying build/lib.macosx-10.7-x86_64-3.7/rankfm/_rankfm.cpython-37m-darwin.so -> rankfm\n"
     ]
    }
   ],
   "source": [
    "!cd $git_root && python setup.py build_ext --inplace"
   ]
  },
  {
   "cell_type": "markdown",
   "metadata": {},
   "source": [
    "#### Dynamically Re-Load all Package Modules on Execution"
   ]
  },
  {
   "cell_type": "code",
   "execution_count": 5,
   "metadata": {},
   "outputs": [],
   "source": [
    "%load_ext autoreload\n",
    "%autoreload 2\n",
    "\n",
    "from rankfm.rankfm import RankFM\n",
    "from rankfm.evaluation import hit_rate, reciprocal_rank, discounted_cumulative_gain, precision, recall, diversity"
   ]
  },
  {
   "cell_type": "markdown",
   "metadata": {},
   "source": [
    "#### Set File Path Constants"
   ]
  },
  {
   "cell_type": "code",
   "execution_count": 6,
   "metadata": {},
   "outputs": [
    {
     "name": "stdout",
     "output_type": "stream",
     "text": [
      "/Users/ericlundquist/Repos/rankfm\n",
      "/Users/ericlundquist/Repos/rankfm/data/instacart_2017_05_01\n"
     ]
    }
   ],
   "source": [
    "data_path = os.path.join(git_root, \"data/instacart_2017_05_01\")\n",
    "print(\"\\n\".join([git_root, data_path]))"
   ]
  },
  {
   "cell_type": "markdown",
   "metadata": {},
   "source": [
    "### Prepare Example Data\n",
    "* this data comes from https://www.instacart.com/datasets/grocery-shopping-2017\n",
    "* Instacart open-sourced an anonymized version of their grocery store shopping data for research/kaggle purposes"
   ]
  },
  {
   "cell_type": "markdown",
   "metadata": {},
   "source": [
    "#### Load Departments Data"
   ]
  },
  {
   "cell_type": "code",
   "execution_count": 7,
   "metadata": {},
   "outputs": [
    {
     "name": "stdout",
     "output_type": "stream",
     "text": [
      "<class 'pandas.core.frame.DataFrame'>\n",
      "RangeIndex: 21 entries, 0 to 20\n",
      "Data columns (total 2 columns):\n",
      "department_id    21 non-null uint8\n",
      "department       21 non-null object\n",
      "dtypes: object(1), uint8(1)\n",
      "memory usage: 269.0+ bytes\n"
     ]
    },
    {
     "data": {
      "text/html": [
       "<div>\n",
       "<style scoped>\n",
       "    .dataframe tbody tr th:only-of-type {\n",
       "        vertical-align: middle;\n",
       "    }\n",
       "\n",
       "    .dataframe tbody tr th {\n",
       "        vertical-align: top;\n",
       "    }\n",
       "\n",
       "    .dataframe thead th {\n",
       "        text-align: right;\n",
       "    }\n",
       "</style>\n",
       "<table border=\"1\" class=\"dataframe\">\n",
       "  <thead>\n",
       "    <tr style=\"text-align: right;\">\n",
       "      <th></th>\n",
       "      <th>department_id</th>\n",
       "      <th>department</th>\n",
       "    </tr>\n",
       "  </thead>\n",
       "  <tbody>\n",
       "    <tr>\n",
       "      <th>0</th>\n",
       "      <td>1</td>\n",
       "      <td>frozen</td>\n",
       "    </tr>\n",
       "    <tr>\n",
       "      <th>1</th>\n",
       "      <td>2</td>\n",
       "      <td>other</td>\n",
       "    </tr>\n",
       "    <tr>\n",
       "      <th>2</th>\n",
       "      <td>3</td>\n",
       "      <td>bakery</td>\n",
       "    </tr>\n",
       "    <tr>\n",
       "      <th>3</th>\n",
       "      <td>4</td>\n",
       "      <td>produce</td>\n",
       "    </tr>\n",
       "    <tr>\n",
       "      <th>4</th>\n",
       "      <td>5</td>\n",
       "      <td>alcohol</td>\n",
       "    </tr>\n",
       "  </tbody>\n",
       "</table>\n",
       "</div>"
      ],
      "text/plain": [
       "   department_id department\n",
       "0              1     frozen\n",
       "1              2      other\n",
       "2              3     bakery\n",
       "3              4    produce\n",
       "4              5    alcohol"
      ]
     },
     "execution_count": 7,
     "metadata": {},
     "output_type": "execute_result"
    }
   ],
   "source": [
    "departments_df = pd.read_csv(os.path.join(data_path, 'departments.csv'))\n",
    "departments_df['department_id'] = departments_df['department_id'].astype(np.uint8)\n",
    "departments_df.info()\n",
    "departments_df.head()"
   ]
  },
  {
   "cell_type": "markdown",
   "metadata": {},
   "source": [
    "#### Load Aisles Data"
   ]
  },
  {
   "cell_type": "code",
   "execution_count": 8,
   "metadata": {},
   "outputs": [
    {
     "name": "stdout",
     "output_type": "stream",
     "text": [
      "<class 'pandas.core.frame.DataFrame'>\n",
      "RangeIndex: 134 entries, 0 to 133\n",
      "Data columns (total 2 columns):\n",
      "aisle_id    134 non-null uint8\n",
      "aisle       134 non-null object\n",
      "dtypes: object(1), uint8(1)\n",
      "memory usage: 1.3+ KB\n"
     ]
    },
    {
     "data": {
      "text/html": [
       "<div>\n",
       "<style scoped>\n",
       "    .dataframe tbody tr th:only-of-type {\n",
       "        vertical-align: middle;\n",
       "    }\n",
       "\n",
       "    .dataframe tbody tr th {\n",
       "        vertical-align: top;\n",
       "    }\n",
       "\n",
       "    .dataframe thead th {\n",
       "        text-align: right;\n",
       "    }\n",
       "</style>\n",
       "<table border=\"1\" class=\"dataframe\">\n",
       "  <thead>\n",
       "    <tr style=\"text-align: right;\">\n",
       "      <th></th>\n",
       "      <th>aisle_id</th>\n",
       "      <th>aisle</th>\n",
       "    </tr>\n",
       "  </thead>\n",
       "  <tbody>\n",
       "    <tr>\n",
       "      <th>0</th>\n",
       "      <td>1</td>\n",
       "      <td>prepared soups salads</td>\n",
       "    </tr>\n",
       "    <tr>\n",
       "      <th>1</th>\n",
       "      <td>2</td>\n",
       "      <td>specialty cheeses</td>\n",
       "    </tr>\n",
       "    <tr>\n",
       "      <th>2</th>\n",
       "      <td>3</td>\n",
       "      <td>energy granola bars</td>\n",
       "    </tr>\n",
       "    <tr>\n",
       "      <th>3</th>\n",
       "      <td>4</td>\n",
       "      <td>instant foods</td>\n",
       "    </tr>\n",
       "    <tr>\n",
       "      <th>4</th>\n",
       "      <td>5</td>\n",
       "      <td>marinades meat preparation</td>\n",
       "    </tr>\n",
       "  </tbody>\n",
       "</table>\n",
       "</div>"
      ],
      "text/plain": [
       "   aisle_id                       aisle\n",
       "0         1       prepared soups salads\n",
       "1         2           specialty cheeses\n",
       "2         3         energy granola bars\n",
       "3         4               instant foods\n",
       "4         5  marinades meat preparation"
      ]
     },
     "execution_count": 8,
     "metadata": {},
     "output_type": "execute_result"
    }
   ],
   "source": [
    "aisles_df = pd.read_csv(os.path.join(data_path, 'aisles.csv'))\n",
    "aisles_df['aisle_id'] = aisles_df['aisle_id'].astype(np.uint8)\n",
    "aisles_df.info()\n",
    "aisles_df.head()"
   ]
  },
  {
   "cell_type": "markdown",
   "metadata": {},
   "source": [
    "#### Load Products Data"
   ]
  },
  {
   "cell_type": "code",
   "execution_count": 9,
   "metadata": {},
   "outputs": [
    {
     "name": "stdout",
     "output_type": "stream",
     "text": [
      "<class 'pandas.core.frame.DataFrame'>\n",
      "RangeIndex: 49688 entries, 0 to 49687\n",
      "Data columns (total 4 columns):\n",
      "product_id       49688 non-null int32\n",
      "product_name     49688 non-null object\n",
      "aisle_id         49688 non-null uint8\n",
      "department_id    49688 non-null uint8\n",
      "dtypes: int32(1), object(1), uint8(2)\n",
      "memory usage: 679.4+ KB\n"
     ]
    },
    {
     "data": {
      "text/html": [
       "<div>\n",
       "<style scoped>\n",
       "    .dataframe tbody tr th:only-of-type {\n",
       "        vertical-align: middle;\n",
       "    }\n",
       "\n",
       "    .dataframe tbody tr th {\n",
       "        vertical-align: top;\n",
       "    }\n",
       "\n",
       "    .dataframe thead th {\n",
       "        text-align: right;\n",
       "    }\n",
       "</style>\n",
       "<table border=\"1\" class=\"dataframe\">\n",
       "  <thead>\n",
       "    <tr style=\"text-align: right;\">\n",
       "      <th></th>\n",
       "      <th>product_id</th>\n",
       "      <th>product_name</th>\n",
       "      <th>aisle_id</th>\n",
       "      <th>department_id</th>\n",
       "    </tr>\n",
       "  </thead>\n",
       "  <tbody>\n",
       "    <tr>\n",
       "      <th>0</th>\n",
       "      <td>1</td>\n",
       "      <td>Chocolate Sandwich Cookies</td>\n",
       "      <td>61</td>\n",
       "      <td>19</td>\n",
       "    </tr>\n",
       "    <tr>\n",
       "      <th>1</th>\n",
       "      <td>2</td>\n",
       "      <td>All-Seasons Salt</td>\n",
       "      <td>104</td>\n",
       "      <td>13</td>\n",
       "    </tr>\n",
       "    <tr>\n",
       "      <th>2</th>\n",
       "      <td>3</td>\n",
       "      <td>Robust Golden Unsweetened Oolong Tea</td>\n",
       "      <td>94</td>\n",
       "      <td>7</td>\n",
       "    </tr>\n",
       "    <tr>\n",
       "      <th>3</th>\n",
       "      <td>4</td>\n",
       "      <td>Smart Ones Classic Favorites Mini Rigatoni Wit...</td>\n",
       "      <td>38</td>\n",
       "      <td>1</td>\n",
       "    </tr>\n",
       "    <tr>\n",
       "      <th>4</th>\n",
       "      <td>5</td>\n",
       "      <td>Green Chile Anytime Sauce</td>\n",
       "      <td>5</td>\n",
       "      <td>13</td>\n",
       "    </tr>\n",
       "  </tbody>\n",
       "</table>\n",
       "</div>"
      ],
      "text/plain": [
       "   product_id                                       product_name  aisle_id  \\\n",
       "0           1                         Chocolate Sandwich Cookies        61   \n",
       "1           2                                   All-Seasons Salt       104   \n",
       "2           3               Robust Golden Unsweetened Oolong Tea        94   \n",
       "3           4  Smart Ones Classic Favorites Mini Rigatoni Wit...        38   \n",
       "4           5                          Green Chile Anytime Sauce         5   \n",
       "\n",
       "   department_id  \n",
       "0             19  \n",
       "1             13  \n",
       "2              7  \n",
       "3              1  \n",
       "4             13  "
      ]
     },
     "execution_count": 9,
     "metadata": {},
     "output_type": "execute_result"
    }
   ],
   "source": [
    "products_dtypes = {\n",
    "    'product_id': np.int32, \n",
    "    'product_name': str, \n",
    "    'aisle_id': np.uint8, \n",
    "    'department_id': np.uint8\n",
    "}\n",
    "\n",
    "products_df = pd.read_csv(os.path.join(data_path, 'products.csv'), dtype=products_dtypes)\n",
    "products_df.info()\n",
    "products_df.head()"
   ]
  },
  {
   "cell_type": "markdown",
   "metadata": {},
   "source": [
    "#### Load Orders Data"
   ]
  },
  {
   "cell_type": "code",
   "execution_count": 10,
   "metadata": {},
   "outputs": [
    {
     "name": "stdout",
     "output_type": "stream",
     "text": [
      "<class 'pandas.core.frame.DataFrame'>\n",
      "RangeIndex: 3421083 entries, 0 to 3421082\n",
      "Data columns (total 7 columns):\n",
      "order_id                  int32\n",
      "user_id                   int32\n",
      "eval_set                  object\n",
      "order_number              uint8\n",
      "order_dow                 uint8\n",
      "order_hour_of_day         uint8\n",
      "days_since_prior_order    float64\n",
      "dtypes: float64(1), int32(2), object(1), uint8(3)\n",
      "memory usage: 88.1+ MB\n"
     ]
    },
    {
     "data": {
      "text/html": [
       "<div>\n",
       "<style scoped>\n",
       "    .dataframe tbody tr th:only-of-type {\n",
       "        vertical-align: middle;\n",
       "    }\n",
       "\n",
       "    .dataframe tbody tr th {\n",
       "        vertical-align: top;\n",
       "    }\n",
       "\n",
       "    .dataframe thead th {\n",
       "        text-align: right;\n",
       "    }\n",
       "</style>\n",
       "<table border=\"1\" class=\"dataframe\">\n",
       "  <thead>\n",
       "    <tr style=\"text-align: right;\">\n",
       "      <th></th>\n",
       "      <th>order_id</th>\n",
       "      <th>user_id</th>\n",
       "      <th>eval_set</th>\n",
       "      <th>order_number</th>\n",
       "      <th>order_dow</th>\n",
       "      <th>order_hour_of_day</th>\n",
       "      <th>days_since_prior_order</th>\n",
       "    </tr>\n",
       "  </thead>\n",
       "  <tbody>\n",
       "    <tr>\n",
       "      <th>0</th>\n",
       "      <td>2539329</td>\n",
       "      <td>1</td>\n",
       "      <td>prior</td>\n",
       "      <td>1</td>\n",
       "      <td>2</td>\n",
       "      <td>8</td>\n",
       "      <td>nan</td>\n",
       "    </tr>\n",
       "    <tr>\n",
       "      <th>1</th>\n",
       "      <td>2398795</td>\n",
       "      <td>1</td>\n",
       "      <td>prior</td>\n",
       "      <td>2</td>\n",
       "      <td>3</td>\n",
       "      <td>7</td>\n",
       "      <td>15.000</td>\n",
       "    </tr>\n",
       "    <tr>\n",
       "      <th>2</th>\n",
       "      <td>473747</td>\n",
       "      <td>1</td>\n",
       "      <td>prior</td>\n",
       "      <td>3</td>\n",
       "      <td>3</td>\n",
       "      <td>12</td>\n",
       "      <td>21.000</td>\n",
       "    </tr>\n",
       "    <tr>\n",
       "      <th>3</th>\n",
       "      <td>2254736</td>\n",
       "      <td>1</td>\n",
       "      <td>prior</td>\n",
       "      <td>4</td>\n",
       "      <td>4</td>\n",
       "      <td>7</td>\n",
       "      <td>29.000</td>\n",
       "    </tr>\n",
       "    <tr>\n",
       "      <th>4</th>\n",
       "      <td>431534</td>\n",
       "      <td>1</td>\n",
       "      <td>prior</td>\n",
       "      <td>5</td>\n",
       "      <td>4</td>\n",
       "      <td>15</td>\n",
       "      <td>28.000</td>\n",
       "    </tr>\n",
       "  </tbody>\n",
       "</table>\n",
       "</div>"
      ],
      "text/plain": [
       "   order_id  user_id eval_set  order_number  order_dow  order_hour_of_day  \\\n",
       "0   2539329        1    prior             1          2                  8   \n",
       "1   2398795        1    prior             2          3                  7   \n",
       "2    473747        1    prior             3          3                 12   \n",
       "3   2254736        1    prior             4          4                  7   \n",
       "4    431534        1    prior             5          4                 15   \n",
       "\n",
       "   days_since_prior_order  \n",
       "0                     nan  \n",
       "1                  15.000  \n",
       "2                  21.000  \n",
       "3                  29.000  \n",
       "4                  28.000  "
      ]
     },
     "execution_count": 10,
     "metadata": {},
     "output_type": "execute_result"
    }
   ],
   "source": [
    "orders_dtypes = {\n",
    "    'order_id': np.int32, \n",
    "    'user_id': np.int32, \n",
    "    'eval_set': str, \n",
    "    'order_number': np.uint8, \n",
    "    'order_dow': np.uint8, \n",
    "    'order_hour_of_day': np.uint8, \n",
    "    'days_since_prior': np.float32\n",
    "}\n",
    "\n",
    "orders_df = pd.read_csv(os.path.join(data_path, 'orders.csv'), dtype=orders_dtypes)\n",
    "orders_df.info()\n",
    "orders_df.head()"
   ]
  },
  {
   "cell_type": "code",
   "execution_count": 11,
   "metadata": {},
   "outputs": [
    {
     "data": {
      "text/html": [
       "<div>\n",
       "<style scoped>\n",
       "    .dataframe tbody tr th:only-of-type {\n",
       "        vertical-align: middle;\n",
       "    }\n",
       "\n",
       "    .dataframe tbody tr th {\n",
       "        vertical-align: top;\n",
       "    }\n",
       "\n",
       "    .dataframe thead th {\n",
       "        text-align: right;\n",
       "    }\n",
       "</style>\n",
       "<table border=\"1\" class=\"dataframe\">\n",
       "  <thead>\n",
       "    <tr style=\"text-align: right;\">\n",
       "      <th></th>\n",
       "      <th>order_id</th>\n",
       "      <th>user_id</th>\n",
       "      <th>order_number</th>\n",
       "      <th>order_dow</th>\n",
       "      <th>order_hour_of_day</th>\n",
       "      <th>days_since_prior_order</th>\n",
       "    </tr>\n",
       "  </thead>\n",
       "  <tbody>\n",
       "    <tr>\n",
       "      <th>count</th>\n",
       "      <td>3421083.000</td>\n",
       "      <td>3421083.000</td>\n",
       "      <td>3421083.000</td>\n",
       "      <td>3421083.000</td>\n",
       "      <td>3421083.000</td>\n",
       "      <td>3214874.000</td>\n",
       "    </tr>\n",
       "    <tr>\n",
       "      <th>mean</th>\n",
       "      <td>1710542.000</td>\n",
       "      <td>102978.208</td>\n",
       "      <td>17.155</td>\n",
       "      <td>2.776</td>\n",
       "      <td>13.452</td>\n",
       "      <td>11.115</td>\n",
       "    </tr>\n",
       "    <tr>\n",
       "      <th>std</th>\n",
       "      <td>987581.740</td>\n",
       "      <td>59533.718</td>\n",
       "      <td>17.733</td>\n",
       "      <td>2.047</td>\n",
       "      <td>4.226</td>\n",
       "      <td>9.207</td>\n",
       "    </tr>\n",
       "    <tr>\n",
       "      <th>min</th>\n",
       "      <td>1.000</td>\n",
       "      <td>1.000</td>\n",
       "      <td>1.000</td>\n",
       "      <td>0.000</td>\n",
       "      <td>0.000</td>\n",
       "      <td>0.000</td>\n",
       "    </tr>\n",
       "    <tr>\n",
       "      <th>25%</th>\n",
       "      <td>855271.500</td>\n",
       "      <td>51394.000</td>\n",
       "      <td>5.000</td>\n",
       "      <td>1.000</td>\n",
       "      <td>10.000</td>\n",
       "      <td>4.000</td>\n",
       "    </tr>\n",
       "    <tr>\n",
       "      <th>50%</th>\n",
       "      <td>1710542.000</td>\n",
       "      <td>102689.000</td>\n",
       "      <td>11.000</td>\n",
       "      <td>3.000</td>\n",
       "      <td>13.000</td>\n",
       "      <td>7.000</td>\n",
       "    </tr>\n",
       "    <tr>\n",
       "      <th>75%</th>\n",
       "      <td>2565812.500</td>\n",
       "      <td>154385.000</td>\n",
       "      <td>23.000</td>\n",
       "      <td>5.000</td>\n",
       "      <td>16.000</td>\n",
       "      <td>15.000</td>\n",
       "    </tr>\n",
       "    <tr>\n",
       "      <th>max</th>\n",
       "      <td>3421083.000</td>\n",
       "      <td>206209.000</td>\n",
       "      <td>100.000</td>\n",
       "      <td>6.000</td>\n",
       "      <td>23.000</td>\n",
       "      <td>30.000</td>\n",
       "    </tr>\n",
       "  </tbody>\n",
       "</table>\n",
       "</div>"
      ],
      "text/plain": [
       "         order_id     user_id  order_number   order_dow  order_hour_of_day  \\\n",
       "count 3421083.000 3421083.000   3421083.000 3421083.000        3421083.000   \n",
       "mean  1710542.000  102978.208        17.155       2.776             13.452   \n",
       "std    987581.740   59533.718        17.733       2.047              4.226   \n",
       "min         1.000       1.000         1.000       0.000              0.000   \n",
       "25%    855271.500   51394.000         5.000       1.000             10.000   \n",
       "50%   1710542.000  102689.000        11.000       3.000             13.000   \n",
       "75%   2565812.500  154385.000        23.000       5.000             16.000   \n",
       "max   3421083.000  206209.000       100.000       6.000             23.000   \n",
       "\n",
       "       days_since_prior_order  \n",
       "count             3214874.000  \n",
       "mean                   11.115  \n",
       "std                     9.207  \n",
       "min                     0.000  \n",
       "25%                     4.000  \n",
       "50%                     7.000  \n",
       "75%                    15.000  \n",
       "max                    30.000  "
      ]
     },
     "execution_count": 11,
     "metadata": {},
     "output_type": "execute_result"
    }
   ],
   "source": [
    "orders_df.describe()"
   ]
  },
  {
   "cell_type": "markdown",
   "metadata": {},
   "source": [
    "#### Load Order Products (Items within Each Order) Data"
   ]
  },
  {
   "cell_type": "code",
   "execution_count": 12,
   "metadata": {},
   "outputs": [
    {
     "name": "stdout",
     "output_type": "stream",
     "text": [
      "<class 'pandas.core.frame.DataFrame'>\n",
      "RangeIndex: 32434489 entries, 0 to 32434488\n",
      "Data columns (total 4 columns):\n",
      "order_id             int32\n",
      "product_id           int32\n",
      "add_to_cart_order    uint8\n",
      "reordered            uint8\n",
      "dtypes: int32(2), uint8(2)\n",
      "memory usage: 309.3 MB\n"
     ]
    },
    {
     "data": {
      "text/html": [
       "<div>\n",
       "<style scoped>\n",
       "    .dataframe tbody tr th:only-of-type {\n",
       "        vertical-align: middle;\n",
       "    }\n",
       "\n",
       "    .dataframe tbody tr th {\n",
       "        vertical-align: top;\n",
       "    }\n",
       "\n",
       "    .dataframe thead th {\n",
       "        text-align: right;\n",
       "    }\n",
       "</style>\n",
       "<table border=\"1\" class=\"dataframe\">\n",
       "  <thead>\n",
       "    <tr style=\"text-align: right;\">\n",
       "      <th></th>\n",
       "      <th>order_id</th>\n",
       "      <th>product_id</th>\n",
       "      <th>add_to_cart_order</th>\n",
       "      <th>reordered</th>\n",
       "    </tr>\n",
       "  </thead>\n",
       "  <tbody>\n",
       "    <tr>\n",
       "      <th>0</th>\n",
       "      <td>2</td>\n",
       "      <td>33120</td>\n",
       "      <td>1</td>\n",
       "      <td>1</td>\n",
       "    </tr>\n",
       "    <tr>\n",
       "      <th>1</th>\n",
       "      <td>2</td>\n",
       "      <td>28985</td>\n",
       "      <td>2</td>\n",
       "      <td>1</td>\n",
       "    </tr>\n",
       "    <tr>\n",
       "      <th>2</th>\n",
       "      <td>2</td>\n",
       "      <td>9327</td>\n",
       "      <td>3</td>\n",
       "      <td>0</td>\n",
       "    </tr>\n",
       "    <tr>\n",
       "      <th>3</th>\n",
       "      <td>2</td>\n",
       "      <td>45918</td>\n",
       "      <td>4</td>\n",
       "      <td>1</td>\n",
       "    </tr>\n",
       "    <tr>\n",
       "      <th>4</th>\n",
       "      <td>2</td>\n",
       "      <td>30035</td>\n",
       "      <td>5</td>\n",
       "      <td>0</td>\n",
       "    </tr>\n",
       "  </tbody>\n",
       "</table>\n",
       "</div>"
      ],
      "text/plain": [
       "   order_id  product_id  add_to_cart_order  reordered\n",
       "0         2       33120                  1          1\n",
       "1         2       28985                  2          1\n",
       "2         2        9327                  3          0\n",
       "3         2       45918                  4          1\n",
       "4         2       30035                  5          0"
      ]
     },
     "execution_count": 12,
     "metadata": {},
     "output_type": "execute_result"
    }
   ],
   "source": [
    "order_product_dtypes = {\n",
    "    'order_id': np.int32, \n",
    "    'product_id': np.int32, \n",
    "    'add_to_cart_order': np.uint8,\n",
    "    'reordered': np.uint8\n",
    "}\n",
    "\n",
    "order_products_df = pd.read_csv(os.path.join(data_path, 'order_products__prior.csv'), dtype=order_product_dtypes)\n",
    "order_products_df.info()\n",
    "order_products_df.head()"
   ]
  },
  {
   "cell_type": "code",
   "execution_count": 13,
   "metadata": {},
   "outputs": [
    {
     "data": {
      "text/html": [
       "<div>\n",
       "<style scoped>\n",
       "    .dataframe tbody tr th:only-of-type {\n",
       "        vertical-align: middle;\n",
       "    }\n",
       "\n",
       "    .dataframe tbody tr th {\n",
       "        vertical-align: top;\n",
       "    }\n",
       "\n",
       "    .dataframe thead th {\n",
       "        text-align: right;\n",
       "    }\n",
       "</style>\n",
       "<table border=\"1\" class=\"dataframe\">\n",
       "  <thead>\n",
       "    <tr style=\"text-align: right;\">\n",
       "      <th></th>\n",
       "      <th>order_id</th>\n",
       "      <th>product_id</th>\n",
       "      <th>add_to_cart_order</th>\n",
       "      <th>reordered</th>\n",
       "    </tr>\n",
       "  </thead>\n",
       "  <tbody>\n",
       "    <tr>\n",
       "      <th>count</th>\n",
       "      <td>32434489.000</td>\n",
       "      <td>32434489.000</td>\n",
       "      <td>32434489.000</td>\n",
       "      <td>32434489.000</td>\n",
       "    </tr>\n",
       "    <tr>\n",
       "      <th>mean</th>\n",
       "      <td>1710748.519</td>\n",
       "      <td>25576.338</td>\n",
       "      <td>8.351</td>\n",
       "      <td>0.590</td>\n",
       "    </tr>\n",
       "    <tr>\n",
       "      <th>std</th>\n",
       "      <td>987300.696</td>\n",
       "      <td>14096.689</td>\n",
       "      <td>7.127</td>\n",
       "      <td>0.492</td>\n",
       "    </tr>\n",
       "    <tr>\n",
       "      <th>min</th>\n",
       "      <td>2.000</td>\n",
       "      <td>1.000</td>\n",
       "      <td>1.000</td>\n",
       "      <td>0.000</td>\n",
       "    </tr>\n",
       "    <tr>\n",
       "      <th>25%</th>\n",
       "      <td>855943.000</td>\n",
       "      <td>13530.000</td>\n",
       "      <td>3.000</td>\n",
       "      <td>0.000</td>\n",
       "    </tr>\n",
       "    <tr>\n",
       "      <th>50%</th>\n",
       "      <td>1711048.000</td>\n",
       "      <td>25256.000</td>\n",
       "      <td>6.000</td>\n",
       "      <td>1.000</td>\n",
       "    </tr>\n",
       "    <tr>\n",
       "      <th>75%</th>\n",
       "      <td>2565514.000</td>\n",
       "      <td>37935.000</td>\n",
       "      <td>11.000</td>\n",
       "      <td>1.000</td>\n",
       "    </tr>\n",
       "    <tr>\n",
       "      <th>max</th>\n",
       "      <td>3421083.000</td>\n",
       "      <td>49688.000</td>\n",
       "      <td>145.000</td>\n",
       "      <td>1.000</td>\n",
       "    </tr>\n",
       "  </tbody>\n",
       "</table>\n",
       "</div>"
      ],
      "text/plain": [
       "          order_id   product_id  add_to_cart_order    reordered\n",
       "count 32434489.000 32434489.000       32434489.000 32434489.000\n",
       "mean   1710748.519    25576.338              8.351        0.590\n",
       "std     987300.696    14096.689              7.127        0.492\n",
       "min          2.000        1.000              1.000        0.000\n",
       "25%     855943.000    13530.000              3.000        0.000\n",
       "50%    1711048.000    25256.000              6.000        1.000\n",
       "75%    2565514.000    37935.000             11.000        1.000\n",
       "max    3421083.000    49688.000            145.000        1.000"
      ]
     },
     "execution_count": 13,
     "metadata": {},
     "output_type": "execute_result"
    }
   ],
   "source": [
    "order_products_df.describe()"
   ]
  },
  {
   "cell_type": "markdown",
   "metadata": {},
   "source": [
    "#### Create a User/Item Interaction Data Set"
   ]
  },
  {
   "cell_type": "code",
   "execution_count": 14,
   "metadata": {},
   "outputs": [
    {
     "name": "stdout",
     "output_type": "stream",
     "text": [
      "<class 'pandas.core.frame.DataFrame'>\n",
      "Int64Index: 32434489 entries, 0 to 32434488\n",
      "Data columns (total 3 columns):\n",
      "user_id       int32\n",
      "product_id    int32\n",
      "order_id      int32\n",
      "dtypes: int32(3)\n",
      "memory usage: 618.6 MB\n"
     ]
    },
    {
     "data": {
      "text/html": [
       "<div>\n",
       "<style scoped>\n",
       "    .dataframe tbody tr th:only-of-type {\n",
       "        vertical-align: middle;\n",
       "    }\n",
       "\n",
       "    .dataframe tbody tr th {\n",
       "        vertical-align: top;\n",
       "    }\n",
       "\n",
       "    .dataframe thead th {\n",
       "        text-align: right;\n",
       "    }\n",
       "</style>\n",
       "<table border=\"1\" class=\"dataframe\">\n",
       "  <thead>\n",
       "    <tr style=\"text-align: right;\">\n",
       "      <th></th>\n",
       "      <th>user_id</th>\n",
       "      <th>product_id</th>\n",
       "      <th>order_id</th>\n",
       "    </tr>\n",
       "  </thead>\n",
       "  <tbody>\n",
       "    <tr>\n",
       "      <th>0</th>\n",
       "      <td>1</td>\n",
       "      <td>196</td>\n",
       "      <td>2539329</td>\n",
       "    </tr>\n",
       "    <tr>\n",
       "      <th>1</th>\n",
       "      <td>1</td>\n",
       "      <td>14084</td>\n",
       "      <td>2539329</td>\n",
       "    </tr>\n",
       "    <tr>\n",
       "      <th>2</th>\n",
       "      <td>1</td>\n",
       "      <td>12427</td>\n",
       "      <td>2539329</td>\n",
       "    </tr>\n",
       "    <tr>\n",
       "      <th>3</th>\n",
       "      <td>1</td>\n",
       "      <td>26088</td>\n",
       "      <td>2539329</td>\n",
       "    </tr>\n",
       "    <tr>\n",
       "      <th>4</th>\n",
       "      <td>1</td>\n",
       "      <td>26405</td>\n",
       "      <td>2539329</td>\n",
       "    </tr>\n",
       "  </tbody>\n",
       "</table>\n",
       "</div>"
      ],
      "text/plain": [
       "   user_id  product_id  order_id\n",
       "0        1         196   2539329\n",
       "1        1       14084   2539329\n",
       "2        1       12427   2539329\n",
       "3        1       26088   2539329\n",
       "4        1       26405   2539329"
      ]
     },
     "execution_count": 14,
     "metadata": {},
     "output_type": "execute_result"
    }
   ],
   "source": [
    "orders_cols = ['order_id', 'user_id']\n",
    "order_products_cols = ['order_id', 'product_id']\n",
    "interaction_cols = ['user_id', 'product_id', 'order_id']\n",
    "\n",
    "interactions = pd.merge(orders_df[orders_cols], order_products_df[order_products_cols], on='order_id', how='inner')\n",
    "interactions = interactions[interaction_cols]\n",
    "\n",
    "interactions.info()\n",
    "interactions.head()"
   ]
  },
  {
   "cell_type": "markdown",
   "metadata": {},
   "source": [
    "#### Create an Item Features Data Set"
   ]
  },
  {
   "cell_type": "code",
   "execution_count": 15,
   "metadata": {},
   "outputs": [
    {
     "data": {
      "text/html": [
       "<div>\n",
       "<style scoped>\n",
       "    .dataframe tbody tr th:only-of-type {\n",
       "        vertical-align: middle;\n",
       "    }\n",
       "\n",
       "    .dataframe tbody tr th {\n",
       "        vertical-align: top;\n",
       "    }\n",
       "\n",
       "    .dataframe thead th {\n",
       "        text-align: right;\n",
       "    }\n",
       "</style>\n",
       "<table border=\"1\" class=\"dataframe\">\n",
       "  <thead>\n",
       "    <tr style=\"text-align: right;\">\n",
       "      <th></th>\n",
       "      <th>product_id</th>\n",
       "      <th>aisle_id_1</th>\n",
       "      <th>aisle_id_2</th>\n",
       "      <th>aisle_id_3</th>\n",
       "      <th>aisle_id_4</th>\n",
       "      <th>aisle_id_5</th>\n",
       "      <th>aisle_id_6</th>\n",
       "      <th>aisle_id_7</th>\n",
       "      <th>aisle_id_8</th>\n",
       "      <th>aisle_id_9</th>\n",
       "      <th>...</th>\n",
       "      <th>aisle_id_125</th>\n",
       "      <th>aisle_id_126</th>\n",
       "      <th>aisle_id_127</th>\n",
       "      <th>aisle_id_128</th>\n",
       "      <th>aisle_id_129</th>\n",
       "      <th>aisle_id_130</th>\n",
       "      <th>aisle_id_131</th>\n",
       "      <th>aisle_id_132</th>\n",
       "      <th>aisle_id_133</th>\n",
       "      <th>aisle_id_134</th>\n",
       "    </tr>\n",
       "  </thead>\n",
       "  <tbody>\n",
       "    <tr>\n",
       "      <th>0</th>\n",
       "      <td>1</td>\n",
       "      <td>0</td>\n",
       "      <td>0</td>\n",
       "      <td>0</td>\n",
       "      <td>0</td>\n",
       "      <td>0</td>\n",
       "      <td>0</td>\n",
       "      <td>0</td>\n",
       "      <td>0</td>\n",
       "      <td>0</td>\n",
       "      <td>...</td>\n",
       "      <td>0</td>\n",
       "      <td>0</td>\n",
       "      <td>0</td>\n",
       "      <td>0</td>\n",
       "      <td>0</td>\n",
       "      <td>0</td>\n",
       "      <td>0</td>\n",
       "      <td>0</td>\n",
       "      <td>0</td>\n",
       "      <td>0</td>\n",
       "    </tr>\n",
       "    <tr>\n",
       "      <th>1</th>\n",
       "      <td>2</td>\n",
       "      <td>0</td>\n",
       "      <td>0</td>\n",
       "      <td>0</td>\n",
       "      <td>0</td>\n",
       "      <td>0</td>\n",
       "      <td>0</td>\n",
       "      <td>0</td>\n",
       "      <td>0</td>\n",
       "      <td>0</td>\n",
       "      <td>...</td>\n",
       "      <td>0</td>\n",
       "      <td>0</td>\n",
       "      <td>0</td>\n",
       "      <td>0</td>\n",
       "      <td>0</td>\n",
       "      <td>0</td>\n",
       "      <td>0</td>\n",
       "      <td>0</td>\n",
       "      <td>0</td>\n",
       "      <td>0</td>\n",
       "    </tr>\n",
       "    <tr>\n",
       "      <th>2</th>\n",
       "      <td>3</td>\n",
       "      <td>0</td>\n",
       "      <td>0</td>\n",
       "      <td>0</td>\n",
       "      <td>0</td>\n",
       "      <td>0</td>\n",
       "      <td>0</td>\n",
       "      <td>0</td>\n",
       "      <td>0</td>\n",
       "      <td>0</td>\n",
       "      <td>...</td>\n",
       "      <td>0</td>\n",
       "      <td>0</td>\n",
       "      <td>0</td>\n",
       "      <td>0</td>\n",
       "      <td>0</td>\n",
       "      <td>0</td>\n",
       "      <td>0</td>\n",
       "      <td>0</td>\n",
       "      <td>0</td>\n",
       "      <td>0</td>\n",
       "    </tr>\n",
       "    <tr>\n",
       "      <th>3</th>\n",
       "      <td>4</td>\n",
       "      <td>0</td>\n",
       "      <td>0</td>\n",
       "      <td>0</td>\n",
       "      <td>0</td>\n",
       "      <td>0</td>\n",
       "      <td>0</td>\n",
       "      <td>0</td>\n",
       "      <td>0</td>\n",
       "      <td>0</td>\n",
       "      <td>...</td>\n",
       "      <td>0</td>\n",
       "      <td>0</td>\n",
       "      <td>0</td>\n",
       "      <td>0</td>\n",
       "      <td>0</td>\n",
       "      <td>0</td>\n",
       "      <td>0</td>\n",
       "      <td>0</td>\n",
       "      <td>0</td>\n",
       "      <td>0</td>\n",
       "    </tr>\n",
       "    <tr>\n",
       "      <th>4</th>\n",
       "      <td>5</td>\n",
       "      <td>0</td>\n",
       "      <td>0</td>\n",
       "      <td>0</td>\n",
       "      <td>0</td>\n",
       "      <td>1</td>\n",
       "      <td>0</td>\n",
       "      <td>0</td>\n",
       "      <td>0</td>\n",
       "      <td>0</td>\n",
       "      <td>...</td>\n",
       "      <td>0</td>\n",
       "      <td>0</td>\n",
       "      <td>0</td>\n",
       "      <td>0</td>\n",
       "      <td>0</td>\n",
       "      <td>0</td>\n",
       "      <td>0</td>\n",
       "      <td>0</td>\n",
       "      <td>0</td>\n",
       "      <td>0</td>\n",
       "    </tr>\n",
       "  </tbody>\n",
       "</table>\n",
       "<p>5 rows × 135 columns</p>\n",
       "</div>"
      ],
      "text/plain": [
       "   product_id  aisle_id_1  aisle_id_2  aisle_id_3  aisle_id_4  aisle_id_5  \\\n",
       "0           1           0           0           0           0           0   \n",
       "1           2           0           0           0           0           0   \n",
       "2           3           0           0           0           0           0   \n",
       "3           4           0           0           0           0           0   \n",
       "4           5           0           0           0           0           1   \n",
       "\n",
       "   aisle_id_6  aisle_id_7  aisle_id_8  aisle_id_9  ...  aisle_id_125  \\\n",
       "0           0           0           0           0  ...             0   \n",
       "1           0           0           0           0  ...             0   \n",
       "2           0           0           0           0  ...             0   \n",
       "3           0           0           0           0  ...             0   \n",
       "4           0           0           0           0  ...             0   \n",
       "\n",
       "   aisle_id_126  aisle_id_127  aisle_id_128  aisle_id_129  aisle_id_130  \\\n",
       "0             0             0             0             0             0   \n",
       "1             0             0             0             0             0   \n",
       "2             0             0             0             0             0   \n",
       "3             0             0             0             0             0   \n",
       "4             0             0             0             0             0   \n",
       "\n",
       "   aisle_id_131  aisle_id_132  aisle_id_133  aisle_id_134  \n",
       "0             0             0             0             0  \n",
       "1             0             0             0             0  \n",
       "2             0             0             0             0  \n",
       "3             0             0             0             0  \n",
       "4             0             0             0             0  \n",
       "\n",
       "[5 rows x 135 columns]"
      ]
     },
     "execution_count": 15,
     "metadata": {},
     "output_type": "execute_result"
    }
   ],
   "source": [
    "item_features = pd.get_dummies(products_df[['product_id', 'aisle_id']], columns=['aisle_id'])\n",
    "item_features.head()"
   ]
  },
  {
   "cell_type": "markdown",
   "metadata": {},
   "source": [
    "### Do Some Basic EDA"
   ]
  },
  {
   "cell_type": "markdown",
   "metadata": {},
   "source": [
    "#### Cardinality"
   ]
  },
  {
   "cell_type": "code",
   "execution_count": 16,
   "metadata": {},
   "outputs": [],
   "source": [
    "n_departments = departments_df.department_id.nunique()\n",
    "n_aisles = aisles_df.aisle_id.nunique()\n",
    "\n",
    "n_users = interactions.user_id.nunique()\n",
    "n_items = interactions.product_id.nunique()\n",
    "n_orders = interactions.order_id.nunique()\n",
    "n_interactions = len(interactions)"
   ]
  },
  {
   "cell_type": "code",
   "execution_count": 17,
   "metadata": {},
   "outputs": [
    {
     "name": "stdout",
     "output_type": "stream",
     "text": [
      "departments: 21\n",
      "aisles: 134\n",
      "users: 206209\n",
      "items: 49677\n",
      "orders: 3214874\n",
      "interactions: 32434489\n"
     ]
    }
   ],
   "source": [
    "template = \"departments: {}\\naisles: {}\\nusers: {}\\nitems: {}\\norders: {}\\ninteractions: {}\"\n",
    "print(template.format(n_departments, n_aisles, n_users, n_items, n_orders, n_interactions))"
   ]
  },
  {
   "cell_type": "markdown",
   "metadata": {},
   "source": [
    "#### Key User/Item Distributions"
   ]
  },
  {
   "cell_type": "code",
   "execution_count": 18,
   "metadata": {},
   "outputs": [],
   "source": [
    "# number of items/orders by user\n",
    "cnt_item_user = interactions.groupby('user_id')['product_id'].nunique()\n",
    "cnt_order_user = interactions.groupby('user_id')['order_id'].nunique()\n",
    "\n",
    "# number of users/orders by item\n",
    "cnt_user_item = interactions.groupby('product_id')['user_id'].nunique()\n",
    "cnt_order_item = interactions.groupby('product_id')['order_id'].nunique()"
   ]
  },
  {
   "cell_type": "code",
   "execution_count": 19,
   "metadata": {},
   "outputs": [
    {
     "data": {
      "text/plain": [
       "count   206209.000\n",
       "mean        64.536\n",
       "std         56.592\n",
       "min          1.000\n",
       "5%           8.000\n",
       "10%         13.000\n",
       "25%         25.000\n",
       "50%         48.000\n",
       "75%         86.000\n",
       "90%        139.000\n",
       "95%        179.000\n",
       "max        726.000\n",
       "Name: product_id, dtype: float64"
      ]
     },
     "execution_count": 19,
     "metadata": {},
     "output_type": "execute_result"
    }
   ],
   "source": [
    "cnt_item_user.describe(percentiles=[0.05, 0.10, 0.25, 0.50, 0.75, 0.90, 0.95])"
   ]
  },
  {
   "cell_type": "code",
   "execution_count": 20,
   "metadata": {},
   "outputs": [
    {
     "data": {
      "text/plain": [
       "count   206209.000\n",
       "mean        15.590\n",
       "std         16.655\n",
       "min          3.000\n",
       "5%           3.000\n",
       "10%          3.000\n",
       "25%          5.000\n",
       "50%          9.000\n",
       "75%         19.000\n",
       "90%         37.000\n",
       "95%         51.000\n",
       "max         99.000\n",
       "Name: order_id, dtype: float64"
      ]
     },
     "execution_count": 20,
     "metadata": {},
     "output_type": "execute_result"
    }
   ],
   "source": [
    "cnt_order_user.describe(percentiles=[0.05, 0.10, 0.25, 0.50, 0.75, 0.90, 0.95])"
   ]
  },
  {
   "cell_type": "code",
   "execution_count": 21,
   "metadata": {},
   "outputs": [
    {
     "data": {
      "text/plain": [
       "count   49677.000\n",
       "mean      267.890\n",
       "std      1308.789\n",
       "min         1.000\n",
       "5%          4.000\n",
       "10%         5.000\n",
       "25%        11.000\n",
       "50%        35.000\n",
       "75%       137.000\n",
       "90%       491.000\n",
       "95%      1026.200\n",
       "max     73956.000\n",
       "Name: user_id, dtype: float64"
      ]
     },
     "execution_count": 21,
     "metadata": {},
     "output_type": "execute_result"
    }
   ],
   "source": [
    "cnt_user_item.describe(percentiles=[0.05, 0.10, 0.25, 0.50, 0.75, 0.90, 0.95])"
   ]
  },
  {
   "cell_type": "code",
   "execution_count": 22,
   "metadata": {},
   "outputs": [
    {
     "data": {
      "text/plain": [
       "count    49677.000\n",
       "mean       652.908\n",
       "std       4792.114\n",
       "min          1.000\n",
       "5%           5.000\n",
       "10%          7.000\n",
       "25%         17.000\n",
       "50%         60.000\n",
       "75%        260.000\n",
       "90%       1021.000\n",
       "95%       2286.000\n",
       "max     472565.000\n",
       "Name: order_id, dtype: float64"
      ]
     },
     "execution_count": 22,
     "metadata": {},
     "output_type": "execute_result"
    }
   ],
   "source": [
    "cnt_order_item.describe(percentiles=[0.05, 0.10, 0.25, 0.50, 0.75, 0.90, 0.95])"
   ]
  },
  {
   "cell_type": "code",
   "execution_count": 23,
   "metadata": {},
   "outputs": [
    {
     "data": {
      "image/png": "[encoded data removed]",
      "text/plain": [
       "<Figure size 1152x576 with 4 Axes>"
      ]
     },
     "metadata": {},
     "output_type": "display_data"
    }
   ],
   "source": [
    "fig, axes = plt.subplots(2, 2, figsize=(16, 8))\n",
    "axes = axes.flatten()\n",
    "\n",
    "range_0 = [1, cnt_item_user.quantile(0.99)]\n",
    "range_1 = [1, cnt_order_user.quantile(0.99)]\n",
    "range_2 = [1, cnt_user_item.quantile(0.90)]\n",
    "range_3 = [1, cnt_order_item.quantile(0.90)]\n",
    "\n",
    "sns_dist_params = dict(bins=20, hist=True, kde=False, rug=False)\n",
    "sns.distplot(cnt_item_user,  **sns_dist_params, hist_kws={'range': range_0, 'alpha': 0.75}, ax=axes[0])\n",
    "sns.distplot(cnt_order_user, **sns_dist_params, hist_kws={'range': range_1, 'alpha': 0.75}, ax=axes[1])\n",
    "sns.distplot(cnt_user_item,  **sns_dist_params, hist_kws={'range': range_2, 'alpha': 0.75}, ax=axes[2])\n",
    "sns.distplot(cnt_order_item, **sns_dist_params, hist_kws={'range': range_3, 'alpha': 0.75}, ax=axes[3])\n",
    "\n",
    "axes[0].set(title=\"Number of Distinct Products/User\", xlabel='Number of Products', ylabel='Number of Users')\n",
    "axes[1].set(title=\"Number of Distinct Orders/User\", xlabel='Number of Orders', ylabel='Number of Users')\n",
    "axes[2].set(title=\"Number of Distinct Users/Item\", xlabel='Number of Users', ylabel='Number of Products')\n",
    "axes[3].set(title=\"Number of Distinct Orders/Item\", xlabel='Number of Orders', ylabel='Number of Products')\n",
    "\n",
    "fig.tight_layout()\n",
    "plt.show()"
   ]
  },
  {
   "cell_type": "markdown",
   "metadata": {},
   "source": [
    "#### User/Item Re-Purchases"
   ]
  },
  {
   "cell_type": "code",
   "execution_count": 24,
   "metadata": {},
   "outputs": [
    {
     "data": {
      "text/plain": [
       "user_id  product_id\n",
       "1        196           10\n",
       "         10258          9\n",
       "         10326          1\n",
       "         12427         10\n",
       "         13032          3\n",
       "dtype: int64"
      ]
     },
     "execution_count": 24,
     "metadata": {},
     "output_type": "execute_result"
    }
   ],
   "source": [
    "user_item_orders = interactions.groupby(['user_id', 'product_id']).size()\n",
    "user_item_orders.head()"
   ]
  },
  {
   "cell_type": "code",
   "execution_count": 25,
   "metadata": {},
   "outputs": [
    {
     "data": {
      "image/png": "[encoded data removed]",
      "text/plain": [
       "<Figure size 1152x288 with 1 Axes>"
      ]
     },
     "metadata": {},
     "output_type": "display_data"
    }
   ],
   "source": [
    "fig, axes = plt.subplots(1, 1, figsize=(16, 4))\n",
    "to_plot = user_item_orders[user_item_orders <= user_item_orders.quantile(0.95)]\n",
    "sns.countplot(to_plot, alpha=0.75, ax=axes)\n",
    "axes.set(title=\"Number of Orders by User/Product\", xlabel='Number of Orders', ylabel='Number of User/Products')\n",
    "\n",
    "fig.tight_layout()\n",
    "plt.show()"
   ]
  },
  {
   "cell_type": "markdown",
   "metadata": {},
   "source": [
    "#### Most Popular Items"
   ]
  },
  {
   "cell_type": "code",
   "execution_count": 26,
   "metadata": {},
   "outputs": [
    {
     "data": {
      "text/html": [
       "<div>\n",
       "<style scoped>\n",
       "    .dataframe tbody tr th:only-of-type {\n",
       "        vertical-align: middle;\n",
       "    }\n",
       "\n",
       "    .dataframe tbody tr th {\n",
       "        vertical-align: top;\n",
       "    }\n",
       "\n",
       "    .dataframe thead th {\n",
       "        text-align: right;\n",
       "    }\n",
       "</style>\n",
       "<table border=\"1\" class=\"dataframe\">\n",
       "  <thead>\n",
       "    <tr style=\"text-align: right;\">\n",
       "      <th></th>\n",
       "      <th>cnt_users</th>\n",
       "      <th>pct_users</th>\n",
       "      <th>product_id</th>\n",
       "      <th>product_name</th>\n",
       "      <th>aisle_id</th>\n",
       "      <th>department_id</th>\n",
       "    </tr>\n",
       "  </thead>\n",
       "  <tbody>\n",
       "    <tr>\n",
       "      <th>0</th>\n",
       "      <td>73956</td>\n",
       "      <td>0.359</td>\n",
       "      <td>24852</td>\n",
       "      <td>Banana</td>\n",
       "      <td>24</td>\n",
       "      <td>4</td>\n",
       "    </tr>\n",
       "    <tr>\n",
       "      <th>1</th>\n",
       "      <td>63537</td>\n",
       "      <td>0.308</td>\n",
       "      <td>13176</td>\n",
       "      <td>Bag of Organic Bananas</td>\n",
       "      <td>24</td>\n",
       "      <td>4</td>\n",
       "    </tr>\n",
       "    <tr>\n",
       "      <th>2</th>\n",
       "      <td>58838</td>\n",
       "      <td>0.285</td>\n",
       "      <td>21137</td>\n",
       "      <td>Organic Strawberries</td>\n",
       "      <td>24</td>\n",
       "      <td>4</td>\n",
       "    </tr>\n",
       "    <tr>\n",
       "      <th>3</th>\n",
       "      <td>55037</td>\n",
       "      <td>0.267</td>\n",
       "      <td>21903</td>\n",
       "      <td>Organic Baby Spinach</td>\n",
       "      <td>123</td>\n",
       "      <td>4</td>\n",
       "    </tr>\n",
       "    <tr>\n",
       "      <th>4</th>\n",
       "      <td>46402</td>\n",
       "      <td>0.225</td>\n",
       "      <td>47626</td>\n",
       "      <td>Large Lemon</td>\n",
       "      <td>24</td>\n",
       "      <td>4</td>\n",
       "    </tr>\n",
       "    <tr>\n",
       "      <th>5</th>\n",
       "      <td>44859</td>\n",
       "      <td>0.218</td>\n",
       "      <td>26209</td>\n",
       "      <td>Limes</td>\n",
       "      <td>24</td>\n",
       "      <td>4</td>\n",
       "    </tr>\n",
       "    <tr>\n",
       "      <th>6</th>\n",
       "      <td>43453</td>\n",
       "      <td>0.211</td>\n",
       "      <td>47209</td>\n",
       "      <td>Organic Hass Avocado</td>\n",
       "      <td>24</td>\n",
       "      <td>4</td>\n",
       "    </tr>\n",
       "    <tr>\n",
       "      <th>7</th>\n",
       "      <td>43149</td>\n",
       "      <td>0.209</td>\n",
       "      <td>16797</td>\n",
       "      <td>Strawberries</td>\n",
       "      <td>24</td>\n",
       "      <td>4</td>\n",
       "    </tr>\n",
       "    <tr>\n",
       "      <th>8</th>\n",
       "      <td>42771</td>\n",
       "      <td>0.207</td>\n",
       "      <td>47766</td>\n",
       "      <td>Organic Avocado</td>\n",
       "      <td>24</td>\n",
       "      <td>4</td>\n",
       "    </tr>\n",
       "    <tr>\n",
       "      <th>9</th>\n",
       "      <td>37138</td>\n",
       "      <td>0.180</td>\n",
       "      <td>39275</td>\n",
       "      <td>Organic Blueberries</td>\n",
       "      <td>123</td>\n",
       "      <td>4</td>\n",
       "    </tr>\n",
       "  </tbody>\n",
       "</table>\n",
       "</div>"
      ],
      "text/plain": [
       "   cnt_users  pct_users  product_id            product_name  aisle_id  \\\n",
       "0      73956      0.359       24852                  Banana        24   \n",
       "1      63537      0.308       13176  Bag of Organic Bananas        24   \n",
       "2      58838      0.285       21137    Organic Strawberries        24   \n",
       "3      55037      0.267       21903    Organic Baby Spinach       123   \n",
       "4      46402      0.225       47626             Large Lemon        24   \n",
       "5      44859      0.218       26209                   Limes        24   \n",
       "6      43453      0.211       47209    Organic Hass Avocado        24   \n",
       "7      43149      0.209       16797            Strawberries        24   \n",
       "8      42771      0.207       47766         Organic Avocado        24   \n",
       "9      37138      0.180       39275     Organic Blueberries       123   \n",
       "\n",
       "   department_id  \n",
       "0              4  \n",
       "1              4  \n",
       "2              4  \n",
       "3              4  \n",
       "4              4  \n",
       "5              4  \n",
       "6              4  \n",
       "7              4  \n",
       "8              4  \n",
       "9              4  "
      ]
     },
     "execution_count": 26,
     "metadata": {},
     "output_type": "execute_result"
    }
   ],
   "source": [
    "most_popular_items = cnt_user_item.to_frame('cnt_users').reset_index().sort_values('cnt_users', ascending=False).reset_index(drop=True)\n",
    "most_popular_items['pct_users'] = most_popular_items['cnt_users'] / n_users\n",
    "most_popular_items = pd.merge(most_popular_items, products_df, on='product_id', how='inner')\n",
    "most_popular_items = most_popular_items[['cnt_users', 'pct_users', 'product_id', 'product_name', 'aisle_id', 'department_id']]\n",
    "most_popular_items.head(10)"
   ]
  },
  {
   "cell_type": "code",
   "execution_count": 27,
   "metadata": {},
   "outputs": [
    {
     "data": {
      "image/png": "[encoded data removed]",
      "text/plain": [
       "<Figure size 1152x288 with 1 Axes>"
      ]
     },
     "metadata": {},
     "output_type": "display_data"
    }
   ],
   "source": [
    "N = 100\n",
    "to_plot = most_popular_items[:N]\n",
    "\n",
    "fig, ax = plt.subplots(1, 1, figsize=(16, 4))\n",
    "ax.bar(to_plot.index + 1, to_plot.cnt_users, width=1.0, linewidth=1, edgecolor='black', alpha=0.75)\n",
    "ax.set(xlim=(0, N+1), xlabel='Product Rank', ylabel='Number of Users')\n",
    "fig.tight_layout()\n",
    "plt.show()"
   ]
  },
  {
   "cell_type": "markdown",
   "metadata": {},
   "source": [
    "#### Print Matrix Shapes"
   ]
  },
  {
   "cell_type": "code",
   "execution_count": 28,
   "metadata": {},
   "outputs": [
    {
     "name": "stdout",
     "output_type": "stream",
     "text": [
      "users: 206209\n",
      "items: 49677\n",
      "interactions: (32434489, 3)\n",
      "unique user/items pairs: 13307953\n"
     ]
    }
   ],
   "source": [
    "print(\"users:\", n_users)\n",
    "print(\"items:\", n_items)\n",
    "print(\"interactions:\", interactions.shape)\n",
    "print(\"unique user/items pairs:\", interactions[['user_id', 'product_id']].drop_duplicates().shape[0])"
   ]
  },
  {
   "cell_type": "markdown",
   "metadata": {},
   "source": [
    "#### Evaluate User/Item Interaction Sparsity"
   ]
  },
  {
   "cell_type": "code",
   "execution_count": 29,
   "metadata": {},
   "outputs": [
    {
     "name": "stdout",
     "output_type": "stream",
     "text": [
      "full interaction data sparsity: 99.87\n"
     ]
    }
   ],
   "source": [
    "sparsity = 1 - (interactions[['user_id', 'product_id']].drop_duplicates().shape[0] / (n_users * n_items))\n",
    "print(\"full interaction data sparsity: {}\".format(round(100 * sparsity, 2)))"
   ]
  },
  {
   "cell_type": "markdown",
   "metadata": {},
   "source": [
    "### Subsample the Data for Initial Testing"
   ]
  },
  {
   "cell_type": "markdown",
   "metadata": {},
   "source": [
    "#### Take a Random Subsample of Users"
   ]
  },
  {
   "cell_type": "code",
   "execution_count": 32,
   "metadata": {},
   "outputs": [],
   "source": [
    "all_users = interactions.user_id.unique()\n",
    "all_items = interactions.product_id.unique()"
   ]
  },
  {
   "cell_type": "code",
   "execution_count": 33,
   "metadata": {},
   "outputs": [],
   "source": [
    "np.random.seed(1492)\n",
    "s_users = np.random.choice(all_users, size=10000, replace=False)"
   ]
  },
  {
   "cell_type": "markdown",
   "metadata": {},
   "source": [
    "#### Get All Interactions for Those Users"
   ]
  },
  {
   "cell_type": "code",
   "execution_count": 34,
   "metadata": {},
   "outputs": [
    {
     "data": {
      "text/plain": [
       "(1615071, 3)"
      ]
     },
     "execution_count": 34,
     "metadata": {},
     "output_type": "execute_result"
    }
   ],
   "source": [
    "s_interactions = interactions[interactions.user_id.isin(s_users)].copy()\n",
    "s_interactions.shape"
   ]
  },
  {
   "cell_type": "code",
   "execution_count": 35,
   "metadata": {},
   "outputs": [
    {
     "data": {
      "text/plain": [
       "35321"
      ]
     },
     "execution_count": 35,
     "metadata": {},
     "output_type": "execute_result"
    }
   ],
   "source": [
    "s_items = s_interactions.product_id.unique()\n",
    "len(s_items)"
   ]
  },
  {
   "cell_type": "markdown",
   "metadata": {},
   "source": [
    "#### Re-Evaluate Cardinality/Sparsity on the Sample"
   ]
  },
  {
   "cell_type": "code",
   "execution_count": 36,
   "metadata": {},
   "outputs": [
    {
     "name": "stdout",
     "output_type": "stream",
     "text": [
      "sample users: 10000\n",
      "sample items: 35321\n",
      "sample interactions: (1615071, 3)\n"
     ]
    }
   ],
   "source": [
    "n_s_users = len(s_users)\n",
    "n_s_items = len(s_items)\n",
    "\n",
    "print(\"sample users:\", n_s_users)\n",
    "print(\"sample items:\", n_s_items)\n",
    "print(\"sample interactions:\", s_interactions.shape)"
   ]
  },
  {
   "cell_type": "code",
   "execution_count": 37,
   "metadata": {},
   "outputs": [
    {
     "name": "stdout",
     "output_type": "stream",
     "text": [
      "sample interaction data sparsity: 99.81\n"
     ]
    }
   ],
   "source": [
    "s_sparsity = 1 - (s_interactions[['user_id', 'product_id']].drop_duplicates().shape[0] / (n_s_users * n_s_items))\n",
    "print(\"sample interaction data sparsity: {}\".format(round(100 * s_sparsity, 2)))"
   ]
  },
  {
   "cell_type": "markdown",
   "metadata": {},
   "source": [
    "### Split the Data into Training/Validation Sets"
   ]
  },
  {
   "cell_type": "markdown",
   "metadata": {},
   "source": [
    "#### Randomly Shuffle the Overall Interaction Data"
   ]
  },
  {
   "cell_type": "code",
   "execution_count": 38,
   "metadata": {},
   "outputs": [
    {
     "data": {
      "text/html": [
       "<div>\n",
       "<style scoped>\n",
       "    .dataframe tbody tr th:only-of-type {\n",
       "        vertical-align: middle;\n",
       "    }\n",
       "\n",
       "    .dataframe tbody tr th {\n",
       "        vertical-align: top;\n",
       "    }\n",
       "\n",
       "    .dataframe thead th {\n",
       "        text-align: right;\n",
       "    }\n",
       "</style>\n",
       "<table border=\"1\" class=\"dataframe\">\n",
       "  <thead>\n",
       "    <tr style=\"text-align: right;\">\n",
       "      <th></th>\n",
       "      <th>user_id</th>\n",
       "      <th>product_id</th>\n",
       "      <th>order_id</th>\n",
       "      <th>random</th>\n",
       "    </tr>\n",
       "  </thead>\n",
       "  <tbody>\n",
       "    <tr>\n",
       "      <th>23537329</th>\n",
       "      <td>149525</td>\n",
       "      <td>10603</td>\n",
       "      <td>286068</td>\n",
       "      <td>0.552</td>\n",
       "    </tr>\n",
       "    <tr>\n",
       "      <th>9203424</th>\n",
       "      <td>58434</td>\n",
       "      <td>2078</td>\n",
       "      <td>1801316</td>\n",
       "      <td>0.730</td>\n",
       "    </tr>\n",
       "    <tr>\n",
       "      <th>17681539</th>\n",
       "      <td>111802</td>\n",
       "      <td>47209</td>\n",
       "      <td>1036583</td>\n",
       "      <td>0.123</td>\n",
       "    </tr>\n",
       "    <tr>\n",
       "      <th>10983869</th>\n",
       "      <td>69587</td>\n",
       "      <td>35221</td>\n",
       "      <td>1935694</td>\n",
       "      <td>0.915</td>\n",
       "    </tr>\n",
       "    <tr>\n",
       "      <th>14723363</th>\n",
       "      <td>93211</td>\n",
       "      <td>2539</td>\n",
       "      <td>1193650</td>\n",
       "      <td>0.212</td>\n",
       "    </tr>\n",
       "  </tbody>\n",
       "</table>\n",
       "</div>"
      ],
      "text/plain": [
       "          user_id  product_id  order_id  random\n",
       "23537329   149525       10603    286068   0.552\n",
       "9203424     58434        2078   1801316   0.730\n",
       "17681539   111802       47209   1036583   0.123\n",
       "10983869    69587       35221   1935694   0.915\n",
       "14723363    93211        2539   1193650   0.212"
      ]
     },
     "execution_count": 38,
     "metadata": {},
     "output_type": "execute_result"
    }
   ],
   "source": [
    "shuffle_index = np.arange(len(s_interactions))\n",
    "np.random.shuffle(shuffle_index)\n",
    "\n",
    "s_interactions = s_interactions.iloc[shuffle_index]\n",
    "s_interactions['random'] = np.random.random(size=len(s_interactions))\n",
    "s_interactions.head()"
   ]
  },
  {
   "cell_type": "markdown",
   "metadata": {},
   "source": [
    "#### Split Off 25% to Use for Validation"
   ]
  },
  {
   "cell_type": "code",
   "execution_count": 39,
   "metadata": {},
   "outputs": [],
   "source": [
    "test_pct = 0.25\n",
    "train_mask = s_interactions['random'] <  (1 - test_pct)\n",
    "valid_mask = s_interactions['random'] >= (1 - test_pct)\n",
    "          \n",
    "interactions_total = s_interactions[['user_id', 'product_id']]\n",
    "interactions_total = interactions_total.iloc[shuffle_index]\n",
    "\n",
    "interactions_train = s_interactions[train_mask].groupby(['user_id', 'product_id']).size().to_frame('orders').reset_index()\n",
    "interactions_valid = s_interactions[valid_mask].groupby(['user_id', 'product_id']).size().to_frame('orders').reset_index()\n",
    "\n",
    "# sample_weight_train = interactions_train['orders']\n",
    "# sample_weight_valid = interactions_valid['orders']\n",
    "sample_weight_train = np.log2(interactions_train['orders'] + 1)\n",
    "sample_weight_valid = np.log2(interactions_valid['orders'] + 1)\n",
    "\n",
    "interactions_train = interactions_train[['user_id', 'product_id']]\n",
    "interactions_valid = interactions_valid[['user_id', 'product_id']]"
   ]
  },
  {
   "cell_type": "code",
   "execution_count": 40,
   "metadata": {},
   "outputs": [
    {
     "name": "stdout",
     "output_type": "stream",
     "text": [
      "total shape: (1615071, 2)\n",
      "train shape: (552348, 2)\n",
      "valid shape: (262425, 2)\n",
      "\n",
      "train weights shape: (552348,)\n",
      "valid weights shape: (262425,)\n",
      "\n",
      "train users: 10000\n",
      "valid users: 9936\n",
      "cold-start users: set()\n",
      "\n",
      "train items: 33362\n",
      "valid items: 25320\n",
      "number of cold-start items: 1959\n",
      "\n",
      "train item features: (33362, 135)\n",
      "valid item features: (25320, 135)\n"
     ]
    }
   ],
   "source": [
    "train_users = np.sort(interactions_train.user_id.unique())\n",
    "valid_users = np.sort(interactions_valid.user_id.unique())\n",
    "cold_start_users = set(valid_users) - set(train_users)\n",
    "\n",
    "train_items = np.sort(interactions_train.product_id.unique())\n",
    "valid_items = np.sort(interactions_valid.product_id.unique())\n",
    "cold_start_items = set(valid_items) - set(train_items)\n",
    "\n",
    "item_features_train = item_features[item_features.product_id.isin(train_items)]\n",
    "item_features_valid = item_features[item_features.product_id.isin(valid_items)]\n",
    "\n",
    "print(\"total shape: {}\".format(interactions_total.shape))\n",
    "print(\"train shape: {}\".format(interactions_train.shape))\n",
    "print(\"valid shape: {}\".format(interactions_valid.shape))\n",
    "\n",
    "print(\"\\ntrain weights shape: {}\".format(sample_weight_train.shape))\n",
    "print(\"valid weights shape: {}\".format(sample_weight_valid.shape))\n",
    "\n",
    "print(\"\\ntrain users: {}\".format(len(train_users)))\n",
    "print(\"valid users: {}\".format(len(valid_users)))\n",
    "print(\"cold-start users: {}\".format(cold_start_users))\n",
    "\n",
    "print(\"\\ntrain items: {}\".format(len(train_items)))\n",
    "print(\"valid items: {}\".format(len(valid_items)))\n",
    "print(\"number of cold-start items: {}\".format(len(cold_start_items)))\n",
    "\n",
    "print(\"\\ntrain item features: {}\".format(item_features_train.shape))\n",
    "print(\"valid item features: {}\".format(item_features_valid.shape))"
   ]
  },
  {
   "cell_type": "markdown",
   "metadata": {},
   "source": [
    "### Test Out Core Package Functionality"
   ]
  },
  {
   "cell_type": "markdown",
   "metadata": {},
   "source": [
    "#### Initialize the Model with Chosen Hyperparameters"
   ]
  },
  {
   "cell_type": "code",
   "execution_count": 41,
   "metadata": {},
   "outputs": [],
   "source": [
    "model = RankFM(factors=50, loss='warp', max_samples=50, alpha=0.01, learning_rate=0.1, learning_schedule='invscaling')"
   ]
  },
  {
   "cell_type": "markdown",
   "metadata": {},
   "source": [
    "#### Fit the Model on the Training Data and Profile Computational Performance"
   ]
  },
  {
   "cell_type": "code",
   "execution_count": 42,
   "metadata": {},
   "outputs": [
    {
     "name": "stdout",
     "output_type": "stream",
     "text": [
      "\n",
      "training epoch: 0\n",
      "log likelihood: -283345.625\n",
      "\n",
      "training epoch: 1\n",
      "log likelihood: -277334.03125\n",
      "\n",
      "training epoch: 2\n",
      "log likelihood: -268719.34375\n",
      "\n",
      "training epoch: 3\n",
      "log likelihood: -260925.4375\n",
      "\n",
      "training epoch: 4\n",
      "log likelihood: -252805.359375\n",
      "\n",
      "training epoch: 5\n",
      "log likelihood: -246793.5625\n",
      "\n",
      "training epoch: 6\n",
      "log likelihood: -242302.46875\n",
      "\n",
      "training epoch: 7\n",
      "log likelihood: -238361.453125\n",
      "\n",
      "training epoch: 8\n",
      "log likelihood: -235727.421875\n",
      "\n",
      "training epoch: 9\n",
      "log likelihood: -233368.15625\n",
      "\n",
      "training epoch: 10\n",
      "log likelihood: -231452.21875\n",
      "\n",
      "training epoch: 11\n",
      "log likelihood: -230046.890625\n",
      "\n",
      "training epoch: 12\n",
      "log likelihood: -228248.90625\n",
      "\n",
      "training epoch: 13\n",
      "log likelihood: -226951.71875\n",
      "\n",
      "training epoch: 14\n",
      "log likelihood: -225919.609375\n",
      "\n",
      "training epoch: 15\n",
      "log likelihood: -224618.0625\n",
      "\n",
      "training epoch: 16\n",
      "log likelihood: -224052.96875\n",
      "\n",
      "training epoch: 17\n",
      "log likelihood: -222998.890625\n",
      "\n",
      "training epoch: 18\n",
      "log likelihood: -221980.9375\n",
      "\n",
      "training epoch: 19\n",
      "log likelihood: -221699.09375\n",
      "\n",
      "training epoch: 20\n",
      "log likelihood: -220782.1875\n",
      "\n",
      "training epoch: 21\n",
      "log likelihood: -220404.96875\n",
      "\n",
      "training epoch: 22\n",
      "log likelihood: -219849.703125\n",
      "\n",
      "training epoch: 23\n",
      "log likelihood: -219056.65625\n",
      "\n",
      "training epoch: 24\n",
      "log likelihood: -218512.359375\n",
      "\n",
      "training epoch: 25\n",
      "log likelihood: -218357.59375\n",
      "\n",
      "training epoch: 26\n",
      "log likelihood: -217507.265625\n",
      "\n",
      "training epoch: 27\n",
      "log likelihood: -217062.0625\n",
      "\n",
      "training epoch: 28\n",
      "log likelihood: -216463.46875\n",
      "\n",
      "training epoch: 29\n",
      "log likelihood: -216362.25\n",
      "CPU times: user 1min 25s, sys: 769 ms, total: 1min 25s\n",
      "Wall time: 1min 24s\n"
     ]
    }
   ],
   "source": [
    "%%time\n",
    "model.fit(interactions_train, sample_weight=sample_weight_train, epochs=30, verbose=True)"
   ]
  },
  {
   "cell_type": "markdown",
   "metadata": {},
   "source": [
    "#### Generate Model Scores"
   ]
  },
  {
   "cell_type": "code",
   "execution_count": 43,
   "metadata": {},
   "outputs": [
    {
     "name": "stdout",
     "output_type": "stream",
     "text": [
      "CPU times: user 859 ms, sys: 163 ms, total: 1.02 s\n",
      "Wall time: 542 ms\n"
     ]
    }
   ],
   "source": [
    "%%time\n",
    "scores = model.predict(interactions_valid, cold_start='nan') "
   ]
  },
  {
   "cell_type": "markdown",
   "metadata": {},
   "source": [
    "#### Generate TopN Recommendations"
   ]
  },
  {
   "cell_type": "code",
   "execution_count": 44,
   "metadata": {},
   "outputs": [
    {
     "data": {
      "text/plain": [
       "(10000, 9936, 9936)"
      ]
     },
     "execution_count": 44,
     "metadata": {},
     "output_type": "execute_result"
    }
   ],
   "source": [
    "train_users = pd.Series(interactions_train.user_id.unique())\n",
    "valid_users = pd.Series(interactions_valid.user_id.unique())\n",
    "both_users = set(train_users) & set(valid_users)\n",
    "\n",
    "len(train_users), len(valid_users), len(both_users)"
   ]
  },
  {
   "cell_type": "code",
   "execution_count": 45,
   "metadata": {},
   "outputs": [
    {
     "name": "stdout",
     "output_type": "stream",
     "text": [
      "CPU times: user 45.3 s, sys: 166 ms, total: 45.4 s\n",
      "Wall time: 45.6 s\n"
     ]
    }
   ],
   "source": [
    "%%time\n",
    "valid_recs = model.recommend(valid_users, n_items=10, filter_previous=False, cold_start='nan')"
   ]
  },
  {
   "cell_type": "code",
   "execution_count": 46,
   "metadata": {},
   "outputs": [
    {
     "name": "stdout",
     "output_type": "stream",
     "text": [
      "(9936, 10)\n"
     ]
    },
    {
     "data": {
      "text/html": [
       "<div>\n",
       "<style scoped>\n",
       "    .dataframe tbody tr th:only-of-type {\n",
       "        vertical-align: middle;\n",
       "    }\n",
       "\n",
       "    .dataframe tbody tr th {\n",
       "        vertical-align: top;\n",
       "    }\n",
       "\n",
       "    .dataframe thead th {\n",
       "        text-align: right;\n",
       "    }\n",
       "</style>\n",
       "<table border=\"1\" class=\"dataframe\">\n",
       "  <thead>\n",
       "    <tr style=\"text-align: right;\">\n",
       "      <th></th>\n",
       "      <th>0</th>\n",
       "      <th>1</th>\n",
       "      <th>2</th>\n",
       "      <th>3</th>\n",
       "      <th>4</th>\n",
       "      <th>5</th>\n",
       "      <th>6</th>\n",
       "      <th>7</th>\n",
       "      <th>8</th>\n",
       "      <th>9</th>\n",
       "    </tr>\n",
       "  </thead>\n",
       "  <tbody>\n",
       "    <tr>\n",
       "      <th>33</th>\n",
       "      <td>33351</td>\n",
       "      <td>33129</td>\n",
       "      <td>31808</td>\n",
       "      <td>42240</td>\n",
       "      <td>33198</td>\n",
       "      <td>7969</td>\n",
       "      <td>32605</td>\n",
       "      <td>22882</td>\n",
       "      <td>24852</td>\n",
       "      <td>3856</td>\n",
       "    </tr>\n",
       "    <tr>\n",
       "      <th>61</th>\n",
       "      <td>24852</td>\n",
       "      <td>28842</td>\n",
       "      <td>44142</td>\n",
       "      <td>23734</td>\n",
       "      <td>16797</td>\n",
       "      <td>47626</td>\n",
       "      <td>39408</td>\n",
       "      <td>9387</td>\n",
       "      <td>23909</td>\n",
       "      <td>48205</td>\n",
       "    </tr>\n",
       "    <tr>\n",
       "      <th>72</th>\n",
       "      <td>21137</td>\n",
       "      <td>24852</td>\n",
       "      <td>21903</td>\n",
       "      <td>16797</td>\n",
       "      <td>39275</td>\n",
       "      <td>41950</td>\n",
       "      <td>40706</td>\n",
       "      <td>47626</td>\n",
       "      <td>13176</td>\n",
       "      <td>25890</td>\n",
       "    </tr>\n",
       "    <tr>\n",
       "      <th>76</th>\n",
       "      <td>49235</td>\n",
       "      <td>36107</td>\n",
       "      <td>13176</td>\n",
       "      <td>33754</td>\n",
       "      <td>19057</td>\n",
       "      <td>1006</td>\n",
       "      <td>6631</td>\n",
       "      <td>20995</td>\n",
       "      <td>33452</td>\n",
       "      <td>43961</td>\n",
       "    </tr>\n",
       "    <tr>\n",
       "      <th>84</th>\n",
       "      <td>47209</td>\n",
       "      <td>47766</td>\n",
       "      <td>26209</td>\n",
       "      <td>47626</td>\n",
       "      <td>24852</td>\n",
       "      <td>24964</td>\n",
       "      <td>45007</td>\n",
       "      <td>10749</td>\n",
       "      <td>4605</td>\n",
       "      <td>28842</td>\n",
       "    </tr>\n",
       "  </tbody>\n",
       "</table>\n",
       "</div>"
      ],
      "text/plain": [
       "        0      1      2      3      4      5      6      7      8      9\n",
       "33  33351  33129  31808  42240  33198   7969  32605  22882  24852   3856\n",
       "61  24852  28842  44142  23734  16797  47626  39408   9387  23909  48205\n",
       "72  21137  24852  21903  16797  39275  41950  40706  47626  13176  25890\n",
       "76  49235  36107  13176  33754  19057   1006   6631  20995  33452  43961\n",
       "84  47209  47766  26209  47626  24852  24964  45007  10749   4605  28842"
      ]
     },
     "execution_count": 46,
     "metadata": {},
     "output_type": "execute_result"
    }
   ],
   "source": [
    "print(valid_recs.shape)\n",
    "valid_recs.head()"
   ]
  },
  {
   "cell_type": "markdown",
   "metadata": {},
   "source": [
    "### Evaluate Model Performance on the Validation Data"
   ]
  },
  {
   "cell_type": "markdown",
   "metadata": {},
   "source": [
    "#### Specify Number of Recommended Items"
   ]
  },
  {
   "cell_type": "code",
   "execution_count": 47,
   "metadata": {},
   "outputs": [],
   "source": [
    "k = 10"
   ]
  },
  {
   "cell_type": "markdown",
   "metadata": {},
   "source": [
    "#### Generate Pure-Popularity Baselines"
   ]
  },
  {
   "cell_type": "code",
   "execution_count": 48,
   "metadata": {},
   "outputs": [
    {
     "data": {
      "text/plain": [
       "product_id\n",
       "24852    3333\n",
       "13176    2904\n",
       "21137    2565\n",
       "21903    2511\n",
       "47209    2003\n",
       "47626    1983\n",
       "26209    1950\n",
       "47766    1841\n",
       "16797    1839\n",
       "39275    1590\n",
       "Name: user_id, dtype: int64"
      ]
     },
     "execution_count": 48,
     "metadata": {},
     "output_type": "execute_result"
    }
   ],
   "source": [
    "most_popular = interactions_train.groupby('product_id')['user_id'].count().sort_values(ascending=False)[:k]\n",
    "most_popular"
   ]
  },
  {
   "cell_type": "code",
   "execution_count": 49,
   "metadata": {},
   "outputs": [],
   "source": [
    "test_user_items = interactions_valid.groupby('user_id')['product_id'].apply(set).to_dict()\n",
    "test_user_items = {key: val for key, val in test_user_items.items() if key in set(train_users)}\n",
    "\n",
    "base_hrt = np.mean([int(len(set(most_popular.index) & set(val)) > 0)                       for key, val in test_user_items.items()])\n",
    "base_pre = np.mean([len(set(most_popular.index) & set(val)) / len(set(most_popular.index)) for key, val in test_user_items.items()])\n",
    "base_rec = np.mean([len(set(most_popular.index) & set(val)) / len(set(val))                for key, val in test_user_items.items()])"
   ]
  },
  {
   "cell_type": "code",
   "execution_count": 50,
   "metadata": {},
   "outputs": [
    {
     "name": "stdout",
     "output_type": "stream",
     "text": [
      "number of test users: 9936\n",
      "baseline hit rate: 0.602\n",
      "baseline precision: 0.134\n",
      "baseline recall: 0.058\n"
     ]
    }
   ],
   "source": [
    "print(\"number of test users: {}\".format(len(test_user_items)))\n",
    "print(\"baseline hit rate: {:.3f}\".format(base_hrt))\n",
    "print(\"baseline precision: {:.3f}\".format(base_pre))\n",
    "print(\"baseline recall: {:.3f}\".format(base_rec))"
   ]
  },
  {
   "cell_type": "markdown",
   "metadata": {},
   "source": [
    "#### Generate Model Performance Validation Metrics"
   ]
  },
  {
   "cell_type": "code",
   "execution_count": 51,
   "metadata": {},
   "outputs": [
    {
     "name": "stdout",
     "output_type": "stream",
     "text": [
      "CPU times: user 3min 20s, sys: 711 ms, total: 3min 21s\n",
      "Wall time: 3min 21s\n"
     ]
    }
   ],
   "source": [
    "%%time\n",
    "model_hrt = hit_rate(model, interactions_valid, k=k)\n",
    "model_rnk = reciprocal_rank(model, interactions_valid, k=k)\n",
    "model_pre = precision(model, interactions_valid, k=k)\n",
    "model_rec = recall(model, interactions_valid, k=k)"
   ]
  },
  {
   "cell_type": "code",
   "execution_count": 52,
   "metadata": {},
   "outputs": [
    {
     "name": "stdout",
     "output_type": "stream",
     "text": [
      "model hit rate: 0.787\n",
      "model reciprocal rank: 0.476\n",
      "model precision: 0.233\n",
      "model recall: 0.123\n"
     ]
    }
   ],
   "source": [
    "print(\"model hit rate: {}\".format(round(model_hrt, 3)))\n",
    "print(\"model reciprocal rank: {}\".format(round(model_rnk, 3)))\n",
    "print(\"model precision: {}\".format(round(model_pre, 3)))\n",
    "print(\"model recall: {}\".format(round(model_rec, 3)))"
   ]
  },
  {
   "cell_type": "markdown",
   "metadata": {},
   "source": [
    "#### Assess the Diversity of Recommendations"
   ]
  },
  {
   "cell_type": "code",
   "execution_count": 53,
   "metadata": {},
   "outputs": [
    {
     "data": {
      "text/html": [
       "<div>\n",
       "<style scoped>\n",
       "    .dataframe tbody tr th:only-of-type {\n",
       "        vertical-align: middle;\n",
       "    }\n",
       "\n",
       "    .dataframe tbody tr th {\n",
       "        vertical-align: top;\n",
       "    }\n",
       "\n",
       "    .dataframe thead th {\n",
       "        text-align: right;\n",
       "    }\n",
       "</style>\n",
       "<table border=\"1\" class=\"dataframe\">\n",
       "  <thead>\n",
       "    <tr style=\"text-align: right;\">\n",
       "      <th></th>\n",
       "      <th>cnt_users</th>\n",
       "      <th>pct_users</th>\n",
       "      <th>product_id</th>\n",
       "      <th>product_name</th>\n",
       "      <th>aisle_id</th>\n",
       "      <th>department_id</th>\n",
       "    </tr>\n",
       "  </thead>\n",
       "  <tbody>\n",
       "    <tr>\n",
       "      <th>0</th>\n",
       "      <td>5982</td>\n",
       "      <td>0.602</td>\n",
       "      <td>24852</td>\n",
       "      <td>Banana</td>\n",
       "      <td>24</td>\n",
       "      <td>4</td>\n",
       "    </tr>\n",
       "    <tr>\n",
       "      <th>1</th>\n",
       "      <td>5168</td>\n",
       "      <td>0.520</td>\n",
       "      <td>21137</td>\n",
       "      <td>Organic Strawberries</td>\n",
       "      <td>24</td>\n",
       "      <td>4</td>\n",
       "    </tr>\n",
       "    <tr>\n",
       "      <th>2</th>\n",
       "      <td>5090</td>\n",
       "      <td>0.512</td>\n",
       "      <td>13176</td>\n",
       "      <td>Bag of Organic Bananas</td>\n",
       "      <td>24</td>\n",
       "      <td>4</td>\n",
       "    </tr>\n",
       "    <tr>\n",
       "      <th>3</th>\n",
       "      <td>4475</td>\n",
       "      <td>0.450</td>\n",
       "      <td>21903</td>\n",
       "      <td>Organic Baby Spinach</td>\n",
       "      <td>123</td>\n",
       "      <td>4</td>\n",
       "    </tr>\n",
       "    <tr>\n",
       "      <th>4</th>\n",
       "      <td>3854</td>\n",
       "      <td>0.388</td>\n",
       "      <td>47209</td>\n",
       "      <td>Organic Hass Avocado</td>\n",
       "      <td>24</td>\n",
       "      <td>4</td>\n",
       "    </tr>\n",
       "    <tr>\n",
       "      <th>5</th>\n",
       "      <td>2661</td>\n",
       "      <td>0.268</td>\n",
       "      <td>47766</td>\n",
       "      <td>Organic Avocado</td>\n",
       "      <td>24</td>\n",
       "      <td>4</td>\n",
       "    </tr>\n",
       "    <tr>\n",
       "      <th>6</th>\n",
       "      <td>2620</td>\n",
       "      <td>0.264</td>\n",
       "      <td>47626</td>\n",
       "      <td>Large Lemon</td>\n",
       "      <td>24</td>\n",
       "      <td>4</td>\n",
       "    </tr>\n",
       "    <tr>\n",
       "      <th>7</th>\n",
       "      <td>2511</td>\n",
       "      <td>0.253</td>\n",
       "      <td>16797</td>\n",
       "      <td>Strawberries</td>\n",
       "      <td>24</td>\n",
       "      <td>4</td>\n",
       "    </tr>\n",
       "    <tr>\n",
       "      <th>8</th>\n",
       "      <td>2081</td>\n",
       "      <td>0.209</td>\n",
       "      <td>26209</td>\n",
       "      <td>Limes</td>\n",
       "      <td>24</td>\n",
       "      <td>4</td>\n",
       "    </tr>\n",
       "    <tr>\n",
       "      <th>9</th>\n",
       "      <td>1617</td>\n",
       "      <td>0.163</td>\n",
       "      <td>24964</td>\n",
       "      <td>Organic Garlic</td>\n",
       "      <td>83</td>\n",
       "      <td>4</td>\n",
       "    </tr>\n",
       "    <tr>\n",
       "      <th>10</th>\n",
       "      <td>1548</td>\n",
       "      <td>0.156</td>\n",
       "      <td>27966</td>\n",
       "      <td>Organic Raspberries</td>\n",
       "      <td>123</td>\n",
       "      <td>4</td>\n",
       "    </tr>\n",
       "    <tr>\n",
       "      <th>11</th>\n",
       "      <td>1388</td>\n",
       "      <td>0.140</td>\n",
       "      <td>22935</td>\n",
       "      <td>Organic Yellow Onion</td>\n",
       "      <td>83</td>\n",
       "      <td>4</td>\n",
       "    </tr>\n",
       "    <tr>\n",
       "      <th>12</th>\n",
       "      <td>1309</td>\n",
       "      <td>0.132</td>\n",
       "      <td>45007</td>\n",
       "      <td>Organic Zucchini</td>\n",
       "      <td>83</td>\n",
       "      <td>4</td>\n",
       "    </tr>\n",
       "    <tr>\n",
       "      <th>13</th>\n",
       "      <td>1264</td>\n",
       "      <td>0.127</td>\n",
       "      <td>31717</td>\n",
       "      <td>Organic Cilantro</td>\n",
       "      <td>16</td>\n",
       "      <td>4</td>\n",
       "    </tr>\n",
       "    <tr>\n",
       "      <th>14</th>\n",
       "      <td>1061</td>\n",
       "      <td>0.107</td>\n",
       "      <td>39275</td>\n",
       "      <td>Organic Blueberries</td>\n",
       "      <td>123</td>\n",
       "      <td>4</td>\n",
       "    </tr>\n",
       "    <tr>\n",
       "      <th>15</th>\n",
       "      <td>913</td>\n",
       "      <td>0.092</td>\n",
       "      <td>27845</td>\n",
       "      <td>Organic Whole Milk</td>\n",
       "      <td>84</td>\n",
       "      <td>16</td>\n",
       "    </tr>\n",
       "    <tr>\n",
       "      <th>16</th>\n",
       "      <td>902</td>\n",
       "      <td>0.091</td>\n",
       "      <td>6184</td>\n",
       "      <td>Clementines</td>\n",
       "      <td>32</td>\n",
       "      <td>4</td>\n",
       "    </tr>\n",
       "    <tr>\n",
       "      <th>17</th>\n",
       "      <td>899</td>\n",
       "      <td>0.090</td>\n",
       "      <td>196</td>\n",
       "      <td>Soda</td>\n",
       "      <td>77</td>\n",
       "      <td>7</td>\n",
       "    </tr>\n",
       "    <tr>\n",
       "      <th>18</th>\n",
       "      <td>898</td>\n",
       "      <td>0.090</td>\n",
       "      <td>4605</td>\n",
       "      <td>Yellow Onions</td>\n",
       "      <td>83</td>\n",
       "      <td>4</td>\n",
       "    </tr>\n",
       "    <tr>\n",
       "      <th>19</th>\n",
       "      <td>840</td>\n",
       "      <td>0.085</td>\n",
       "      <td>12341</td>\n",
       "      <td>Hass Avocados</td>\n",
       "      <td>32</td>\n",
       "      <td>4</td>\n",
       "    </tr>\n",
       "  </tbody>\n",
       "</table>\n",
       "</div>"
      ],
      "text/plain": [
       "    cnt_users  pct_users  product_id            product_name  aisle_id  \\\n",
       "0        5982      0.602       24852                  Banana        24   \n",
       "1        5168      0.520       21137    Organic Strawberries        24   \n",
       "2        5090      0.512       13176  Bag of Organic Bananas        24   \n",
       "3        4475      0.450       21903    Organic Baby Spinach       123   \n",
       "4        3854      0.388       47209    Organic Hass Avocado        24   \n",
       "5        2661      0.268       47766         Organic Avocado        24   \n",
       "6        2620      0.264       47626             Large Lemon        24   \n",
       "7        2511      0.253       16797            Strawberries        24   \n",
       "8        2081      0.209       26209                   Limes        24   \n",
       "9        1617      0.163       24964          Organic Garlic        83   \n",
       "10       1548      0.156       27966     Organic Raspberries       123   \n",
       "11       1388      0.140       22935    Organic Yellow Onion        83   \n",
       "12       1309      0.132       45007        Organic Zucchini        83   \n",
       "13       1264      0.127       31717        Organic Cilantro        16   \n",
       "14       1061      0.107       39275     Organic Blueberries       123   \n",
       "15        913      0.092       27845      Organic Whole Milk        84   \n",
       "16        902      0.091        6184             Clementines        32   \n",
       "17        899      0.090         196                    Soda        77   \n",
       "18        898      0.090        4605           Yellow Onions        83   \n",
       "19        840      0.085       12341           Hass Avocados        32   \n",
       "\n",
       "    department_id  \n",
       "0               4  \n",
       "1               4  \n",
       "2               4  \n",
       "3               4  \n",
       "4               4  \n",
       "5               4  \n",
       "6               4  \n",
       "7               4  \n",
       "8               4  \n",
       "9               4  \n",
       "10              4  \n",
       "11              4  \n",
       "12              4  \n",
       "13              4  \n",
       "14              4  \n",
       "15             16  \n",
       "16              4  \n",
       "17              7  \n",
       "18              4  \n",
       "19              4  "
      ]
     },
     "execution_count": 53,
     "metadata": {},
     "output_type": "execute_result"
    }
   ],
   "source": [
    "model_diversity = diversity(model, interactions_valid, k=k).rename({'item_id': 'product_id'}, axis=1)\n",
    "model_diversity = pd.merge(model_diversity, products_df, on='product_id', how='inner')\n",
    "model_diversity = model_diversity[['cnt_users', 'pct_users', 'product_id', 'product_name', 'aisle_id', 'department_id']]\n",
    "model_diversity.head(20)"
   ]
  },
  {
   "cell_type": "code",
   "execution_count": 76,
   "metadata": {},
   "outputs": [
    {
     "data": {
      "text/plain": [
       "0.15"
      ]
     },
     "execution_count": 76,
     "metadata": {},
     "output_type": "execute_result"
    }
   ],
   "source": [
    "coverage = np.mean(model_diversity['cnt_users'] > 0)\n",
    "round(coverage, 3)"
   ]
  },
  {
   "cell_type": "code",
   "execution_count": 77,
   "metadata": {},
   "outputs": [
    {
     "data": {
      "text/plain": [
       "44.82"
      ]
     },
     "execution_count": 77,
     "metadata": {},
     "output_type": "execute_result"
    }
   ],
   "source": [
    "nonzero = model_diversity[model_diversity.cnt_users > 0]\n",
    "entropy = -np.sum(nonzero['pct_users'] * np.log2(nonzero['pct_users']))\n",
    "round(entropy, 2)"
   ]
  },
  {
   "cell_type": "code",
   "execution_count": 78,
   "metadata": {},
   "outputs": [
    {
     "data": {
      "image/png": "[encoded data removed]",
      "text/plain": [
       "<Figure size 1152x288 with 1 Axes>"
      ]
     },
     "metadata": {},
     "output_type": "display_data"
    }
   ],
   "source": [
    "fig, axes = plt.subplots(1, 1, figsize=[16, 4])\n",
    "N = 50\n",
    "\n",
    "topN = model_diversity.iloc[:N, :]\n",
    "axes.bar(topN.index.values + 1, topN.pct_users, width=1, edgecolor='black', alpha=0.75)\n",
    "axes.set(xlabel='Item Rank', ylabel='Percentage of Users', title='Percentage of Users Recommended by Item Rank')\n",
    "plt.show()"
   ]
  },
  {
   "cell_type": "markdown",
   "metadata": {},
   "source": [
    "#### Get Similar Items for a Few Items"
   ]
  },
  {
   "cell_type": "code",
   "execution_count": 83,
   "metadata": {},
   "outputs": [
    {
     "name": "stdout",
     "output_type": "stream",
     "text": [
      "random user: 113811\n"
     ]
    }
   ],
   "source": [
    "random_user = np.random.choice(valid_users)\n",
    "print(\"random user: {}\".format(random_user))"
   ]
  },
  {
   "cell_type": "code",
   "execution_count": 84,
   "metadata": {},
   "outputs": [
    {
     "data": {
      "text/html": [
       "<div>\n",
       "<style scoped>\n",
       "    .dataframe tbody tr th:only-of-type {\n",
       "        vertical-align: middle;\n",
       "    }\n",
       "\n",
       "    .dataframe tbody tr th {\n",
       "        vertical-align: top;\n",
       "    }\n",
       "\n",
       "    .dataframe thead th {\n",
       "        text-align: right;\n",
       "    }\n",
       "</style>\n",
       "<table border=\"1\" class=\"dataframe\">\n",
       "  <thead>\n",
       "    <tr style=\"text-align: right;\">\n",
       "      <th></th>\n",
       "      <th>product_name</th>\n",
       "      <th>aisle_id</th>\n",
       "      <th>department_id</th>\n",
       "    </tr>\n",
       "    <tr>\n",
       "      <th>product_id</th>\n",
       "      <th></th>\n",
       "      <th></th>\n",
       "      <th></th>\n",
       "    </tr>\n",
       "  </thead>\n",
       "  <tbody>\n",
       "    <tr>\n",
       "      <th>13176</th>\n",
       "      <td>Bag of Organic Bananas</td>\n",
       "      <td>24</td>\n",
       "      <td>4</td>\n",
       "    </tr>\n",
       "    <tr>\n",
       "      <th>34358</th>\n",
       "      <td>Garlic</td>\n",
       "      <td>83</td>\n",
       "      <td>4</td>\n",
       "    </tr>\n",
       "    <tr>\n",
       "      <th>47626</th>\n",
       "      <td>Large Lemon</td>\n",
       "      <td>24</td>\n",
       "      <td>4</td>\n",
       "    </tr>\n",
       "    <tr>\n",
       "      <th>27966</th>\n",
       "      <td>Organic Raspberries</td>\n",
       "      <td>123</td>\n",
       "      <td>4</td>\n",
       "    </tr>\n",
       "    <tr>\n",
       "      <th>14999</th>\n",
       "      <td>Grade A Large Brown Eggs</td>\n",
       "      <td>86</td>\n",
       "      <td>16</td>\n",
       "    </tr>\n",
       "    <tr>\n",
       "      <th>24852</th>\n",
       "      <td>Banana</td>\n",
       "      <td>24</td>\n",
       "      <td>4</td>\n",
       "    </tr>\n",
       "    <tr>\n",
       "      <th>48370</th>\n",
       "      <td>Sensitive Toilet Paper</td>\n",
       "      <td>54</td>\n",
       "      <td>17</td>\n",
       "    </tr>\n",
       "    <tr>\n",
       "      <th>44142</th>\n",
       "      <td>Red Onion</td>\n",
       "      <td>83</td>\n",
       "      <td>4</td>\n",
       "    </tr>\n",
       "    <tr>\n",
       "      <th>26209</th>\n",
       "      <td>Limes</td>\n",
       "      <td>24</td>\n",
       "      <td>4</td>\n",
       "    </tr>\n",
       "    <tr>\n",
       "      <th>20114</th>\n",
       "      <td>Jalapeno Peppers</td>\n",
       "      <td>83</td>\n",
       "      <td>4</td>\n",
       "    </tr>\n",
       "  </tbody>\n",
       "</table>\n",
       "</div>"
      ],
      "text/plain": [
       "                        product_name  aisle_id  department_id\n",
       "product_id                                                   \n",
       "13176         Bag of Organic Bananas        24              4\n",
       "34358                         Garlic        83              4\n",
       "47626                    Large Lemon        24              4\n",
       "27966            Organic Raspberries       123              4\n",
       "14999       Grade A Large Brown Eggs        86             16\n",
       "24852                         Banana        24              4\n",
       "48370         Sensitive Toilet Paper        54             17\n",
       "44142                      Red Onion        83              4\n",
       "26209                          Limes        24              4\n",
       "20114               Jalapeno Peppers        83              4"
      ]
     },
     "execution_count": 84,
     "metadata": {},
     "output_type": "execute_result"
    }
   ],
   "source": [
    "random_user_recs = valid_recs.loc[random_user]\n",
    "random_user_recs = products_df[products_df.product_id.isin(random_user_recs)].set_index('product_id').loc[random_user_recs]\n",
    "random_user_recs"
   ]
  },
  {
   "cell_type": "markdown",
   "metadata": {},
   "source": [
    "#### Look at Similar Products for a Few of the Random User's Recommended Products"
   ]
  },
  {
   "cell_type": "code",
   "execution_count": 85,
   "metadata": {},
   "outputs": [
    {
     "data": {
      "text/html": [
       "<div>\n",
       "<style scoped>\n",
       "    .dataframe tbody tr th:only-of-type {\n",
       "        vertical-align: middle;\n",
       "    }\n",
       "\n",
       "    .dataframe tbody tr th {\n",
       "        vertical-align: top;\n",
       "    }\n",
       "\n",
       "    .dataframe thead th {\n",
       "        text-align: right;\n",
       "    }\n",
       "</style>\n",
       "<table border=\"1\" class=\"dataframe\">\n",
       "  <thead>\n",
       "    <tr style=\"text-align: right;\">\n",
       "      <th></th>\n",
       "      <th>product_name</th>\n",
       "      <th>aisle_id</th>\n",
       "      <th>department_id</th>\n",
       "    </tr>\n",
       "    <tr>\n",
       "      <th>product_id</th>\n",
       "      <th></th>\n",
       "      <th></th>\n",
       "      <th></th>\n",
       "    </tr>\n",
       "  </thead>\n",
       "  <tbody>\n",
       "    <tr>\n",
       "      <th>14999</th>\n",
       "      <td>Grade A Large Brown Eggs</td>\n",
       "      <td>86</td>\n",
       "      <td>16</td>\n",
       "    </tr>\n",
       "    <tr>\n",
       "      <th>15945</th>\n",
       "      <td>Freshly Shredded Parmesan Cheese</td>\n",
       "      <td>21</td>\n",
       "      <td>16</td>\n",
       "    </tr>\n",
       "    <tr>\n",
       "      <th>45698</th>\n",
       "      <td>One Ply Choose A Size Big Roll Paper Towel Rolls</td>\n",
       "      <td>54</td>\n",
       "      <td>17</td>\n",
       "    </tr>\n",
       "    <tr>\n",
       "      <th>4136</th>\n",
       "      <td>Living Herbs Potted Living Basil</td>\n",
       "      <td>16</td>\n",
       "      <td>4</td>\n",
       "    </tr>\n",
       "    <tr>\n",
       "      <th>22472</th>\n",
       "      <td>Mesquite Smoked Turkey</td>\n",
       "      <td>96</td>\n",
       "      <td>20</td>\n",
       "    </tr>\n",
       "    <tr>\n",
       "      <th>21144</th>\n",
       "      <td>Grab &amp; Go Classic Hummus With Pretzel Crisps</td>\n",
       "      <td>107</td>\n",
       "      <td>19</td>\n",
       "    </tr>\n",
       "    <tr>\n",
       "      <th>24750</th>\n",
       "      <td>Organic Whole Fryer Chicken</td>\n",
       "      <td>35</td>\n",
       "      <td>12</td>\n",
       "    </tr>\n",
       "    <tr>\n",
       "      <th>38881</th>\n",
       "      <td>Shredded Iceberg Lettuce</td>\n",
       "      <td>123</td>\n",
       "      <td>4</td>\n",
       "    </tr>\n",
       "    <tr>\n",
       "      <th>1447</th>\n",
       "      <td>Organic Baby Lettuces</td>\n",
       "      <td>123</td>\n",
       "      <td>4</td>\n",
       "    </tr>\n",
       "    <tr>\n",
       "      <th>41771</th>\n",
       "      <td>Fresh European Style Baby Spinach</td>\n",
       "      <td>123</td>\n",
       "      <td>4</td>\n",
       "    </tr>\n",
       "  </tbody>\n",
       "</table>\n",
       "</div>"
      ],
      "text/plain": [
       "                                                product_name  aisle_id  \\\n",
       "product_id                                                               \n",
       "14999                               Grade A Large Brown Eggs        86   \n",
       "15945                       Freshly Shredded Parmesan Cheese        21   \n",
       "45698       One Ply Choose A Size Big Roll Paper Towel Rolls        54   \n",
       "4136                        Living Herbs Potted Living Basil        16   \n",
       "22472                                 Mesquite Smoked Turkey        96   \n",
       "21144           Grab & Go Classic Hummus With Pretzel Crisps       107   \n",
       "24750                            Organic Whole Fryer Chicken        35   \n",
       "38881                               Shredded Iceberg Lettuce       123   \n",
       "1447                                   Organic Baby Lettuces       123   \n",
       "41771                      Fresh European Style Baby Spinach       123   \n",
       "\n",
       "            department_id  \n",
       "product_id                 \n",
       "14999                  16  \n",
       "15945                  16  \n",
       "45698                  17  \n",
       "4136                    4  \n",
       "22472                  20  \n",
       "21144                  19  \n",
       "24750                  12  \n",
       "38881                   4  \n",
       "1447                    4  \n",
       "41771                   4  "
      ]
     },
     "execution_count": 85,
     "metadata": {},
     "output_type": "execute_result"
    }
   ],
   "source": [
    "most_similar_items = model.similar_items(48370)\n",
    "most_similar_items = products_df.set_index('product_id').loc[most_similar_items]\n",
    "most_similar_items"
   ]
  },
  {
   "cell_type": "markdown",
   "metadata": {},
   "source": [
    "### Asess Model Performance on Novel Item Recommendations"
   ]
  },
  {
   "cell_type": "markdown",
   "metadata": {},
   "source": [
    "#### Save an Array of the Most Popular Items in the Training Data"
   ]
  },
  {
   "cell_type": "code",
   "execution_count": 58,
   "metadata": {},
   "outputs": [
    {
     "name": "stdout",
     "output_type": "stream",
     "text": [
      "33362\n"
     ]
    },
    {
     "data": {
      "text/plain": [
       "product_id\n",
       "24852    3333\n",
       "13176    2904\n",
       "21137    2565\n",
       "21903    2511\n",
       "47209    2003\n",
       "47626    1983\n",
       "26209    1950\n",
       "47766    1841\n",
       "16797    1839\n",
       "39275    1590\n",
       "Name: user_id, dtype: int64"
      ]
     },
     "execution_count": 58,
     "metadata": {},
     "output_type": "execute_result"
    }
   ],
   "source": [
    "most_popular = interactions_train.groupby('product_id')['user_id'].count().sort_values(ascending=False)\n",
    "print(len(most_popular))\n",
    "most_popular.head(10)"
   ]
  },
  {
   "cell_type": "code",
   "execution_count": 59,
   "metadata": {},
   "outputs": [
    {
     "data": {
      "text/plain": [
       "0    24852\n",
       "1    13176\n",
       "2    21137\n",
       "3    21903\n",
       "4    47209\n",
       "5    47626\n",
       "6    26209\n",
       "7    47766\n",
       "8    16797\n",
       "9    39275\n",
       "dtype: int64"
      ]
     },
     "execution_count": 59,
     "metadata": {},
     "output_type": "execute_result"
    }
   ],
   "source": [
    "most_popular = pd.Series(most_popular.index.values)\n",
    "most_popular[:10]"
   ]
  },
  {
   "cell_type": "markdown",
   "metadata": {},
   "source": [
    "#### Save the TopK Most Popular Items Not Yet Previously Purchased for Each Customer"
   ]
  },
  {
   "cell_type": "code",
   "execution_count": 60,
   "metadata": {},
   "outputs": [
    {
     "data": {
      "text/plain": [
       "9936"
      ]
     },
     "execution_count": 60,
     "metadata": {},
     "output_type": "execute_result"
    }
   ],
   "source": [
    "train_user_items = interactions_train.groupby('user_id')['product_id'].apply(set).to_dict()\n",
    "train_user_items = {key: val for key, val in test_user_items.items() if key in set(valid_users)}\n",
    "most_popular_new = {user: most_popular[~most_popular.isin(train_user_items[user])][:k] for user in train_user_items.keys()}\n",
    "len(most_popular_new)"
   ]
  },
  {
   "cell_type": "code",
   "execution_count": 85,
   "metadata": {},
   "outputs": [
    {
     "data": {
      "text/plain": [
       "[33, 61, 72, 76, 84, 109, 140, 146, 173, 190]"
      ]
     },
     "execution_count": 85,
     "metadata": {},
     "output_type": "execute_result"
    }
   ],
   "source": [
    "list(most_popular_new.keys())[:10]"
   ]
  },
  {
   "cell_type": "code",
   "execution_count": 86,
   "metadata": {},
   "outputs": [
    {
     "data": {
      "text/plain": [
       "0     24852\n",
       "5     47626\n",
       "7     47766\n",
       "8     16797\n",
       "9     39275\n",
       "12    45007\n",
       "14    49683\n",
       "15     4605\n",
       "18     4920\n",
       "19    42265\n",
       "dtype: int64"
      ]
     },
     "execution_count": 86,
     "metadata": {},
     "output_type": "execute_result"
    }
   ],
   "source": [
    "most_popular_new[140]"
   ]
  },
  {
   "cell_type": "markdown",
   "metadata": {},
   "source": [
    "#### Calculate the Pure-Popularity Baseline Metrics on Previously Unpurchased Items"
   ]
  },
  {
   "cell_type": "code",
   "execution_count": 87,
   "metadata": {},
   "outputs": [],
   "source": [
    "base_new_hrt = np.mean([int(len(set(most_popular_new[user]) & set(test_user_items[user])) > 0)                           for user in test_user_items.keys()])\n",
    "base_new_pre = np.mean([len(set(most_popular_new[user]) & set(test_user_items[user])) / len(set(most_popular_new[user])) for user in test_user_items.keys()])\n",
    "base_new_rec = np.mean([len(set(most_popular_new[user]) & set(test_user_items[user])) / len(set(test_user_items[user]))  for user in test_user_items.keys()])"
   ]
  },
  {
   "cell_type": "code",
   "execution_count": 88,
   "metadata": {},
   "outputs": [
    {
     "name": "stdout",
     "output_type": "stream",
     "text": [
      "number of test users: 9936\n",
      "baseline new hit rate: 0.000\n",
      "baseline new precision: 0.000\n",
      "baseline new recall: 0.000\n"
     ]
    }
   ],
   "source": [
    "print(\"number of test users: {}\".format(len(test_user_items)))\n",
    "print(\"baseline new hit rate: {:.3f}\".format(base_new_hrt))\n",
    "print(\"baseline new precision: {:.3f}\".format(base_new_pre))\n",
    "print(\"baseline new recall: {:.3f}\".format(base_new_rec))"
   ]
  },
  {
   "cell_type": "markdown",
   "metadata": {},
   "source": [
    "#### Calculate Model Performance Excluding Training Items"
   ]
  },
  {
   "cell_type": "code",
   "execution_count": 89,
   "metadata": {},
   "outputs": [
    {
     "name": "stdout",
     "output_type": "stream",
     "text": [
      "CPU times: user 7min 26s, sys: 46.7 s, total: 8min 12s\n",
      "Wall time: 2min 18s\n"
     ]
    }
   ],
   "source": [
    "%%time\n",
    "model_hrt_new = hit_rate(model, interactions_valid, k=k, filter_previous=True)\n",
    "model_pre_new = precision(model, interactions_valid, k=k, filter_previous=True)\n",
    "model_rec_new = recall(model, interactions_valid, k=k, filter_previous=True)"
   ]
  },
  {
   "cell_type": "code",
   "execution_count": 90,
   "metadata": {},
   "outputs": [
    {
     "name": "stdout",
     "output_type": "stream",
     "text": [
      "model new hit rate: 0.307\n",
      "model new precision: 0.039\n",
      "model new recall: 0.024\n"
     ]
    }
   ],
   "source": [
    "print(\"model new hit rate: {}\".format(round(model_hrt_new, 3)))\n",
    "print(\"model new precision: {}\".format(round(model_pre_new, 3)))\n",
    "print(\"model new recall: {}\".format(round(model_rec_new, 3)))"
   ]
  },
  {
   "cell_type": "markdown",
   "metadata": {},
   "source": [
    "### Compare **RankFM** Performance to the **LightFM** Package"
   ]
  },
  {
   "cell_type": "code",
   "execution_count": 62,
   "metadata": {},
   "outputs": [],
   "source": [
    "from lightfm.data import Dataset\n",
    "from lightfm import LightFM, evaluation"
   ]
  },
  {
   "cell_type": "markdown",
   "metadata": {},
   "source": [
    "#### Create Required Data Structures"
   ]
  },
  {
   "cell_type": "code",
   "execution_count": 63,
   "metadata": {},
   "outputs": [
    {
     "name": "stdout",
     "output_type": "stream",
     "text": [
      "10000 35321\n"
     ]
    },
    {
     "data": {
      "text/plain": [
       "(<10000x35321 sparse matrix of type '<class 'numpy.int32'>'\n",
       " \twith 552348 stored elements in COOrdinate format>,\n",
       " <10000x35321 sparse matrix of type '<class 'numpy.float32'>'\n",
       " \twith 552348 stored elements in COOrdinate format>)"
      ]
     },
     "execution_count": 63,
     "metadata": {},
     "output_type": "execute_result"
    }
   ],
   "source": [
    "all_users = interactions_total.user_id.unique()\n",
    "all_items = interactions_total.product_id.unique()\n",
    "print(len(all_users), len(all_items))\n",
    "\n",
    "lfm_dataset = Dataset()\n",
    "lfm_dataset.fit(users=all_users, items=all_items)\n",
    "\n",
    "lfm_interactions, lfm_weights = lfm_dataset.build_interactions(zip(interactions_train['user_id'], interactions_train['product_id'], sample_weight_train))\n",
    "lfm_interactions, lfm_weights"
   ]
  },
  {
   "cell_type": "markdown",
   "metadata": {},
   "source": [
    "#### Fit the Model"
   ]
  },
  {
   "cell_type": "code",
   "execution_count": 64,
   "metadata": {},
   "outputs": [
    {
     "data": {
      "text/plain": [
       "<lightfm.lightfm.LightFM at 0x1bc2503ac8>"
      ]
     },
     "execution_count": 64,
     "metadata": {},
     "output_type": "execute_result"
    }
   ],
   "source": [
    "lfm_model = LightFM(no_components=50, loss='warp', max_sampled=50)\n",
    "lfm_model"
   ]
  },
  {
   "cell_type": "code",
   "execution_count": 65,
   "metadata": {},
   "outputs": [
    {
     "name": "stdout",
     "output_type": "stream",
     "text": [
      "Epoch 0\n",
      "Epoch 1\n",
      "Epoch 2\n",
      "Epoch 3\n",
      "Epoch 4\n",
      "Epoch 5\n",
      "Epoch 6\n",
      "Epoch 7\n",
      "Epoch 8\n",
      "Epoch 9\n",
      "Epoch 10\n",
      "Epoch 11\n",
      "Epoch 12\n",
      "Epoch 13\n",
      "Epoch 14\n",
      "Epoch 15\n",
      "Epoch 16\n",
      "Epoch 17\n",
      "Epoch 18\n",
      "Epoch 19\n",
      "CPU times: user 46.9 s, sys: 154 ms, total: 47.1 s\n",
      "Wall time: 47.2 s\n"
     ]
    },
    {
     "data": {
      "text/plain": [
       "<lightfm.lightfm.LightFM at 0x1bc2503ac8>"
      ]
     },
     "execution_count": 65,
     "metadata": {},
     "output_type": "execute_result"
    }
   ],
   "source": [
    "%%time\n",
    "lfm_model.fit(lfm_interactions, epochs=20, verbose=True)"
   ]
  },
  {
   "cell_type": "code",
   "execution_count": 66,
   "metadata": {},
   "outputs": [
    {
     "name": "stdout",
     "output_type": "stream",
     "text": [
      "(10000,) (35321,)\n",
      "(9936,) (25320,)\n"
     ]
    }
   ],
   "source": [
    "print(all_users.shape, all_items.shape)\n",
    "print(valid_users.shape, valid_items.shape)"
   ]
  },
  {
   "cell_type": "markdown",
   "metadata": {},
   "source": [
    "#### Evaluate LightFM's Performance on Hold-Out Data"
   ]
  },
  {
   "cell_type": "code",
   "execution_count": 67,
   "metadata": {},
   "outputs": [
    {
     "data": {
      "text/plain": [
       "<10000x35321 sparse matrix of type '<class 'numpy.int32'>'\n",
       "\twith 262425 stored elements in COOrdinate format>"
      ]
     },
     "execution_count": 67,
     "metadata": {},
     "output_type": "execute_result"
    }
   ],
   "source": [
    "lfm_test_interactions, lfm_test_weights = lfm_dataset.build_interactions(zip(interactions_valid['user_id'], interactions_valid['product_id']))\n",
    "lfm_test_interactions"
   ]
  },
  {
   "cell_type": "code",
   "execution_count": 68,
   "metadata": {},
   "outputs": [],
   "source": [
    "%%time\n",
    "lfm_rnk = evaluation.reciprocal_rank(lfm_model, lfm_test_interactions).mean()\n",
    "lfm_pre = evaluation.precision_at_k(lfm_model, lfm_test_interactions, k=k).mean()\n",
    "lfm_rec = evaluation.recall_at_k(lfm_model, lfm_test_interactions, k=k).mean()"
   ]
  },
  {
   "cell_type": "code",
   "execution_count": 69,
   "metadata": {},
   "outputs": [
    {
     "name": "stdout",
     "output_type": "stream",
     "text": [
      "reciprocal_rank: 0.406\n",
      "precision: 0.176\n",
      "recall: 0.092\n"
     ]
    }
   ],
   "source": [
    "print(\"reciprocal_rank: {:.3f}\".format(lfm_rnk))\n",
    "print(\"precision: {:.3f}\".format(lfm_pre))\n",
    "print(\"recall: {:.3f}\".format(lfm_rec))"
   ]
  },
  {
   "cell_type": "markdown",
   "metadata": {},
   "source": [
    "### Compare **RankFM** Performance to the **Implicit** Package"
   ]
  },
  {
   "cell_type": "code",
   "execution_count": 38,
   "metadata": {},
   "outputs": [],
   "source": [
    "from implicit.als import AlternatingLeastSquares"
   ]
  },
  {
   "cell_type": "markdown",
   "metadata": {},
   "source": [
    "#### Create Required Data Structures"
   ]
  },
  {
   "cell_type": "code",
   "execution_count": 39,
   "metadata": {},
   "outputs": [
    {
     "data": {
      "text/plain": [
       "(10000, 33362, 552348)"
      ]
     },
     "execution_count": 39,
     "metadata": {},
     "output_type": "execute_result"
    }
   ],
   "source": [
    "# create zero-based index position to identifier mappings\n",
    "index_to_user = pd.Series(np.sort(np.unique(interactions_train['user_id'])))\n",
    "index_to_item = pd.Series(np.sort(np.unique(interactions_train['product_id'])))\n",
    "\n",
    "# create reverse mappings from identifiers to zero-based index positions\n",
    "user_to_index = pd.Series(data=index_to_user.index, index=index_to_user.values)\n",
    "item_to_index = pd.Series(data=index_to_item.index, index=index_to_item.values)\n",
    "\n",
    "interactions_train_imp = interactions_train.copy()\n",
    "interactions_train_imp['user_id'] = interactions_train['user_id'].map(user_to_index)\n",
    "interactions_train_imp['product_id'] = interactions_train['product_id'].map(item_to_index)\n",
    "\n",
    "n_users_train = len(index_to_user)\n",
    "n_items_train = len(index_to_item)\n",
    "n_inter_train = len(interactions_train_imp)\n",
    "n_users_train, n_items_train, n_inter_train"
   ]
  },
  {
   "cell_type": "code",
   "execution_count": 40,
   "metadata": {},
   "outputs": [
    {
     "data": {
      "text/plain": [
       "(<10000x33362 sparse matrix of type '<class 'numpy.float64'>'\n",
       " \twith 552348 stored elements in Compressed Sparse Row format>,\n",
       " <33362x10000 sparse matrix of type '<class 'numpy.float64'>'\n",
       " \twith 552348 stored elements in Compressed Sparse Row format>)"
      ]
     },
     "execution_count": 40,
     "metadata": {},
     "output_type": "execute_result"
    }
   ],
   "source": [
    "data = np.ones(n_inter_train)\n",
    "rows = interactions_train_imp['user_id']\n",
    "cols = interactions_train_imp['product_id']\n",
    "\n",
    "user_items_imp = csr_matrix((data, (rows, cols)), shape=(n_users_train, n_items_train))\n",
    "item_users_imp = user_items_imp.T.tocsr()\n",
    "user_items_imp, item_users_imp"
   ]
  },
  {
   "cell_type": "markdown",
   "metadata": {},
   "source": [
    "#### Fit the Model"
   ]
  },
  {
   "cell_type": "code",
   "execution_count": 41,
   "metadata": {},
   "outputs": [
    {
     "name": "stderr",
     "output_type": "stream",
     "text": [
      "WARNING:root:Intel MKL BLAS detected. Its highly recommend to set the environment variable 'export MKL_NUM_THREADS=1' to disable its internal multithreading\n"
     ]
    },
    {
     "data": {
      "text/plain": [
       "<implicit.als.AlternatingLeastSquares at 0x1a28cc3550>"
      ]
     },
     "execution_count": 41,
     "metadata": {},
     "output_type": "execute_result"
    }
   ],
   "source": [
    "imp_model = AlternatingLeastSquares(factors=50, use_native=True, use_cg=False)\n",
    "imp_model"
   ]
  },
  {
   "cell_type": "code",
   "execution_count": null,
   "metadata": {},
   "outputs": [],
   "source": [
    "%%time\n",
    "\n",
    "imp_model.fit(item_users_imp, show_progress=False)"
   ]
  },
  {
   "cell_type": "markdown",
   "metadata": {},
   "source": [
    "#### Generate TopN Recommendations for Each User"
   ]
  },
  {
   "cell_type": "code",
   "execution_count": 110,
   "metadata": {},
   "outputs": [
    {
     "data": {
      "application/vnd.jupyter.widget-view+json": {
       "model_id": "e354b4db70ab43fc82a588c004f8856e",
       "version_major": 2,
       "version_minor": 0
      },
      "text/plain": [
       "HBox(children=(FloatProgress(value=0.0, max=10000.0), HTML(value='')))"
      ]
     },
     "metadata": {},
     "output_type": "display_data"
    },
    {
     "name": "stdout",
     "output_type": "stream",
     "text": [
      "\n"
     ]
    },
    {
     "data": {
      "text/html": [
       "<div>\n",
       "<style scoped>\n",
       "    .dataframe tbody tr th:only-of-type {\n",
       "        vertical-align: middle;\n",
       "    }\n",
       "\n",
       "    .dataframe tbody tr th {\n",
       "        vertical-align: top;\n",
       "    }\n",
       "\n",
       "    .dataframe thead th {\n",
       "        text-align: right;\n",
       "    }\n",
       "</style>\n",
       "<table border=\"1\" class=\"dataframe\">\n",
       "  <thead>\n",
       "    <tr style=\"text-align: right;\">\n",
       "      <th></th>\n",
       "      <th>0</th>\n",
       "      <th>1</th>\n",
       "      <th>2</th>\n",
       "      <th>3</th>\n",
       "      <th>4</th>\n",
       "      <th>5</th>\n",
       "      <th>6</th>\n",
       "      <th>7</th>\n",
       "      <th>8</th>\n",
       "      <th>9</th>\n",
       "    </tr>\n",
       "  </thead>\n",
       "  <tbody>\n",
       "    <tr>\n",
       "      <th>33</th>\n",
       "      <td>44142</td>\n",
       "      <td>49235</td>\n",
       "      <td>5077</td>\n",
       "      <td>34969</td>\n",
       "      <td>47626</td>\n",
       "      <td>28985</td>\n",
       "      <td>21616</td>\n",
       "      <td>15290</td>\n",
       "      <td>8174</td>\n",
       "      <td>19057</td>\n",
       "    </tr>\n",
       "    <tr>\n",
       "      <th>61</th>\n",
       "      <td>44142</td>\n",
       "      <td>29487</td>\n",
       "      <td>5077</td>\n",
       "      <td>28985</td>\n",
       "      <td>21616</td>\n",
       "      <td>39993</td>\n",
       "      <td>31553</td>\n",
       "      <td>45066</td>\n",
       "      <td>41787</td>\n",
       "      <td>9387</td>\n",
       "    </tr>\n",
       "    <tr>\n",
       "      <th>72</th>\n",
       "      <td>33731</td>\n",
       "      <td>2295</td>\n",
       "      <td>46667</td>\n",
       "      <td>38293</td>\n",
       "      <td>29487</td>\n",
       "      <td>41950</td>\n",
       "      <td>23734</td>\n",
       "      <td>43961</td>\n",
       "      <td>34969</td>\n",
       "      <td>14992</td>\n",
       "    </tr>\n",
       "    <tr>\n",
       "      <th>76</th>\n",
       "      <td>28985</td>\n",
       "      <td>27344</td>\n",
       "      <td>18531</td>\n",
       "      <td>42701</td>\n",
       "      <td>48364</td>\n",
       "      <td>9076</td>\n",
       "      <td>31553</td>\n",
       "      <td>22035</td>\n",
       "      <td>5077</td>\n",
       "      <td>33000</td>\n",
       "    </tr>\n",
       "    <tr>\n",
       "      <th>84</th>\n",
       "      <td>17794</td>\n",
       "      <td>34126</td>\n",
       "      <td>44632</td>\n",
       "      <td>5077</td>\n",
       "      <td>39928</td>\n",
       "      <td>8277</td>\n",
       "      <td>48679</td>\n",
       "      <td>28842</td>\n",
       "      <td>27344</td>\n",
       "      <td>21616</td>\n",
       "    </tr>\n",
       "  </tbody>\n",
       "</table>\n",
       "</div>"
      ],
      "text/plain": [
       "        0      1      2      3      4      5      6      7      8      9\n",
       "33  44142  49235   5077  34969  47626  28985  21616  15290   8174  19057\n",
       "61  44142  29487   5077  28985  21616  39993  31553  45066  41787   9387\n",
       "72  33731   2295  46667  38293  29487  41950  23734  43961  34969  14992\n",
       "76  28985  27344  18531  42701  48364   9076  31553  22035   5077  33000\n",
       "84  17794  34126  44632   5077  39928   8277  48679  28842  27344  21616"
      ]
     },
     "execution_count": 110,
     "metadata": {},
     "output_type": "execute_result"
    }
   ],
   "source": [
    "recs_imp = imp_model.recommend_all(user_items=user_items_imp, N=k)\n",
    "recs_imp = pd.DataFrame(recs_imp, index=index_to_user.values).apply(lambda c: c.map(index_to_item))\n",
    "recs_imp = recs_imp.loc[valid_users]\n",
    "recs_imp.head()"
   ]
  },
  {
   "cell_type": "code",
   "execution_count": 111,
   "metadata": {},
   "outputs": [
    {
     "name": "stdout",
     "output_type": "stream",
     "text": [
      "(9936, 10)\n",
      "True\n"
     ]
    }
   ],
   "source": [
    "print(recs_imp.shape)\n",
    "print(np.array_equal(recs_imp.index, valid_users))"
   ]
  },
  {
   "cell_type": "markdown",
   "metadata": {},
   "source": [
    "#### Evaluate **Implicit**'s Performance on Hold-Out Data"
   ]
  },
  {
   "cell_type": "code",
   "execution_count": 112,
   "metadata": {},
   "outputs": [],
   "source": [
    "valid_user_items = interactions_valid.groupby('user_id')['product_id'].apply(set).to_dict()"
   ]
  },
  {
   "cell_type": "code",
   "execution_count": 113,
   "metadata": {},
   "outputs": [],
   "source": [
    "imp_hrt = np.mean([int(len(set(recs_imp.loc[u]) & valid_user_items[u]) > 0) for u in valid_users])\n",
    "imp_pre = np.mean([len(set(recs_imp.loc[u]) & valid_user_items[u]) / len(recs_imp.loc[u]) for u in valid_users])\n",
    "imp_rec = np.mean([len(set(recs_imp.loc[u]) & valid_user_items[u]) / len(valid_user_items[u]) for u in valid_users])"
   ]
  },
  {
   "cell_type": "code",
   "execution_count": 114,
   "metadata": {},
   "outputs": [
    {
     "name": "stdout",
     "output_type": "stream",
     "text": [
      "hit_rate: 0.264\n",
      "precision: 0.032\n",
      "recall: 0.019\n"
     ]
    }
   ],
   "source": [
    "print(\"hit_rate: {:.3f}\".format(imp_hrt))\n",
    "print(\"precision: {:.3f}\".format(imp_pre))\n",
    "print(\"recall: {:.3f}\".format(imp_rec))"
   ]
  },
  {
   "cell_type": "code",
   "execution_count": null,
   "metadata": {},
   "outputs": [],
   "source": []
  }
 ],
 "metadata": {
  "kernelspec": {
   "display_name": "Python 3",
   "language": "python",
   "name": "python3"
  },
  "language_info": {
   "codemirror_mode": {
    "name": "ipython",
    "version": 3
   },
   "file_extension": ".py",
   "mimetype": "text/x-python",
   "name": "python",
   "nbconvert_exporter": "python",
   "pygments_lexer": "ipython3",
   "version": "3.7.2"
  }
 },
 "nbformat": 4,
 "nbformat_minor": 4
}
