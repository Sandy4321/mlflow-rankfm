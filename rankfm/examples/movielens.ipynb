{
 "cells": [
  {
   "cell_type": "markdown",
   "metadata": {},
   "source": [
    "### Import Required Packages and Set Options"
   ]
  },
  {
   "cell_type": "code",
   "execution_count": 1,
   "metadata": {},
   "outputs": [],
   "source": [
    "import os\n",
    "import sys\n",
    "# import git\n",
    "\n",
    "import numpy as np\n",
    "import numba as nb\n",
    "import pandas as pd\n",
    "\n",
    "import matplotlib.pyplot as plt\n",
    "import seaborn as sns\n",
    "\n",
    "import warnings\n",
    "# warnings.filterwarnings(\"ignore\", category=nb.NumbaPerformanceWarning)"
   ]
  },
  {
   "cell_type": "code",
   "execution_count": 2,
   "metadata": {},
   "outputs": [],
   "source": [
    "sns.set_style('whitegrid')\n",
    "plt.rcParams['axes.titlesize'] = 14\n",
    "plt.rcParams['axes.labelsize'] = 12\n",
    "plt.rcParams['xtick.labelsize'] = 12\n",
    "plt.rcParams['ytick.labelsize'] = 12\n",
    "# plt.rcParams"
   ]
  },
  {
   "cell_type": "markdown",
   "metadata": {},
   "source": [
    "#### Dynamically Re-Load all Package Modules"
   ]
  },
  {
   "cell_type": "code",
   "execution_count": 3,
   "metadata": {},
   "outputs": [],
   "source": [
    "%load_ext autoreload\n",
    "%autoreload 2\n",
    "\n",
    "from rankfm.rankfm import RankFM\n",
    "from rankfm.evaluation import hit_rate, reciprocal_rank, discounted_cumulative_gain, precision, recall, diversity"
   ]
  },
  {
   "cell_type": "markdown",
   "metadata": {},
   "source": [
    "### Load Example Data"
   ]
  },
  {
   "cell_type": "markdown",
   "metadata": {},
   "source": [
    "#### Load Interactions Data\n",
    "* `interactions` must be a `pd.dataframe` or `np.ndarray` with columns: `[user_id, item_id]` when used for model fitting\n",
    "* the rows of `interactions` should represent observed or implied positive feedback for the user/item pair\n",
    "* examples of implicit feedback include product purchases, movie/article views, page views, clicks, etc.\n",
    "* the `user_id` and/or `item_id` identifiers can be arbitrary integers or even strings as long as they are unique identifiers for users/items\n",
    "* RankFM internally maps raw `user_id` and `item_id` values to zero-based index positions but maps all output back to original identifier values\n",
    "\n",
    "* it is recommended you perform any cross-validation or data splitting strategy requiring additional columns prior to preparing the interaction data for model fitting\n",
    "\n",
    "* in this example we'll assume all observed movie ratings count as positive implicit feedback regardless of numerical rating `[1-5]`\n",
    "\n",
    "* this most closely represents the intended data and modeling context for which RankFM was designed (implicit preferences recommendation)"
   ]
  },
  {
   "cell_type": "code",
   "execution_count": 4,
   "metadata": {},
   "outputs": [],
   "source": [
    "#Load data\n",
    "path = \"/Users/a420777/Desktop/hcc/gnn/datasets/movielens/\""
   ]
  },
  {
   "cell_type": "code",
   "execution_count": 5,
   "metadata": {},
   "outputs": [],
   "source": [
    "#Ratings\n",
    "interactions = pd.read_csv(path+'ratings.dat', sep='::', header=None, engine='python')\n",
    "interactions.columns = ['user_id','item_id','rating','timestamp']\n",
    "interactions = interactions.drop('timestamp', axis=1)"
   ]
  },
  {
   "cell_type": "code",
   "execution_count": 6,
   "metadata": {},
   "outputs": [],
   "source": [
    "#Movies\n",
    "item_names = pd.read_csv(path+'movies.dat', sep='::', header=None, engine='python')\n",
    "item_names.columns = ['item_id','title','genres']"
   ]
  },
  {
   "cell_type": "code",
   "execution_count": 8,
   "metadata": {},
   "outputs": [],
   "source": [
    "#Users\n",
    "user_features = pd.read_csv(path+'users.dat', sep='::', header=None, engine='python')\n",
    "user_features.columns = ['user_id','gender','age','occupation','zip-code']\n",
    "user_features = user_features.drop('zip-code', axis=1)"
   ]
  },
  {
   "cell_type": "code",
   "execution_count": 9,
   "metadata": {},
   "outputs": [
    {
     "data": {
      "text/html": [
       "<div>\n",
       "<style scoped>\n",
       "    .dataframe tbody tr th:only-of-type {\n",
       "        vertical-align: middle;\n",
       "    }\n",
       "\n",
       "    .dataframe tbody tr th {\n",
       "        vertical-align: top;\n",
       "    }\n",
       "\n",
       "    .dataframe thead th {\n",
       "        text-align: right;\n",
       "    }\n",
       "</style>\n",
       "<table border=\"1\" class=\"dataframe\">\n",
       "  <thead>\n",
       "    <tr style=\"text-align: right;\">\n",
       "      <th></th>\n",
       "      <th>user_id</th>\n",
       "      <th>item_id</th>\n",
       "      <th>rating</th>\n",
       "    </tr>\n",
       "  </thead>\n",
       "  <tbody>\n",
       "    <tr>\n",
       "      <th>0</th>\n",
       "      <td>1</td>\n",
       "      <td>1193</td>\n",
       "      <td>5</td>\n",
       "    </tr>\n",
       "    <tr>\n",
       "      <th>1</th>\n",
       "      <td>1</td>\n",
       "      <td>661</td>\n",
       "      <td>3</td>\n",
       "    </tr>\n",
       "    <tr>\n",
       "      <th>2</th>\n",
       "      <td>1</td>\n",
       "      <td>914</td>\n",
       "      <td>3</td>\n",
       "    </tr>\n",
       "    <tr>\n",
       "      <th>3</th>\n",
       "      <td>1</td>\n",
       "      <td>3408</td>\n",
       "      <td>4</td>\n",
       "    </tr>\n",
       "    <tr>\n",
       "      <th>4</th>\n",
       "      <td>1</td>\n",
       "      <td>2355</td>\n",
       "      <td>5</td>\n",
       "    </tr>\n",
       "  </tbody>\n",
       "</table>\n",
       "</div>"
      ],
      "text/plain": [
       "   user_id  item_id  rating\n",
       "0        1     1193       5\n",
       "1        1      661       3\n",
       "2        1      914       3\n",
       "3        1     3408       4\n",
       "4        1     2355       5"
      ]
     },
     "execution_count": 9,
     "metadata": {},
     "output_type": "execute_result"
    }
   ],
   "source": [
    "# interactions = pd.read_csv(os.path.join(data_path, 'ML_1M_RATINGS.csv'))\n",
    "interactions.head()"
   ]
  },
  {
   "cell_type": "markdown",
   "metadata": {},
   "source": [
    "#### Load User Features\n",
    "* `user_features` must be a `pd.dataframe` or `np.ndarray` with columns: `[user_id, uf_1, ... , uf_n]`\n",
    "* the first column must be the `user_id` and the set of `user_id` values must match the unique users found in `interactions`\n",
    "* the additional columns should be user attributes/features that can be coerced to `float32` data type (i.e. no strings)\n",
    "* care should be taken to scale any continuous features prior to model fitting for numerical stability - often dummy/tag features work best"
   ]
  },
  {
   "cell_type": "code",
   "execution_count": 12,
   "metadata": {},
   "outputs": [],
   "source": [
    "# user_features = pd.read_csv(os.path.join(data_path, 'ML_1M_USERS.csv'))\n",
    "user_features.occupation=user_features.occupation.astype(\"object\")\n",
    "user_features.age=user_features.age.astype(\"object\")"
   ]
  },
  {
   "cell_type": "code",
   "execution_count": 13,
   "metadata": {},
   "outputs": [],
   "source": [
    "user_features=pd.get_dummies(user_features)"
   ]
  },
  {
   "cell_type": "markdown",
   "metadata": {},
   "source": [
    "#### Load Item Features\n",
    "* `item_features` must be a `pd.dataframe` or `np.ndarray` with columns: `[item_id, uf_1, ... , uf_n]`\n",
    "* the first column must be the `item_id` and the set of `item_id` values must match the unique items found in `interactions`\n",
    "* the additional columns should be item attributes/features that can be coerced to `float32` data type (i.e. no strings)\n",
    "* care should be taken to scale any continuous features prior to model fitting for numerical stability - often dummy/tag features work best"
   ]
  },
  {
   "cell_type": "code",
   "execution_count": null,
   "metadata": {},
   "outputs": [],
   "source": []
  },
  {
   "cell_type": "code",
   "execution_count": 14,
   "metadata": {},
   "outputs": [],
   "source": [
    "# https://datascience.stackexchange.com/questions/14847/multiple-categorical-values-for-a-single-feature-how-to-convert-them-to-binary-u\n",
    "# https://datascience.stackexchange.com/questions/8253/how-to-binary-encode-multi-valued-categorical-variable-from-pandas-dataframe"
   ]
  },
  {
   "cell_type": "code",
   "execution_count": 15,
   "metadata": {},
   "outputs": [],
   "source": [
    "import collections"
   ]
  },
  {
   "cell_type": "code",
   "execution_count": 18,
   "metadata": {},
   "outputs": [],
   "source": [
    "split_series=item_names.genres.str.split(\"|\").apply(lambda x: x)"
   ]
  },
  {
   "cell_type": "code",
   "execution_count": 19,
   "metadata": {},
   "outputs": [],
   "source": [
    "split_series_dict=split_series.apply(collections.Counter)\n",
    "multi_hot=pd.DataFrame.from_records(split_series_dict).fillna(value=0)"
   ]
  },
  {
   "cell_type": "code",
   "execution_count": null,
   "metadata": {},
   "outputs": [],
   "source": []
  },
  {
   "cell_type": "code",
   "execution_count": 20,
   "metadata": {},
   "outputs": [],
   "source": [
    "item_features=pd.concat([item_names.item_id, multi_hot], axis=1)"
   ]
  },
  {
   "cell_type": "code",
   "execution_count": null,
   "metadata": {},
   "outputs": [],
   "source": []
  },
  {
   "cell_type": "markdown",
   "metadata": {},
   "source": [
    "#### Load Item Names\n",
    "* these won't be used for model fitting, but are important when reviewing the output for face validity\n",
    "* also analyzing recommended/similar movies isn't any fun if you can't see the titles!"
   ]
  },
  {
   "cell_type": "code",
   "execution_count": null,
   "metadata": {},
   "outputs": [],
   "source": []
  },
  {
   "cell_type": "markdown",
   "metadata": {},
   "source": [
    "#### Check Matrix/Vector Dimensions"
   ]
  },
  {
   "cell_type": "code",
   "execution_count": 21,
   "metadata": {},
   "outputs": [
    {
     "name": "stdout",
     "output_type": "stream",
     "text": [
      "interactions shape: (1000209, 3)\n",
      "interactions unique users: 6040\n",
      "interactions unique items: 3706\n",
      "user features users: 6040\n",
      "item features items: 3706\n"
     ]
    }
   ],
   "source": [
    "unique_users = interactions.user_id.nunique()\n",
    "unique_items = interactions.item_id.nunique()\n",
    "\n",
    "print(\"interactions shape: {}\".format(interactions.shape))\n",
    "print(\"interactions unique users: {}\".format(interactions.user_id.nunique()))\n",
    "print(\"interactions unique items: {}\".format(interactions.item_id.nunique()))\n",
    "\n",
    "print(\"user features users:\", interactions.user_id.nunique())\n",
    "print(\"item features items:\", interactions.item_id.nunique())"
   ]
  },
  {
   "cell_type": "markdown",
   "metadata": {},
   "source": [
    "#### Evaluate Interaction Matrix Sparsity"
   ]
  },
  {
   "cell_type": "code",
   "execution_count": 22,
   "metadata": {},
   "outputs": [
    {
     "name": "stdout",
     "output_type": "stream",
     "text": [
      "interaction matrix sparsity: 95.5%\n"
     ]
    }
   ],
   "source": [
    "sparsity = 1 - (len(interactions) / (unique_users * unique_items))\n",
    "print(\"interaction matrix sparsity: {}%\".format(round(100 * sparsity, 1)))"
   ]
  },
  {
   "cell_type": "markdown",
   "metadata": {},
   "source": [
    "#### Split Interactions Data into (Train, Valid) for Model Evaluation\n",
    "* we'll randomly split off 25% of the observed user/item interactions for model validation\n",
    "* take care to note any users/items in the validation set not appearing in the training set\n",
    "\n",
    "* for model fitting we'll have to unify the set of users/items across `interactions`, `user_features`, `item_features`\n",
    "* for scoring/recommendation RankFM has the `cold_start` option to either drop unseen users/items or set model output to np.nan"
   ]
  },
  {
   "cell_type": "code",
   "execution_count": 23,
   "metadata": {},
   "outputs": [],
   "source": [
    "np.random.seed(1492)\n",
    "interactions['random'] = np.random.random(size=len(interactions))\n",
    "test_pct = 0.25"
   ]
  },
  {
   "cell_type": "code",
   "execution_count": 24,
   "metadata": {},
   "outputs": [
    {
     "name": "stdout",
     "output_type": "stream",
     "text": [
      "train shape: (749724, 2)\n",
      "valid shape: (250485, 2)\n",
      "train users: 6040\n",
      "valid users: 6038\n",
      "cold-start users: set()\n",
      "train items: 3666\n",
      "valid items: 3531\n",
      "cold-start items: {3202, 2563, 644, 3460, 3209, 3722, 139, 396, 651, 1555, 1434, 1915, 1830, 2217, 2218, 687, 1842, 2742, 1851, 2619, 576, 3321, 3277, 3323, 3280, 601, 3290, 3164, 989, 865, 226, 3172, 1386, 878, 3187, 758, 3065, 763, 2556, 127}\n"
     ]
    }
   ],
   "source": [
    "train_mask = interactions['random'] <  (1 - test_pct)\n",
    "valid_mask = interactions['random'] >= (1 - test_pct)\n",
    "\n",
    "interactions_train = interactions[train_mask][['user_id', 'item_id']]\n",
    "interactions_valid = interactions[valid_mask][['user_id', 'item_id']]\n",
    "\n",
    "train_users = np.sort(interactions_train.user_id.unique())\n",
    "valid_users = np.sort(interactions_valid.user_id.unique())\n",
    "cold_start_users = set(valid_users) - set(train_users)\n",
    "\n",
    "train_items = np.sort(interactions_train.item_id.unique())\n",
    "valid_items = np.sort(interactions_valid.item_id.unique())\n",
    "cold_start_items = set(valid_items) - set(train_items)\n",
    "\n",
    "print(\"train shape: {}\".format(interactions_train.shape))\n",
    "print(\"valid shape: {}\".format(interactions_valid.shape))\n",
    "\n",
    "print(\"train users: {}\".format(len(train_users)))\n",
    "print(\"valid users: {}\".format(len(valid_users)))\n",
    "print(\"cold-start users: {}\".format(cold_start_users))\n",
    "\n",
    "print(\"train items: {}\".format(len(train_items)))\n",
    "print(\"valid items: {}\".format(len(valid_items)))\n",
    "print(\"cold-start items: {}\".format(cold_start_items))"
   ]
  },
  {
   "cell_type": "code",
   "execution_count": 25,
   "metadata": {},
   "outputs": [
    {
     "data": {
      "text/plain": [
       "((6040, 31), (3666, 19))"
      ]
     },
     "execution_count": 25,
     "metadata": {},
     "output_type": "execute_result"
    }
   ],
   "source": [
    "user_features = user_features[user_features.user_id.isin(train_users)]\n",
    "item_features = item_features[item_features.item_id.isin(train_items)]\n",
    "user_features.shape, item_features.shape"
   ]
  },
  {
   "cell_type": "markdown",
   "metadata": {},
   "source": [
    "### Fit the Model on the Training Data and Evaluate Out-of-Sample Performance Metrics"
   ]
  },
  {
   "cell_type": "markdown",
   "metadata": {},
   "source": [
    "#### Initialize the Model Object"
   ]
  },
  {
   "cell_type": "code",
   "execution_count": 26,
   "metadata": {},
   "outputs": [
    {
     "data": {
      "text/plain": [
       "<rankfm.rankfm.RankFM at 0x7fb4fc0dbc90>"
      ]
     },
     "execution_count": 26,
     "metadata": {},
     "output_type": "execute_result"
    }
   ],
   "source": [
    "model = RankFM(factors=20, loss='warp', max_samples=20, alpha=0.01, sigma=0.1, learning_rate=0.10, learning_schedule='invscaling')\n",
    "model"
   ]
  },
  {
   "cell_type": "markdown",
   "metadata": {},
   "source": [
    "#### Fit the Model on the Training Data\n",
    "\n",
    "* each epoch represents one full pass through all observed user/item interactions in the training data\n",
    "\n",
    "* the `verbose` flag will print the current training epoch as well as the epoch's penalized log-likelihood value\n",
    "\n",
    "* the training algorithm attempts to maximize the model's log likelihood which represents user preferences for observed items over unobserved items\n",
    "\n",
    "* the log likelihood isn't 1:1 correlated with our recommendation/ranking evaluation metrics but serves as a decent proxy for training progress "
   ]
  },
  {
   "cell_type": "code",
   "execution_count": 27,
   "metadata": {},
   "outputs": [
    {
     "name": "stdout",
     "output_type": "stream",
     "text": [
      "\n",
      "training epoch: 0\n",
      "log likelihood: -434433.75\n",
      "\n",
      "training epoch: 1\n",
      "log likelihood: -420144.03125\n",
      "\n",
      "training epoch: 2\n",
      "log likelihood: -410680.4375\n",
      "\n",
      "training epoch: 3\n",
      "log likelihood: -405669.09375\n",
      "\n",
      "training epoch: 4\n",
      "log likelihood: -402369.28125\n",
      "\n",
      "training epoch: 5\n",
      "log likelihood: -400163.34375\n",
      "\n",
      "training epoch: 6\n",
      "log likelihood: -398232.21875\n",
      "\n",
      "training epoch: 7\n",
      "log likelihood: -396977.09375\n",
      "\n",
      "training epoch: 8\n",
      "log likelihood: -395550.78125\n",
      "\n",
      "training epoch: 9\n",
      "log likelihood: -394704.4375\n",
      "\n",
      "training epoch: 10\n",
      "log likelihood: -393696.75\n",
      "\n",
      "training epoch: 11\n",
      "log likelihood: -393200.71875\n",
      "\n",
      "training epoch: 12\n",
      "log likelihood: -392413.6875\n",
      "\n",
      "training epoch: 13\n",
      "log likelihood: -392190.46875\n",
      "\n",
      "training epoch: 14\n",
      "log likelihood: -391532.78125\n",
      "\n",
      "training epoch: 15\n",
      "log likelihood: -391579.0625\n",
      "\n",
      "training epoch: 16\n",
      "log likelihood: -391001.6875\n",
      "\n",
      "training epoch: 17\n",
      "log likelihood: -390895.0625\n",
      "\n",
      "training epoch: 18\n",
      "log likelihood: -390115.15625\n",
      "\n",
      "training epoch: 19\n",
      "log likelihood: -390569.1875\n",
      "CPU times: user 33.5 s, sys: 222 ms, total: 33.7 s\n",
      "Wall time: 33.8 s\n"
     ]
    }
   ],
   "source": [
    "%%time\n",
    "model.fit(interactions_train, epochs=20, verbose=True)"
   ]
  },
  {
   "cell_type": "markdown",
   "metadata": {},
   "source": [
    "#### Generate Model Scores for Validation Interactions\n",
    "* the `predict()` method generates real-valued model scores for user/item pairs\n",
    "* specify scoring interactions or user/item pairs the same way as training: `[user_id, item_id]`\n",
    "* the scores generated are those produced by the underlying second-degree factorization machine model\n",
    "* the `cold_start` option allows you to either generate missing values for unseen users/items or drop them from scoring output"
   ]
  },
  {
   "cell_type": "code",
   "execution_count": 57,
   "metadata": {},
   "outputs": [
    {
     "data": {
      "text/html": [
       "<div>\n",
       "<style scoped>\n",
       "    .dataframe tbody tr th:only-of-type {\n",
       "        vertical-align: middle;\n",
       "    }\n",
       "\n",
       "    .dataframe tbody tr th {\n",
       "        vertical-align: top;\n",
       "    }\n",
       "\n",
       "    .dataframe thead th {\n",
       "        text-align: right;\n",
       "    }\n",
       "</style>\n",
       "<table border=\"1\" class=\"dataframe\">\n",
       "  <thead>\n",
       "    <tr style=\"text-align: right;\">\n",
       "      <th></th>\n",
       "      <th>user_id</th>\n",
       "      <th>item_id</th>\n",
       "    </tr>\n",
       "  </thead>\n",
       "  <tbody>\n",
       "    <tr>\n",
       "      <th>1</th>\n",
       "      <td>1</td>\n",
       "      <td>661</td>\n",
       "    </tr>\n",
       "    <tr>\n",
       "      <th>6</th>\n",
       "      <td>1</td>\n",
       "      <td>1287</td>\n",
       "    </tr>\n",
       "    <tr>\n",
       "      <th>7</th>\n",
       "      <td>1</td>\n",
       "      <td>2804</td>\n",
       "    </tr>\n",
       "    <tr>\n",
       "      <th>12</th>\n",
       "      <td>1</td>\n",
       "      <td>2398</td>\n",
       "    </tr>\n",
       "    <tr>\n",
       "      <th>16</th>\n",
       "      <td>1</td>\n",
       "      <td>2687</td>\n",
       "    </tr>\n",
       "    <tr>\n",
       "      <th>...</th>\n",
       "      <td>...</td>\n",
       "      <td>...</td>\n",
       "    </tr>\n",
       "    <tr>\n",
       "      <th>1000196</th>\n",
       "      <td>6040</td>\n",
       "      <td>549</td>\n",
       "    </tr>\n",
       "    <tr>\n",
       "      <th>1000197</th>\n",
       "      <td>6040</td>\n",
       "      <td>2020</td>\n",
       "    </tr>\n",
       "    <tr>\n",
       "      <th>1000203</th>\n",
       "      <td>6040</td>\n",
       "      <td>1090</td>\n",
       "    </tr>\n",
       "    <tr>\n",
       "      <th>1000204</th>\n",
       "      <td>6040</td>\n",
       "      <td>1091</td>\n",
       "    </tr>\n",
       "    <tr>\n",
       "      <th>1000205</th>\n",
       "      <td>6040</td>\n",
       "      <td>1094</td>\n",
       "    </tr>\n",
       "  </tbody>\n",
       "</table>\n",
       "<p>250485 rows × 2 columns</p>\n",
       "</div>"
      ],
      "text/plain": [
       "         user_id  item_id\n",
       "1              1      661\n",
       "6              1     1287\n",
       "7              1     2804\n",
       "12             1     2398\n",
       "16             1     2687\n",
       "...          ...      ...\n",
       "1000196     6040      549\n",
       "1000197     6040     2020\n",
       "1000203     6040     1090\n",
       "1000204     6040     1091\n",
       "1000205     6040     1094\n",
       "\n",
       "[250485 rows x 2 columns]"
      ]
     },
     "execution_count": 57,
     "metadata": {},
     "output_type": "execute_result"
    }
   ],
   "source": [
    "interactions_valid"
   ]
  },
  {
   "cell_type": "code",
   "execution_count": 28,
   "metadata": {},
   "outputs": [
    {
     "name": "stdout",
     "output_type": "stream",
     "text": [
      "(250485,)\n"
     ]
    },
    {
     "data": {
      "text/plain": [
       "count    250437.000000\n",
       "mean          0.734158\n",
       "std           0.917342\n",
       "min          -3.192067\n",
       "25%           0.095812\n",
       "50%           0.725559\n",
       "75%           1.373034\n",
       "max           4.098247\n",
       "dtype: float64"
      ]
     },
     "execution_count": 28,
     "metadata": {},
     "output_type": "execute_result"
    }
   ],
   "source": [
    "valid_scores = model.predict(interactions_valid, cold_start='nan') \n",
    "print(valid_scores.shape)\n",
    "pd.Series(valid_scores).describe()"
   ]
  },
  {
   "cell_type": "markdown",
   "metadata": {},
   "source": [
    "#### Generate TopN Recommendations for Validation Users\n",
    "* instead of having to generate predictions for all user/item pairs the `recommend()` method lets you generate the topN recommended items for each user\n",
    "* the output is a pd.dataframe where the index values are `user_id` and the columns are recommended items in descending order (first column is best item)\n",
    "* additionally there's an option `filter_previous` to exclude any items already observed during training for the user from being recommended\n",
    "* as with `predict()` there's a `cold_start` option to either fill with missing or drop recommendations for any user not found in training"
   ]
  },
  {
   "cell_type": "code",
   "execution_count": 59,
   "metadata": {},
   "outputs": [
    {
     "data": {
      "text/plain": [
       "array([   1,    2,    3, ..., 6038, 6039, 6040])"
      ]
     },
     "execution_count": 59,
     "metadata": {},
     "output_type": "execute_result"
    }
   ],
   "source": [
    "valid_users"
   ]
  },
  {
   "cell_type": "code",
   "execution_count": 70,
   "metadata": {},
   "outputs": [],
   "source": [
    "dd=pd.DataFrame(data={\"data\":22},index={\"1\"})"
   ]
  },
  {
   "cell_type": "code",
   "execution_count": 73,
   "metadata": {},
   "outputs": [
    {
     "data": {
      "text/plain": [
       "array([[22]])"
      ]
     },
     "execution_count": 73,
     "metadata": {},
     "output_type": "execute_result"
    }
   ],
   "source": [
    "dd.values"
   ]
  },
  {
   "cell_type": "code",
   "execution_count": 75,
   "metadata": {},
   "outputs": [
    {
     "data": {
      "text/html": [
       "<div>\n",
       "<style scoped>\n",
       "    .dataframe tbody tr th:only-of-type {\n",
       "        vertical-align: middle;\n",
       "    }\n",
       "\n",
       "    .dataframe tbody tr th {\n",
       "        vertical-align: top;\n",
       "    }\n",
       "\n",
       "    .dataframe thead th {\n",
       "        text-align: right;\n",
       "    }\n",
       "</style>\n",
       "<table border=\"1\" class=\"dataframe\">\n",
       "  <thead>\n",
       "    <tr style=\"text-align: right;\">\n",
       "      <th></th>\n",
       "      <th>0</th>\n",
       "      <th>1</th>\n",
       "      <th>2</th>\n",
       "      <th>3</th>\n",
       "      <th>4</th>\n",
       "      <th>5</th>\n",
       "      <th>6</th>\n",
       "      <th>7</th>\n",
       "      <th>8</th>\n",
       "      <th>9</th>\n",
       "    </tr>\n",
       "  </thead>\n",
       "  <tbody>\n",
       "    <tr>\n",
       "      <th>22</th>\n",
       "      <td>1580</td>\n",
       "      <td>2571</td>\n",
       "      <td>780</td>\n",
       "      <td>2628</td>\n",
       "      <td>480</td>\n",
       "      <td>589</td>\n",
       "      <td>1391</td>\n",
       "      <td>1517</td>\n",
       "      <td>1676</td>\n",
       "      <td>1196</td>\n",
       "    </tr>\n",
       "  </tbody>\n",
       "</table>\n",
       "</div>"
      ],
      "text/plain": [
       "       0     1    2     3    4    5     6     7     8     9\n",
       "22  1580  2571  780  2628  480  589  1391  1517  1676  1196"
      ]
     },
     "execution_count": 75,
     "metadata": {},
     "output_type": "execute_result"
    }
   ],
   "source": [
    "model.recommend(dd.values[0])"
   ]
  },
  {
   "cell_type": "code",
   "execution_count": 29,
   "metadata": {},
   "outputs": [
    {
     "data": {
      "text/html": [
       "<div>\n",
       "<style scoped>\n",
       "    .dataframe tbody tr th:only-of-type {\n",
       "        vertical-align: middle;\n",
       "    }\n",
       "\n",
       "    .dataframe tbody tr th {\n",
       "        vertical-align: top;\n",
       "    }\n",
       "\n",
       "    .dataframe thead th {\n",
       "        text-align: right;\n",
       "    }\n",
       "</style>\n",
       "<table border=\"1\" class=\"dataframe\">\n",
       "  <thead>\n",
       "    <tr style=\"text-align: right;\">\n",
       "      <th></th>\n",
       "      <th>0</th>\n",
       "      <th>1</th>\n",
       "      <th>2</th>\n",
       "      <th>3</th>\n",
       "      <th>4</th>\n",
       "      <th>5</th>\n",
       "      <th>6</th>\n",
       "      <th>7</th>\n",
       "      <th>8</th>\n",
       "      <th>9</th>\n",
       "    </tr>\n",
       "  </thead>\n",
       "  <tbody>\n",
       "    <tr>\n",
       "      <th>1</th>\n",
       "      <td>1</td>\n",
       "      <td>364</td>\n",
       "      <td>34</td>\n",
       "      <td>318</td>\n",
       "      <td>2858</td>\n",
       "      <td>1704</td>\n",
       "      <td>2081</td>\n",
       "      <td>593</td>\n",
       "      <td>912</td>\n",
       "      <td>2396</td>\n",
       "    </tr>\n",
       "    <tr>\n",
       "      <th>2</th>\n",
       "      <td>527</td>\n",
       "      <td>1610</td>\n",
       "      <td>260</td>\n",
       "      <td>3418</td>\n",
       "      <td>733</td>\n",
       "      <td>590</td>\n",
       "      <td>150</td>\n",
       "      <td>377</td>\n",
       "      <td>1704</td>\n",
       "      <td>296</td>\n",
       "    </tr>\n",
       "    <tr>\n",
       "      <th>3</th>\n",
       "      <td>1197</td>\n",
       "      <td>1</td>\n",
       "      <td>2804</td>\n",
       "      <td>110</td>\n",
       "      <td>2791</td>\n",
       "      <td>2918</td>\n",
       "      <td>2028</td>\n",
       "      <td>2000</td>\n",
       "      <td>1387</td>\n",
       "      <td>2571</td>\n",
       "    </tr>\n",
       "    <tr>\n",
       "      <th>4</th>\n",
       "      <td>2571</td>\n",
       "      <td>1387</td>\n",
       "      <td>1210</td>\n",
       "      <td>1198</td>\n",
       "      <td>1196</td>\n",
       "      <td>858</td>\n",
       "      <td>924</td>\n",
       "      <td>2640</td>\n",
       "      <td>589</td>\n",
       "      <td>1221</td>\n",
       "    </tr>\n",
       "    <tr>\n",
       "      <th>5</th>\n",
       "      <td>2396</td>\n",
       "      <td>2336</td>\n",
       "      <td>2692</td>\n",
       "      <td>2599</td>\n",
       "      <td>223</td>\n",
       "      <td>3160</td>\n",
       "      <td>2318</td>\n",
       "      <td>2712</td>\n",
       "      <td>1041</td>\n",
       "      <td>2912</td>\n",
       "    </tr>\n",
       "  </tbody>\n",
       "</table>\n",
       "</div>"
      ],
      "text/plain": [
       "      0     1     2     3     4     5     6     7     8     9\n",
       "1     1   364    34   318  2858  1704  2081   593   912  2396\n",
       "2   527  1610   260  3418   733   590   150   377  1704   296\n",
       "3  1197     1  2804   110  2791  2918  2028  2000  1387  2571\n",
       "4  2571  1387  1210  1198  1196   858   924  2640   589  1221\n",
       "5  2396  2336  2692  2599   223  3160  2318  2712  1041  2912"
      ]
     },
     "execution_count": 29,
     "metadata": {},
     "output_type": "execute_result"
    }
   ],
   "source": [
    "valid_recommendations = model.recommend(valid_users, n_items=10, filter_previous=True, cold_start='nan')\n",
    "valid_recommendations.head()"
   ]
  },
  {
   "cell_type": "markdown",
   "metadata": {},
   "source": [
    "#### Evaluate Model Performance on the Validation Data"
   ]
  },
  {
   "cell_type": "markdown",
   "metadata": {},
   "source": [
    "##### Specify Number of Recommended Items\n",
    "* here we'll look at model performance in terms of validation metrics wrt the top 10 recommended items for each user\n",
    "* it's good to compare validation metrics against the best unpersonalized recommendations: overall item popularity rankings from the training data"
   ]
  },
  {
   "cell_type": "code",
   "execution_count": 44,
   "metadata": {},
   "outputs": [],
   "source": [
    "k = 10"
   ]
  },
  {
   "cell_type": "markdown",
   "metadata": {},
   "source": [
    "##### Generate Pure-Popularity Baselines"
   ]
  },
  {
   "cell_type": "code",
   "execution_count": 31,
   "metadata": {},
   "outputs": [
    {
     "data": {
      "text/plain": [
       "item_id\n",
       "2858    2545\n",
       "260     2254\n",
       "1196    2230\n",
       "1210    2178\n",
       "589     2002\n",
       "2028    1980\n",
       "480     1974\n",
       "1270    1939\n",
       "2571    1921\n",
       "608     1910\n",
       "Name: user_id, dtype: int64"
      ]
     },
     "execution_count": 31,
     "metadata": {},
     "output_type": "execute_result"
    }
   ],
   "source": [
    "most_popular = interactions_train.groupby('item_id')['user_id'].count().sort_values(ascending=False)[:k]\n",
    "most_popular"
   ]
  },
  {
   "cell_type": "code",
   "execution_count": 32,
   "metadata": {},
   "outputs": [
    {
     "name": "stdout",
     "output_type": "stream",
     "text": [
      "number of test users: 6038\n",
      "baseline hit rate: 0.635\n",
      "baseline precision: 0.116\n",
      "baseline recall: 0.046\n"
     ]
    }
   ],
   "source": [
    "test_user_items = interactions_valid.groupby('user_id')['item_id'].apply(set).to_dict()\n",
    "test_user_items = {key: val for key, val in test_user_items.items() if key in set(train_users)}\n",
    "\n",
    "base_hrt = np.mean([int(len(set(most_popular.index) & set(val)) > 0)                       for key, val in test_user_items.items()])\n",
    "base_pre = np.mean([len(set(most_popular.index) & set(val)) / len(set(most_popular.index)) for key, val in test_user_items.items()])\n",
    "base_rec = np.mean([len(set(most_popular.index) & set(val)) / len(set(val))                for key, val in test_user_items.items()])\n",
    "\n",
    "print(\"number of test users: {}\".format(len(test_user_items)))\n",
    "print(\"baseline hit rate: {:.3f}\".format(base_hrt))\n",
    "print(\"baseline precision: {:.3f}\".format(base_pre))\n",
    "print(\"baseline recall: {:.3f}\".format(base_rec))"
   ]
  },
  {
   "cell_type": "markdown",
   "metadata": {},
   "source": [
    "##### Generate Model Validation Metrics\n",
    "* the RankFM package comes with a number of utility functions to evaluate model performance\n",
    "* these functions cover common validation metrics for recommendation/ranking models with implicit feedback data\n",
    "* all evaluation functions have the same interface and require a previously fit RankFM model\n",
    "    * `hit_rate`: the proportion of users with any relevant recommended item\n",
    "    * `reciprocal_rank`: the inverse rank of the first relevant recommended item (or zero if no matches)\n",
    "    * `discounted_cumulative_gain`: the sum of the inverse log-scaled ranks for relevant recommended items\n",
    "    * `precision`: the number of relevant recommended items / number of recommended items\n",
    "    * `recall`: the number of relevant recommended items / number of relevant items"
   ]
  },
  {
   "cell_type": "code",
   "execution_count": 45,
   "metadata": {},
   "outputs": [],
   "source": [
    "def discounted_cumulative_gain(model, test_interactions, k=10, filter_previous=False):\n",
    "    \"\"\"evaluate discounted cumulative gain wrt out-of-sample observed interactions\n",
    "\n",
    "    :param model: trained RankFM model instance\n",
    "    :param test_interactions: pandas dataframe of out-of-sample observed user/item interactions\n",
    "    :param k: number of recommendations to generate for each user\n",
    "    :param filter_previous: remove observed training items from generated recommendations\n",
    "    :return: mean discounted cumulative gain wrt the test users\n",
    "    \"\"\"\n",
    "\n",
    "    # ensure that the model has been fit before attempting to generate predictions\n",
    "    assert model.is_fit, \"you must fit the model prior to evaluating hold-out metrics\"\n",
    "\n",
    "    # transform interactions into a user -> items dictionary\n",
    "    test_user_items = pd.DataFrame(get_data(test_interactions), columns=['user_id', 'item_id'])\n",
    "    test_user_items = test_user_items.groupby('user_id')['item_id'].apply(set).to_dict()\n",
    "    test_users = list(test_user_items.keys())\n",
    "\n",
    "    # generate topK recommendations for all test users also present in the training data\n",
    "    test_recs = model.recommend(users=test_users, n_items=k, filter_previous=filter_previous, cold_start='drop')\n",
    "    comm_user = test_recs.index.values\n",
    "\n",
    "    # calculate the discounted cumulative gain (sum of inverse log scaled ranks of relevant items) wrt common users\n",
    "    match_indexes = [np.where(test_recs.loc[u].isin(set(test_recs.loc[u]) & test_user_items[u]))[0] for u in comm_user]\n",
    "    discounted_cumulative_gain = np.mean([np.sum(1 / np.log2(index + 2)) if len(index) > 0 else 0 for index in match_indexes])\n",
    "    return discounted_cumulative_gain\n"
   ]
  },
  {
   "cell_type": "code",
   "execution_count": null,
   "metadata": {},
   "outputs": [],
   "source": []
  },
  {
   "cell_type": "code",
   "execution_count": null,
   "metadata": {},
   "outputs": [],
   "source": []
  },
  {
   "cell_type": "code",
   "execution_count": null,
   "metadata": {},
   "outputs": [],
   "source": []
  },
  {
   "cell_type": "code",
   "execution_count": 33,
   "metadata": {},
   "outputs": [
    {
     "name": "stdout",
     "output_type": "stream",
     "text": [
      "CPU times: user 26.1 s, sys: 439 ms, total: 26.5 s\n",
      "Wall time: 27 s\n"
     ]
    }
   ],
   "source": [
    "%%time\n",
    "model_hit_rate = hit_rate(model, interactions_valid, k=k)\n",
    "model_reciprocal_rank = reciprocal_rank(model, interactions_valid, k=k)\n",
    "model_dcg = discounted_cumulative_gain(model, interactions_valid, k=k)\n",
    "model_precision = precision(model, interactions_valid, k=k)\n",
    "model_recall = recall(model, interactions_valid, k=k)"
   ]
  },
  {
   "cell_type": "code",
   "execution_count": null,
   "metadata": {},
   "outputs": [],
   "source": []
  },
  {
   "cell_type": "code",
   "execution_count": 34,
   "metadata": {},
   "outputs": [
    {
     "name": "stdout",
     "output_type": "stream",
     "text": [
      "hit_rate: 0.798\n",
      "reciprocal_rank: 0.341\n",
      "dcg: 0.733\n",
      "precision: 0.159\n",
      "recall: 0.077\n"
     ]
    }
   ],
   "source": [
    "print(\"hit_rate: {:.3f}\".format(model_hit_rate))\n",
    "print(\"reciprocal_rank: {:.3f}\".format(model_reciprocal_rank))\n",
    "print(\"dcg: {:.3f}\".format(model_dcg, 3))\n",
    "print(\"precision: {:.3f}\".format(model_precision))\n",
    "print(\"recall: {:.3f}\".format(model_recall))"
   ]
  },
  {
   "cell_type": "markdown",
   "metadata": {},
   "source": [
    "#### Assess Recommendation Diversity\n",
    "* in addition to relevance, it's often important to assess the diversity of model recommendations\n",
    "* in other words, how many items are getting recommended overall, what's the percentage of users getting recommended the top items, etc.\n",
    "* this is an important component of personalization - high diversity will help prevent the harmful rich-get-richer feedback loop over time"
   ]
  },
  {
   "cell_type": "code",
   "execution_count": 35,
   "metadata": {},
   "outputs": [
    {
     "data": {
      "text/html": [
       "<div>\n",
       "<style scoped>\n",
       "    .dataframe tbody tr th:only-of-type {\n",
       "        vertical-align: middle;\n",
       "    }\n",
       "\n",
       "    .dataframe tbody tr th {\n",
       "        vertical-align: top;\n",
       "    }\n",
       "\n",
       "    .dataframe thead th {\n",
       "        text-align: right;\n",
       "    }\n",
       "</style>\n",
       "<table border=\"1\" class=\"dataframe\">\n",
       "  <thead>\n",
       "    <tr style=\"text-align: right;\">\n",
       "      <th></th>\n",
       "      <th>item_id</th>\n",
       "      <th>cnt_users</th>\n",
       "      <th>pct_users</th>\n",
       "    </tr>\n",
       "  </thead>\n",
       "  <tbody>\n",
       "    <tr>\n",
       "      <th>0</th>\n",
       "      <td>2858</td>\n",
       "      <td>2532</td>\n",
       "      <td>0.419344</td>\n",
       "    </tr>\n",
       "    <tr>\n",
       "      <th>1</th>\n",
       "      <td>2571</td>\n",
       "      <td>1868</td>\n",
       "      <td>0.309374</td>\n",
       "    </tr>\n",
       "    <tr>\n",
       "      <th>2</th>\n",
       "      <td>2762</td>\n",
       "      <td>1635</td>\n",
       "      <td>0.270785</td>\n",
       "    </tr>\n",
       "    <tr>\n",
       "      <th>3</th>\n",
       "      <td>1580</td>\n",
       "      <td>1390</td>\n",
       "      <td>0.230209</td>\n",
       "    </tr>\n",
       "    <tr>\n",
       "      <th>4</th>\n",
       "      <td>260</td>\n",
       "      <td>1372</td>\n",
       "      <td>0.227228</td>\n",
       "    </tr>\n",
       "    <tr>\n",
       "      <th>5</th>\n",
       "      <td>1210</td>\n",
       "      <td>1303</td>\n",
       "      <td>0.215800</td>\n",
       "    </tr>\n",
       "    <tr>\n",
       "      <th>6</th>\n",
       "      <td>1196</td>\n",
       "      <td>1277</td>\n",
       "      <td>0.211494</td>\n",
       "    </tr>\n",
       "    <tr>\n",
       "      <th>7</th>\n",
       "      <td>527</td>\n",
       "      <td>1169</td>\n",
       "      <td>0.193607</td>\n",
       "    </tr>\n",
       "    <tr>\n",
       "      <th>8</th>\n",
       "      <td>608</td>\n",
       "      <td>1055</td>\n",
       "      <td>0.174727</td>\n",
       "    </tr>\n",
       "    <tr>\n",
       "      <th>9</th>\n",
       "      <td>2997</td>\n",
       "      <td>995</td>\n",
       "      <td>0.164790</td>\n",
       "    </tr>\n",
       "  </tbody>\n",
       "</table>\n",
       "</div>"
      ],
      "text/plain": [
       "   item_id  cnt_users  pct_users\n",
       "0     2858       2532   0.419344\n",
       "1     2571       1868   0.309374\n",
       "2     2762       1635   0.270785\n",
       "3     1580       1390   0.230209\n",
       "4      260       1372   0.227228\n",
       "5     1210       1303   0.215800\n",
       "6     1196       1277   0.211494\n",
       "7      527       1169   0.193607\n",
       "8      608       1055   0.174727\n",
       "9     2997        995   0.164790"
      ]
     },
     "execution_count": 35,
     "metadata": {},
     "output_type": "execute_result"
    }
   ],
   "source": [
    "recommendation_diversity = diversity(model, interactions_valid, k=k)\n",
    "recommendation_diversity.head(10)"
   ]
  },
  {
   "cell_type": "code",
   "execution_count": 36,
   "metadata": {},
   "outputs": [
    {
     "data": {
      "text/html": [
       "<div>\n",
       "<style scoped>\n",
       "    .dataframe tbody tr th:only-of-type {\n",
       "        vertical-align: middle;\n",
       "    }\n",
       "\n",
       "    .dataframe tbody tr th {\n",
       "        vertical-align: top;\n",
       "    }\n",
       "\n",
       "    .dataframe thead th {\n",
       "        text-align: right;\n",
       "    }\n",
       "</style>\n",
       "<table border=\"1\" class=\"dataframe\">\n",
       "  <thead>\n",
       "    <tr style=\"text-align: right;\">\n",
       "      <th></th>\n",
       "      <th>item_id</th>\n",
       "      <th>cnt_users</th>\n",
       "      <th>pct_users</th>\n",
       "      <th>title</th>\n",
       "      <th>genres</th>\n",
       "    </tr>\n",
       "  </thead>\n",
       "  <tbody>\n",
       "    <tr>\n",
       "      <th>0</th>\n",
       "      <td>2858</td>\n",
       "      <td>2532</td>\n",
       "      <td>0.419344</td>\n",
       "      <td>American Beauty (1999)</td>\n",
       "      <td>Comedy|Drama</td>\n",
       "    </tr>\n",
       "    <tr>\n",
       "      <th>1</th>\n",
       "      <td>2571</td>\n",
       "      <td>1868</td>\n",
       "      <td>0.309374</td>\n",
       "      <td>Matrix, The (1999)</td>\n",
       "      <td>Action|Sci-Fi|Thriller</td>\n",
       "    </tr>\n",
       "    <tr>\n",
       "      <th>2</th>\n",
       "      <td>2762</td>\n",
       "      <td>1635</td>\n",
       "      <td>0.270785</td>\n",
       "      <td>Sixth Sense, The (1999)</td>\n",
       "      <td>Thriller</td>\n",
       "    </tr>\n",
       "    <tr>\n",
       "      <th>3</th>\n",
       "      <td>1580</td>\n",
       "      <td>1390</td>\n",
       "      <td>0.230209</td>\n",
       "      <td>Men in Black (1997)</td>\n",
       "      <td>Action|Adventure|Comedy|Sci-Fi</td>\n",
       "    </tr>\n",
       "    <tr>\n",
       "      <th>4</th>\n",
       "      <td>260</td>\n",
       "      <td>1372</td>\n",
       "      <td>0.227228</td>\n",
       "      <td>Star Wars: Episode IV - A New Hope (1977)</td>\n",
       "      <td>Action|Adventure|Fantasy|Sci-Fi</td>\n",
       "    </tr>\n",
       "    <tr>\n",
       "      <th>5</th>\n",
       "      <td>1210</td>\n",
       "      <td>1303</td>\n",
       "      <td>0.215800</td>\n",
       "      <td>Star Wars: Episode VI - Return of the Jedi (1983)</td>\n",
       "      <td>Action|Adventure|Romance|Sci-Fi|War</td>\n",
       "    </tr>\n",
       "    <tr>\n",
       "      <th>6</th>\n",
       "      <td>1196</td>\n",
       "      <td>1277</td>\n",
       "      <td>0.211494</td>\n",
       "      <td>Star Wars: Episode V - The Empire Strikes Back...</td>\n",
       "      <td>Action|Adventure|Drama|Sci-Fi|War</td>\n",
       "    </tr>\n",
       "    <tr>\n",
       "      <th>7</th>\n",
       "      <td>527</td>\n",
       "      <td>1169</td>\n",
       "      <td>0.193607</td>\n",
       "      <td>Schindler's List (1993)</td>\n",
       "      <td>Drama|War</td>\n",
       "    </tr>\n",
       "    <tr>\n",
       "      <th>8</th>\n",
       "      <td>608</td>\n",
       "      <td>1055</td>\n",
       "      <td>0.174727</td>\n",
       "      <td>Fargo (1996)</td>\n",
       "      <td>Crime|Drama|Thriller</td>\n",
       "    </tr>\n",
       "    <tr>\n",
       "      <th>9</th>\n",
       "      <td>2997</td>\n",
       "      <td>995</td>\n",
       "      <td>0.164790</td>\n",
       "      <td>Being John Malkovich (1999)</td>\n",
       "      <td>Comedy</td>\n",
       "    </tr>\n",
       "  </tbody>\n",
       "</table>\n",
       "</div>"
      ],
      "text/plain": [
       "   item_id  cnt_users  pct_users  \\\n",
       "0     2858       2532   0.419344   \n",
       "1     2571       1868   0.309374   \n",
       "2     2762       1635   0.270785   \n",
       "3     1580       1390   0.230209   \n",
       "4      260       1372   0.227228   \n",
       "5     1210       1303   0.215800   \n",
       "6     1196       1277   0.211494   \n",
       "7      527       1169   0.193607   \n",
       "8      608       1055   0.174727   \n",
       "9     2997        995   0.164790   \n",
       "\n",
       "                                               title  \\\n",
       "0                             American Beauty (1999)   \n",
       "1                                 Matrix, The (1999)   \n",
       "2                            Sixth Sense, The (1999)   \n",
       "3                                Men in Black (1997)   \n",
       "4          Star Wars: Episode IV - A New Hope (1977)   \n",
       "5  Star Wars: Episode VI - Return of the Jedi (1983)   \n",
       "6  Star Wars: Episode V - The Empire Strikes Back...   \n",
       "7                            Schindler's List (1993)   \n",
       "8                                       Fargo (1996)   \n",
       "9                        Being John Malkovich (1999)   \n",
       "\n",
       "                                genres  \n",
       "0                         Comedy|Drama  \n",
       "1               Action|Sci-Fi|Thriller  \n",
       "2                             Thriller  \n",
       "3       Action|Adventure|Comedy|Sci-Fi  \n",
       "4      Action|Adventure|Fantasy|Sci-Fi  \n",
       "5  Action|Adventure|Romance|Sci-Fi|War  \n",
       "6    Action|Adventure|Drama|Sci-Fi|War  \n",
       "7                            Drama|War  \n",
       "8                 Crime|Drama|Thriller  \n",
       "9                               Comedy  "
      ]
     },
     "execution_count": 36,
     "metadata": {},
     "output_type": "execute_result"
    }
   ],
   "source": [
    "top_items = pd.merge(item_names, recommendation_diversity, on='item_id', how='inner')\n",
    "top_items = top_items.set_index('item_id').loc[recommendation_diversity.item_id].reset_index()\n",
    "top_items = top_items[['item_id', 'cnt_users', 'pct_users', 'title', 'genres']]\n",
    "top_items.head(10)"
   ]
  },
  {
   "cell_type": "code",
   "execution_count": 37,
   "metadata": {},
   "outputs": [
    {
     "name": "stdout",
     "output_type": "stream",
     "text": [
      "percentage of items recommended to at least one user: 0.206\n"
     ]
    }
   ],
   "source": [
    "coverage = np.mean(recommendation_diversity['cnt_users'] > 0)\n",
    "print(\"percentage of items recommended to at least one user: {:.3f}\".format(coverage))"
   ]
  },
  {
   "cell_type": "code",
   "execution_count": 38,
   "metadata": {},
   "outputs": [
    {
     "name": "stdout",
     "output_type": "stream",
     "text": [
      "entropy value of recommended items: 41.375\n"
     ]
    }
   ],
   "source": [
    "nonzero_users = recommendation_diversity[recommendation_diversity.cnt_users > 0]\n",
    "entropy = -np.sum(nonzero_users['pct_users'] * np.log2(nonzero_users['pct_users']))\n",
    "print(\"entropy value of recommended items: {:.3f}\".format(entropy))"
   ]
  },
  {
   "cell_type": "code",
   "execution_count": 39,
   "metadata": {},
   "outputs": [
    {
     "data": {
      "image/png": "[encoded data removed]",
      "text/plain": [
       "<Figure size 1152x288 with 1 Axes>"
      ]
     },
     "metadata": {},
     "output_type": "display_data"
    }
   ],
   "source": [
    "N = 50\n",
    "fig, axes = plt.subplots(1, 1, figsize=[16, 4])\n",
    "\n",
    "topN = recommendation_diversity.iloc[:N, :]\n",
    "axes.bar(topN.index.values + 1, topN.pct_users, width=1, edgecolor='black', alpha=0.75)\n",
    "axes.set(xlabel='Item Rank', ylabel='Percentage of Users', title='Percentage of Users Recommended by Item Rank')\n",
    "plt.show()"
   ]
  },
  {
   "cell_type": "markdown",
   "metadata": {},
   "source": [
    "### Calculate the Most Similar Items to a Given Item\n",
    "* the model's representation of users/items in latent factor space allows for the calculation of item-item similarity with simple dot products\n",
    "* in many contexts it's useful to serve similar items either for user acceptance or for contextual recommendations \n",
    "* one example might be recommending the user a list of movies to watch next after he/she has just finished watching a given movie"
   ]
  },
  {
   "cell_type": "code",
   "execution_count": 40,
   "metadata": {},
   "outputs": [
    {
     "name": "stdout",
     "output_type": "stream",
     "text": [
      "random user: 467\n"
     ]
    }
   ],
   "source": [
    "random_user = np.random.choice(interactions_valid.user_id.unique())\n",
    "print(\"random user: {}\".format(random_user))"
   ]
  },
  {
   "cell_type": "code",
   "execution_count": 50,
   "metadata": {},
   "outputs": [
    {
     "data": {
      "text/html": [
       "<div>\n",
       "<style scoped>\n",
       "    .dataframe tbody tr th:only-of-type {\n",
       "        vertical-align: middle;\n",
       "    }\n",
       "\n",
       "    .dataframe tbody tr th {\n",
       "        vertical-align: top;\n",
       "    }\n",
       "\n",
       "    .dataframe thead th {\n",
       "        text-align: right;\n",
       "    }\n",
       "</style>\n",
       "<table border=\"1\" class=\"dataframe\">\n",
       "  <thead>\n",
       "    <tr style=\"text-align: right;\">\n",
       "      <th></th>\n",
       "      <th>item_id</th>\n",
       "      <th>title</th>\n",
       "      <th>genres</th>\n",
       "    </tr>\n",
       "  </thead>\n",
       "  <tbody>\n",
       "    <tr>\n",
       "      <th>0</th>\n",
       "      <td>1</td>\n",
       "      <td>Toy Story (1995)</td>\n",
       "      <td>Animation|Children's|Comedy</td>\n",
       "    </tr>\n",
       "    <tr>\n",
       "      <th>1</th>\n",
       "      <td>2</td>\n",
       "      <td>Jumanji (1995)</td>\n",
       "      <td>Adventure|Children's|Fantasy</td>\n",
       "    </tr>\n",
       "    <tr>\n",
       "      <th>2</th>\n",
       "      <td>3</td>\n",
       "      <td>Grumpier Old Men (1995)</td>\n",
       "      <td>Comedy|Romance</td>\n",
       "    </tr>\n",
       "    <tr>\n",
       "      <th>3</th>\n",
       "      <td>4</td>\n",
       "      <td>Waiting to Exhale (1995)</td>\n",
       "      <td>Comedy|Drama</td>\n",
       "    </tr>\n",
       "    <tr>\n",
       "      <th>4</th>\n",
       "      <td>5</td>\n",
       "      <td>Father of the Bride Part II (1995)</td>\n",
       "      <td>Comedy</td>\n",
       "    </tr>\n",
       "    <tr>\n",
       "      <th>...</th>\n",
       "      <td>...</td>\n",
       "      <td>...</td>\n",
       "      <td>...</td>\n",
       "    </tr>\n",
       "    <tr>\n",
       "      <th>3878</th>\n",
       "      <td>3948</td>\n",
       "      <td>Meet the Parents (2000)</td>\n",
       "      <td>Comedy</td>\n",
       "    </tr>\n",
       "    <tr>\n",
       "      <th>3879</th>\n",
       "      <td>3949</td>\n",
       "      <td>Requiem for a Dream (2000)</td>\n",
       "      <td>Drama</td>\n",
       "    </tr>\n",
       "    <tr>\n",
       "      <th>3880</th>\n",
       "      <td>3950</td>\n",
       "      <td>Tigerland (2000)</td>\n",
       "      <td>Drama</td>\n",
       "    </tr>\n",
       "    <tr>\n",
       "      <th>3881</th>\n",
       "      <td>3951</td>\n",
       "      <td>Two Family House (2000)</td>\n",
       "      <td>Drama</td>\n",
       "    </tr>\n",
       "    <tr>\n",
       "      <th>3882</th>\n",
       "      <td>3952</td>\n",
       "      <td>Contender, The (2000)</td>\n",
       "      <td>Drama|Thriller</td>\n",
       "    </tr>\n",
       "  </tbody>\n",
       "</table>\n",
       "<p>3883 rows × 3 columns</p>\n",
       "</div>"
      ],
      "text/plain": [
       "      item_id                               title  \\\n",
       "0           1                    Toy Story (1995)   \n",
       "1           2                      Jumanji (1995)   \n",
       "2           3             Grumpier Old Men (1995)   \n",
       "3           4            Waiting to Exhale (1995)   \n",
       "4           5  Father of the Bride Part II (1995)   \n",
       "...       ...                                 ...   \n",
       "3878     3948             Meet the Parents (2000)   \n",
       "3879     3949          Requiem for a Dream (2000)   \n",
       "3880     3950                    Tigerland (2000)   \n",
       "3881     3951             Two Family House (2000)   \n",
       "3882     3952               Contender, The (2000)   \n",
       "\n",
       "                            genres  \n",
       "0      Animation|Children's|Comedy  \n",
       "1     Adventure|Children's|Fantasy  \n",
       "2                   Comedy|Romance  \n",
       "3                     Comedy|Drama  \n",
       "4                           Comedy  \n",
       "...                            ...  \n",
       "3878                        Comedy  \n",
       "3879                         Drama  \n",
       "3880                         Drama  \n",
       "3881                         Drama  \n",
       "3882                Drama|Thriller  \n",
       "\n",
       "[3883 rows x 3 columns]"
      ]
     },
     "execution_count": 50,
     "metadata": {},
     "output_type": "execute_result"
    }
   ],
   "source": [
    "item_names"
   ]
  },
  {
   "cell_type": "code",
   "execution_count": 51,
   "metadata": {},
   "outputs": [
    {
     "data": {
      "text/html": [
       "<div>\n",
       "<style scoped>\n",
       "    .dataframe tbody tr th:only-of-type {\n",
       "        vertical-align: middle;\n",
       "    }\n",
       "\n",
       "    .dataframe tbody tr th {\n",
       "        vertical-align: top;\n",
       "    }\n",
       "\n",
       "    .dataframe thead th {\n",
       "        text-align: right;\n",
       "    }\n",
       "</style>\n",
       "<table border=\"1\" class=\"dataframe\">\n",
       "  <thead>\n",
       "    <tr style=\"text-align: right;\">\n",
       "      <th></th>\n",
       "      <th>user_id</th>\n",
       "      <th>item_id</th>\n",
       "      <th>rating</th>\n",
       "      <th>random</th>\n",
       "      <th>title</th>\n",
       "      <th>genres</th>\n",
       "    </tr>\n",
       "  </thead>\n",
       "  <tbody>\n",
       "    <tr>\n",
       "      <th>0</th>\n",
       "      <td>467</td>\n",
       "      <td>1250</td>\n",
       "      <td>1</td>\n",
       "      <td>0.681974</td>\n",
       "      <td>Bridge on the River Kwai, The (1957)</td>\n",
       "      <td>Drama|War</td>\n",
       "    </tr>\n",
       "    <tr>\n",
       "      <th>1</th>\n",
       "      <td>467</td>\n",
       "      <td>1259</td>\n",
       "      <td>4</td>\n",
       "      <td>0.924251</td>\n",
       "      <td>Stand by Me (1986)</td>\n",
       "      <td>Adventure|Comedy|Drama</td>\n",
       "    </tr>\n",
       "    <tr>\n",
       "      <th>2</th>\n",
       "      <td>467</td>\n",
       "      <td>587</td>\n",
       "      <td>4</td>\n",
       "      <td>0.969752</td>\n",
       "      <td>Ghost (1990)</td>\n",
       "      <td>Comedy|Romance|Thriller</td>\n",
       "    </tr>\n",
       "    <tr>\n",
       "      <th>3</th>\n",
       "      <td>467</td>\n",
       "      <td>1</td>\n",
       "      <td>4</td>\n",
       "      <td>0.550595</td>\n",
       "      <td>Toy Story (1995)</td>\n",
       "      <td>Animation|Children's|Comedy</td>\n",
       "    </tr>\n",
       "    <tr>\n",
       "      <th>4</th>\n",
       "      <td>467</td>\n",
       "      <td>3</td>\n",
       "      <td>4</td>\n",
       "      <td>0.027778</td>\n",
       "      <td>Grumpier Old Men (1995)</td>\n",
       "      <td>Comedy|Romance</td>\n",
       "    </tr>\n",
       "    <tr>\n",
       "      <th>...</th>\n",
       "      <td>...</td>\n",
       "      <td>...</td>\n",
       "      <td>...</td>\n",
       "      <td>...</td>\n",
       "      <td>...</td>\n",
       "      <td>...</td>\n",
       "    </tr>\n",
       "    <tr>\n",
       "      <th>64</th>\n",
       "      <td>467</td>\n",
       "      <td>3751</td>\n",
       "      <td>3</td>\n",
       "      <td>0.827475</td>\n",
       "      <td>Chicken Run (2000)</td>\n",
       "      <td>Animation|Children's|Comedy</td>\n",
       "    </tr>\n",
       "    <tr>\n",
       "      <th>65</th>\n",
       "      <td>467</td>\n",
       "      <td>1210</td>\n",
       "      <td>1</td>\n",
       "      <td>0.517528</td>\n",
       "      <td>Star Wars: Episode VI - Return of the Jedi (1983)</td>\n",
       "      <td>Action|Adventure|Romance|Sci-Fi|War</td>\n",
       "    </tr>\n",
       "    <tr>\n",
       "      <th>66</th>\n",
       "      <td>467</td>\n",
       "      <td>2959</td>\n",
       "      <td>1</td>\n",
       "      <td>0.529030</td>\n",
       "      <td>Fight Club (1999)</td>\n",
       "      <td>Drama</td>\n",
       "    </tr>\n",
       "    <tr>\n",
       "      <th>67</th>\n",
       "      <td>467</td>\n",
       "      <td>1092</td>\n",
       "      <td>5</td>\n",
       "      <td>0.591968</td>\n",
       "      <td>Basic Instinct (1992)</td>\n",
       "      <td>Mystery|Thriller</td>\n",
       "    </tr>\n",
       "    <tr>\n",
       "      <th>68</th>\n",
       "      <td>467</td>\n",
       "      <td>708</td>\n",
       "      <td>3</td>\n",
       "      <td>0.033315</td>\n",
       "      <td>Truth About Cats &amp; Dogs, The (1996)</td>\n",
       "      <td>Comedy|Romance</td>\n",
       "    </tr>\n",
       "  </tbody>\n",
       "</table>\n",
       "<p>69 rows × 6 columns</p>\n",
       "</div>"
      ],
      "text/plain": [
       "    user_id  item_id  rating    random  \\\n",
       "0       467     1250       1  0.681974   \n",
       "1       467     1259       4  0.924251   \n",
       "2       467      587       4  0.969752   \n",
       "3       467        1       4  0.550595   \n",
       "4       467        3       4  0.027778   \n",
       "..      ...      ...     ...       ...   \n",
       "64      467     3751       3  0.827475   \n",
       "65      467     1210       1  0.517528   \n",
       "66      467     2959       1  0.529030   \n",
       "67      467     1092       5  0.591968   \n",
       "68      467      708       3  0.033315   \n",
       "\n",
       "                                                title  \\\n",
       "0                Bridge on the River Kwai, The (1957)   \n",
       "1                                  Stand by Me (1986)   \n",
       "2                                        Ghost (1990)   \n",
       "3                                    Toy Story (1995)   \n",
       "4                             Grumpier Old Men (1995)   \n",
       "..                                                ...   \n",
       "64                                 Chicken Run (2000)   \n",
       "65  Star Wars: Episode VI - Return of the Jedi (1983)   \n",
       "66                                  Fight Club (1999)   \n",
       "67                              Basic Instinct (1992)   \n",
       "68                Truth About Cats & Dogs, The (1996)   \n",
       "\n",
       "                                 genres  \n",
       "0                             Drama|War  \n",
       "1                Adventure|Comedy|Drama  \n",
       "2               Comedy|Romance|Thriller  \n",
       "3           Animation|Children's|Comedy  \n",
       "4                        Comedy|Romance  \n",
       "..                                  ...  \n",
       "64          Animation|Children's|Comedy  \n",
       "65  Action|Adventure|Romance|Sci-Fi|War  \n",
       "66                                Drama  \n",
       "67                     Mystery|Thriller  \n",
       "68                       Comedy|Romance  \n",
       "\n",
       "[69 rows x 6 columns]"
      ]
     },
     "execution_count": 51,
     "metadata": {},
     "output_type": "execute_result"
    }
   ],
   "source": [
    "pd.merge(interactions[interactions.user_id==467], item_names, on=\"item_id\")"
   ]
  },
  {
   "cell_type": "code",
   "execution_count": 41,
   "metadata": {},
   "outputs": [
    {
     "data": {
      "text/html": [
       "<div>\n",
       "<style scoped>\n",
       "    .dataframe tbody tr th:only-of-type {\n",
       "        vertical-align: middle;\n",
       "    }\n",
       "\n",
       "    .dataframe tbody tr th {\n",
       "        vertical-align: top;\n",
       "    }\n",
       "\n",
       "    .dataframe thead th {\n",
       "        text-align: right;\n",
       "    }\n",
       "</style>\n",
       "<table border=\"1\" class=\"dataframe\">\n",
       "  <thead>\n",
       "    <tr style=\"text-align: right;\">\n",
       "      <th></th>\n",
       "      <th>title</th>\n",
       "      <th>genres</th>\n",
       "    </tr>\n",
       "    <tr>\n",
       "      <th>item_id</th>\n",
       "      <th></th>\n",
       "      <th></th>\n",
       "    </tr>\n",
       "  </thead>\n",
       "  <tbody>\n",
       "    <tr>\n",
       "      <th>110</th>\n",
       "      <td>Braveheart (1995)</td>\n",
       "      <td>Action|Drama|War</td>\n",
       "    </tr>\n",
       "    <tr>\n",
       "      <th>457</th>\n",
       "      <td>Fugitive, The (1993)</td>\n",
       "      <td>Action|Thriller</td>\n",
       "    </tr>\n",
       "    <tr>\n",
       "      <th>2291</th>\n",
       "      <td>Edward Scissorhands (1990)</td>\n",
       "      <td>Drama|Romance</td>\n",
       "    </tr>\n",
       "    <tr>\n",
       "      <th>2762</th>\n",
       "      <td>Sixth Sense, The (1999)</td>\n",
       "      <td>Thriller</td>\n",
       "    </tr>\n",
       "    <tr>\n",
       "      <th>2028</th>\n",
       "      <td>Saving Private Ryan (1998)</td>\n",
       "      <td>Action|Drama|War</td>\n",
       "    </tr>\n",
       "    <tr>\n",
       "      <th>1265</th>\n",
       "      <td>Groundhog Day (1993)</td>\n",
       "      <td>Comedy|Romance</td>\n",
       "    </tr>\n",
       "    <tr>\n",
       "      <th>1704</th>\n",
       "      <td>Good Will Hunting (1997)</td>\n",
       "      <td>Drama</td>\n",
       "    </tr>\n",
       "    <tr>\n",
       "      <th>539</th>\n",
       "      <td>Sleepless in Seattle (1993)</td>\n",
       "      <td>Comedy|Romance</td>\n",
       "    </tr>\n",
       "    <tr>\n",
       "      <th>1307</th>\n",
       "      <td>When Harry Met Sally... (1989)</td>\n",
       "      <td>Comedy|Romance</td>\n",
       "    </tr>\n",
       "    <tr>\n",
       "      <th>587</th>\n",
       "      <td>Ghost (1990)</td>\n",
       "      <td>Comedy|Romance|Thriller</td>\n",
       "    </tr>\n",
       "  </tbody>\n",
       "</table>\n",
       "</div>"
      ],
      "text/plain": [
       "                                  title                   genres\n",
       "item_id                                                         \n",
       "110                   Braveheart (1995)         Action|Drama|War\n",
       "457                Fugitive, The (1993)          Action|Thriller\n",
       "2291         Edward Scissorhands (1990)            Drama|Romance\n",
       "2762            Sixth Sense, The (1999)                 Thriller\n",
       "2028         Saving Private Ryan (1998)         Action|Drama|War\n",
       "1265               Groundhog Day (1993)           Comedy|Romance\n",
       "1704           Good Will Hunting (1997)                    Drama\n",
       "539         Sleepless in Seattle (1993)           Comedy|Romance\n",
       "1307     When Harry Met Sally... (1989)           Comedy|Romance\n",
       "587                        Ghost (1990)  Comedy|Romance|Thriller"
      ]
     },
     "execution_count": 41,
     "metadata": {},
     "output_type": "execute_result"
    }
   ],
   "source": [
    "random_user_recs = valid_recommendations.loc[random_user]\n",
    "random_user_recs = item_names[item_names.item_id.isin(random_user_recs)].set_index('item_id').loc[random_user_recs]\n",
    "random_user_recs"
   ]
  },
  {
   "cell_type": "markdown",
   "metadata": {},
   "source": [
    "#### Look at Similar Movies for a Few of the User's Recommended Movies"
   ]
  },
  {
   "cell_type": "code",
   "execution_count": null,
   "metadata": {},
   "outputs": [],
   "source": []
  },
  {
   "cell_type": "code",
   "execution_count": 53,
   "metadata": {},
   "outputs": [
    {
     "data": {
      "text/html": [
       "<div>\n",
       "<style scoped>\n",
       "    .dataframe tbody tr th:only-of-type {\n",
       "        vertical-align: middle;\n",
       "    }\n",
       "\n",
       "    .dataframe tbody tr th {\n",
       "        vertical-align: top;\n",
       "    }\n",
       "\n",
       "    .dataframe thead th {\n",
       "        text-align: right;\n",
       "    }\n",
       "</style>\n",
       "<table border=\"1\" class=\"dataframe\">\n",
       "  <thead>\n",
       "    <tr style=\"text-align: right;\">\n",
       "      <th></th>\n",
       "      <th>title</th>\n",
       "      <th>genres</th>\n",
       "    </tr>\n",
       "    <tr>\n",
       "      <th>item_id</th>\n",
       "      <th></th>\n",
       "      <th></th>\n",
       "    </tr>\n",
       "  </thead>\n",
       "  <tbody>\n",
       "    <tr>\n",
       "      <th>1869</th>\n",
       "      <td>Black Dog (1998)</td>\n",
       "      <td>Action|Thriller</td>\n",
       "    </tr>\n",
       "    <tr>\n",
       "      <th>990</th>\n",
       "      <td>Maximum Risk (1996)</td>\n",
       "      <td>Action|Adventure|Thriller</td>\n",
       "    </tr>\n",
       "    <tr>\n",
       "      <th>208</th>\n",
       "      <td>Waterworld (1995)</td>\n",
       "      <td>Action|Adventure</td>\n",
       "    </tr>\n",
       "    <tr>\n",
       "      <th>704</th>\n",
       "      <td>Quest, The (1996)</td>\n",
       "      <td>Action|Adventure</td>\n",
       "    </tr>\n",
       "    <tr>\n",
       "      <th>2334</th>\n",
       "      <td>Siege, The (1998)</td>\n",
       "      <td>Action|Thriller</td>\n",
       "    </tr>\n",
       "    <tr>\n",
       "      <th>204</th>\n",
       "      <td>Under Siege 2: Dark Territory (1995)</td>\n",
       "      <td>Action</td>\n",
       "    </tr>\n",
       "    <tr>\n",
       "      <th>20</th>\n",
       "      <td>Money Train (1995)</td>\n",
       "      <td>Action</td>\n",
       "    </tr>\n",
       "    <tr>\n",
       "      <th>1744</th>\n",
       "      <td>Firestorm (1998)</td>\n",
       "      <td>Action|Adventure|Thriller</td>\n",
       "    </tr>\n",
       "    <tr>\n",
       "      <th>886</th>\n",
       "      <td>Bulletproof (1996)</td>\n",
       "      <td>Action</td>\n",
       "    </tr>\n",
       "    <tr>\n",
       "      <th>44</th>\n",
       "      <td>Mortal Kombat (1995)</td>\n",
       "      <td>Action|Adventure</td>\n",
       "    </tr>\n",
       "  </tbody>\n",
       "</table>\n",
       "</div>"
      ],
      "text/plain": [
       "                                        title                     genres\n",
       "item_id                                                                 \n",
       "1869                         Black Dog (1998)            Action|Thriller\n",
       "990                       Maximum Risk (1996)  Action|Adventure|Thriller\n",
       "208                         Waterworld (1995)           Action|Adventure\n",
       "704                         Quest, The (1996)           Action|Adventure\n",
       "2334                        Siege, The (1998)            Action|Thriller\n",
       "204      Under Siege 2: Dark Territory (1995)                     Action\n",
       "20                         Money Train (1995)                     Action\n",
       "1744                         Firestorm (1998)  Action|Adventure|Thriller\n",
       "886                        Bulletproof (1996)                     Action\n",
       "44                       Mortal Kombat (1995)           Action|Adventure"
      ]
     },
     "execution_count": 53,
     "metadata": {},
     "output_type": "execute_result"
    }
   ],
   "source": [
    "most_similar_items = model.similar_items(227) #919\n",
    "most_similar_items = item_names.set_index('item_id').loc[most_similar_items]\n",
    "most_similar_items"
   ]
  },
  {
   "cell_type": "code",
   "execution_count": 43,
   "metadata": {},
   "outputs": [
    {
     "data": {
      "text/html": [
       "<div>\n",
       "<style scoped>\n",
       "    .dataframe tbody tr th:only-of-type {\n",
       "        vertical-align: middle;\n",
       "    }\n",
       "\n",
       "    .dataframe tbody tr th {\n",
       "        vertical-align: top;\n",
       "    }\n",
       "\n",
       "    .dataframe thead th {\n",
       "        text-align: right;\n",
       "    }\n",
       "</style>\n",
       "<table border=\"1\" class=\"dataframe\">\n",
       "  <thead>\n",
       "    <tr style=\"text-align: right;\">\n",
       "      <th></th>\n",
       "      <th>title</th>\n",
       "      <th>genres</th>\n",
       "    </tr>\n",
       "    <tr>\n",
       "      <th>item_id</th>\n",
       "      <th></th>\n",
       "      <th></th>\n",
       "    </tr>\n",
       "  </thead>\n",
       "  <tbody>\n",
       "    <tr>\n",
       "      <th>318</th>\n",
       "      <td>Shawshank Redemption, The (1994)</td>\n",
       "      <td>Drama</td>\n",
       "    </tr>\n",
       "    <tr>\n",
       "      <th>110</th>\n",
       "      <td>Braveheart (1995)</td>\n",
       "      <td>Action|Drama|War</td>\n",
       "    </tr>\n",
       "    <tr>\n",
       "      <th>1704</th>\n",
       "      <td>Good Will Hunting (1997)</td>\n",
       "      <td>Drama</td>\n",
       "    </tr>\n",
       "    <tr>\n",
       "      <th>457</th>\n",
       "      <td>Fugitive, The (1993)</td>\n",
       "      <td>Action|Thriller</td>\n",
       "    </tr>\n",
       "    <tr>\n",
       "      <th>2501</th>\n",
       "      <td>October Sky (1999)</td>\n",
       "      <td>Drama</td>\n",
       "    </tr>\n",
       "    <tr>\n",
       "      <th>3147</th>\n",
       "      <td>Green Mile, The (1999)</td>\n",
       "      <td>Drama|Thriller</td>\n",
       "    </tr>\n",
       "    <tr>\n",
       "      <th>527</th>\n",
       "      <td>Schindler's List (1993)</td>\n",
       "      <td>Drama|War</td>\n",
       "    </tr>\n",
       "    <tr>\n",
       "      <th>1213</th>\n",
       "      <td>GoodFellas (1990)</td>\n",
       "      <td>Crime|Drama</td>\n",
       "    </tr>\n",
       "    <tr>\n",
       "      <th>2762</th>\n",
       "      <td>Sixth Sense, The (1999)</td>\n",
       "      <td>Thriller</td>\n",
       "    </tr>\n",
       "    <tr>\n",
       "      <th>608</th>\n",
       "      <td>Fargo (1996)</td>\n",
       "      <td>Crime|Drama|Thriller</td>\n",
       "    </tr>\n",
       "  </tbody>\n",
       "</table>\n",
       "</div>"
      ],
      "text/plain": [
       "                                    title                genres\n",
       "item_id                                                        \n",
       "318      Shawshank Redemption, The (1994)                 Drama\n",
       "110                     Braveheart (1995)      Action|Drama|War\n",
       "1704             Good Will Hunting (1997)                 Drama\n",
       "457                  Fugitive, The (1993)       Action|Thriller\n",
       "2501                   October Sky (1999)                 Drama\n",
       "3147               Green Mile, The (1999)        Drama|Thriller\n",
       "527               Schindler's List (1993)             Drama|War\n",
       "1213                    GoodFellas (1990)           Crime|Drama\n",
       "2762              Sixth Sense, The (1999)              Thriller\n",
       "608                          Fargo (1996)  Crime|Drama|Thriller"
      ]
     },
     "execution_count": 43,
     "metadata": {},
     "output_type": "execute_result"
    }
   ],
   "source": [
    "most_similar_items = model.similar_items(2028)\n",
    "most_similar_items = item_names.set_index('item_id').loc[most_similar_items]\n",
    "most_similar_items"
   ]
  },
  {
   "cell_type": "code",
   "execution_count": null,
   "metadata": {},
   "outputs": [],
   "source": []
  }
 ],
 "metadata": {
  "kernelspec": {
   "display_name": "Python 3",
   "language": "python",
   "name": "python3"
  },
  "language_info": {
   "codemirror_mode": {
    "name": "ipython",
    "version": 3
   },
   "file_extension": ".py",
   "mimetype": "text/x-python",
   "name": "python",
   "nbconvert_exporter": "python",
   "pygments_lexer": "ipython3",
   "version": "3.7.10"
  }
 },
 "nbformat": 4,
 "nbformat_minor": 4
}
